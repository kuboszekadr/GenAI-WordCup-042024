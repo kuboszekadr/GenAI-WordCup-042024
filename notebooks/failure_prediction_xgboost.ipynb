{
 "cells": [
  {
   "cell_type": "markdown",
   "source": [
    "According to notebook - https://www.kaggle.com/code/c1trus/azure-maint/notebook"
   ],
   "metadata": {
    "collapsed": false
   }
  },
  {
   "cell_type": "markdown",
   "source": [
    "# Load\n"
   ],
   "metadata": {
    "collapsed": false
   }
  },
  {
   "cell_type": "code",
   "execution_count": null,
   "outputs": [],
   "source": [
    "import pandas as pd\n",
    "import os\n",
    "\n",
    "\n",
    "dataset_path = os.path.join(\"..\",\"dataset\",\"Azure Predictive Maintenance\")\n",
    "\n",
    "telemetry = pd.read_csv(os.path.join(dataset_path,'PdM_telemetry.csv'))\n",
    "errors = pd.read_csv(os.path.join(dataset_path,'PdM_errors.csv'))\n",
    "maint = pd.read_csv(os.path.join(dataset_path,'PdM_maint.csv'))\n",
    "failures = pd.read_csv(os.path.join(dataset_path,'PdM_failures.csv'))\n",
    "machines = pd.read_csv(os.path.join(dataset_path,'PdM_machines.csv'))"
   ],
   "metadata": {
    "collapsed": false
   }
  },
  {
   "cell_type": "markdown",
   "source": [
    "## Data preparation"
   ],
   "metadata": {
    "collapsed": false
   }
  },
  {
   "cell_type": "code",
   "execution_count": null,
   "outputs": [],
   "source": [
    "telemetry['temperature'] = telemetry['rotate']\n",
    "telemetry = telemetry.drop(columns='rotate')\n",
    "\n",
    "telemetry['datetime'] = pd.to_datetime(\n",
    "    telemetry['datetime'], format=\"%Y-%m-%d %H:%M:%S\")\n",
    "\n",
    "print(\"Total number of telemetry records: %d\" % len(telemetry.index))\n",
    "\n",
    "telemetry.describe()"
   ],
   "metadata": {
    "collapsed": false
   }
  },
  {
   "cell_type": "code",
   "execution_count": null,
   "outputs": [],
   "source": [
    "errors['datetime'] = pd.to_datetime(\n",
    "    errors['datetime'], format=\"%Y-%m-%d %H:%M:%S\")\n",
    "errors['errorID'] = errors['errorID'].astype('object')\n",
    "\n",
    "print(\"Total number of error records: %d\" % len(errors.index))\n",
    "errors.head()"
   ],
   "metadata": {
    "collapsed": false
   }
  },
  {
   "cell_type": "code",
   "execution_count": null,
   "outputs": [],
   "source": [
    "maint['datetime'] = pd.to_datetime(\n",
    "    maint['datetime'], format=\"%Y-%m-%d %H:%M:%S\")\n",
    "maint['comp'] = maint['comp'].astype('object')\n",
    "\n",
    "print(\"Total number of maintenance records: %d\" % len(maint.index))\n",
    "maint.head()"
   ],
   "metadata": {
    "collapsed": false
   }
  },
  {
   "cell_type": "code",
   "execution_count": null,
   "outputs": [],
   "source": [
    "machines['model'] = machines['model'].astype('object')\n",
    "\n",
    "print(\"Total number of machines: %d\" % len(machines.index))\n",
    "machines.head()"
   ],
   "metadata": {
    "collapsed": false
   }
  },
  {
   "cell_type": "code",
   "execution_count": null,
   "outputs": [],
   "source": [
    "failures['datetime'] = pd.to_datetime(\n",
    "    failures['datetime'], format=\"%Y-%m-%d %H:%M:%S\")\n",
    "failures['failure'] = failures['failure'].astype('object')\n",
    "\n",
    "print(\"Total number of failures: %d\" % len(failures.index))\n",
    "failures.head()"
   ],
   "metadata": {
    "collapsed": false
   }
  },
  {
   "cell_type": "markdown",
   "source": [
    "# Feature Engineering"
   ],
   "metadata": {
    "collapsed": false
   }
  },
  {
   "cell_type": "code",
   "execution_count": null,
   "outputs": [],
   "source": [
    "fields = ['volt', 'temperature', 'pressure', 'vibration']\n"
   ],
   "metadata": {
    "collapsed": false
   }
  },
  {
   "cell_type": "markdown",
   "source": [
    "## Identifying Lag Features from Telemetry Data on a window of 24 hours\n"
   ],
   "metadata": {
    "collapsed": false
   }
  },
  {
   "cell_type": "code",
   "execution_count": null,
   "outputs": [],
   "source": [
    "temp = []\n",
    "for col in fields:\n",
    "    temp.append(pd.pivot_table(telemetry,\n",
    "                               index='datetime',\n",
    "                               columns='machineID',\n",
    "                               values=col).resample('3H', closed='left', label='right').mean().unstack())\n",
    "telemetry_mean_3h = pd.concat(temp, axis=1)\n",
    "telemetry_mean_3h.columns = [i + 'mean_3h' for i in fields]\n",
    "telemetry_mean_3h.reset_index(inplace=True)\n",
    "\n",
    "\n",
    "temp = []\n",
    "\n",
    "for col in fields:\n",
    "    temp.append(pd.pivot_table(telemetry,\n",
    "                               index='datetime',\n",
    "                               columns='machineID',\n",
    "                               values=col).resample('3H', closed='left', label='right').std().unstack())\n",
    "telemetry_sd_3h = pd.concat(temp, axis=1)\n",
    "telemetry_sd_3h.columns = [i + 'sd_3h' for i in fields]\n",
    "telemetry_sd_3h.reset_index(inplace=True)\n",
    "\n",
    "telemetry_mean_3h.head()"
   ],
   "metadata": {
    "collapsed": false
   }
  },
  {
   "cell_type": "code",
   "execution_count": null,
   "outputs": [],
   "source": [
    "temp = []\n",
    "fields = ['volt', 'temperature', 'pressure', 'vibration']\n",
    "for col in fields:\n",
    "    temp.append(pd.pivot_table(telemetry,\n",
    "                                               index='datetime',\n",
    "                                               columns='machineID',\n",
    "                                               values=col).resample('3H',closed='left',\n",
    "                                                                                label='right',\n",
    "                                                                                ).first().unstack().rolling(window=24, center=False).mean())\n",
    "telemetry_mean_24h = pd.concat(temp, axis=1)\n",
    "telemetry_mean_24h.columns = [i + 'mean_24h' for i in fields]\n",
    "telemetry_mean_24h.reset_index(inplace=True)\n",
    "telemetry_mean_24h = telemetry_mean_24h.loc[-telemetry_mean_24h['voltmean_24h'].isnull()]\n",
    "\n",
    "temp = []\n",
    "for col in fields:\n",
    "    temp.append(pd.pivot_table(telemetry,\n",
    "                                              index='datetime',\n",
    "                                              columns='machineID',\n",
    "                                              values=col).resample('3H',\n",
    "                                                                               closed='left',\n",
    "                                                                               label='right',\n",
    "                                                                               ).first().unstack().rolling(window=24, center=False).std())\n",
    "telemetry_sd_24h = pd.concat(temp, axis=1)\n",
    "telemetry_sd_24h.columns = [i + 'sd_24h' for i in fields]\n",
    "telemetry_sd_24h.reset_index(inplace=True)\n",
    "telemetry_sd_24h = telemetry_sd_24h.loc[-telemetry_sd_24h['voltsd_24h'].isnull()]\n",
    "\n",
    "telemetry_mean_24h.head(10)"
   ],
   "metadata": {
    "collapsed": false
   }
  },
  {
   "cell_type": "code",
   "execution_count": null,
   "outputs": [],
   "source": [
    "telemetry_feat = pd.concat([telemetry_mean_3h,\n",
    "                            telemetry_sd_3h.iloc[:, 2:6],\n",
    "                            telemetry_mean_24h.iloc[:, 2:6],\n",
    "                            telemetry_sd_24h.iloc[:, 2:6]], axis=1).dropna()\n",
    "telemetry_feat.describe()"
   ],
   "metadata": {
    "collapsed": false
   }
  },
  {
   "cell_type": "code",
   "execution_count": null,
   "outputs": [],
   "source": [
    "telemetry_feat.head()\n"
   ],
   "metadata": {
    "collapsed": false
   }
  },
  {
   "cell_type": "markdown",
   "source": [
    "## Identifying Lag Features from Error Data on a window of 24 hours"
   ],
   "metadata": {
    "collapsed": false
   }
  },
  {
   "cell_type": "code",
   "execution_count": null,
   "outputs": [],
   "source": [
    "error_count = pd.get_dummies(errors.set_index('datetime')).reset_index()\n",
    "error_count.columns = ['datetime', 'machineID',\n",
    "                       'error1', 'error2', 'error3', 'error4', 'error5']"
   ],
   "metadata": {
    "collapsed": false
   }
  },
  {
   "cell_type": "code",
   "execution_count": null,
   "outputs": [],
   "source": [
    "error_count.head(10)\n"
   ],
   "metadata": {
    "collapsed": false
   }
  },
  {
   "cell_type": "code",
   "execution_count": null,
   "outputs": [],
   "source": [
    "error_count = telemetry[['datetime', 'machineID']].merge(\n",
    "    error_count, on=['machineID', 'datetime'], how='left').fillna(0.0)\n",
    "error_count.describe()\n"
   ],
   "metadata": {
    "collapsed": false
   }
  },
  {
   "cell_type": "code",
   "execution_count": 61,
   "outputs": [
    {
     "name": "stderr",
     "output_type": "stream",
     "text": [
      "/var/folders/wd/xc5lcvsx6cddcbbjh3kklb5c0000gn/T/ipykernel_49438/2561389645.py:7: FutureWarning: 'H' is deprecated and will be removed in a future version, please use 'h' instead.\n",
      "  values=col).resample('3H',\n",
      "/var/folders/wd/xc5lcvsx6cddcbbjh3kklb5c0000gn/T/ipykernel_49438/2561389645.py:7: FutureWarning: 'H' is deprecated and will be removed in a future version, please use 'h' instead.\n",
      "  values=col).resample('3H',\n",
      "/var/folders/wd/xc5lcvsx6cddcbbjh3kklb5c0000gn/T/ipykernel_49438/2561389645.py:7: FutureWarning: 'H' is deprecated and will be removed in a future version, please use 'h' instead.\n",
      "  values=col).resample('3H',\n",
      "/var/folders/wd/xc5lcvsx6cddcbbjh3kklb5c0000gn/T/ipykernel_49438/2561389645.py:7: FutureWarning: 'H' is deprecated and will be removed in a future version, please use 'h' instead.\n",
      "  values=col).resample('3H',\n",
      "/var/folders/wd/xc5lcvsx6cddcbbjh3kklb5c0000gn/T/ipykernel_49438/2561389645.py:7: FutureWarning: 'H' is deprecated and will be removed in a future version, please use 'h' instead.\n",
      "  values=col).resample('3H',\n"
     ]
    },
    {
     "data": {
      "text/plain": "           machineID                       datetime    error1count  \\\ncount  292077.000000                         292077  292077.000000   \nmean       50.503898  2015-07-02 21:20:32.317505280       0.037483   \nmin         1.000000            2015-01-01 09:00:00       0.000000   \n25%        26.000000            2015-04-02 15:00:00       0.000000   \n50%        51.000000            2015-07-02 21:00:00       0.000000   \n75%        76.000000            2015-10-02 03:00:00       0.000000   \nmax       100.000000            2016-01-01 09:00:00       2.000000   \nstd        28.863914                            NaN       0.192195   \n\n         error2count    error3count    error4count    error5count  \ncount  292077.000000  292077.000000  292077.000000  292077.000000  \nmean        0.029266       0.025117       0.025541       0.018666  \nmin         0.000000       0.000000       0.000000       0.000000  \n25%         0.000000       0.000000       0.000000       0.000000  \n50%         0.000000       0.000000       0.000000       0.000000  \n75%         0.000000       0.000000       0.000000       0.000000  \nmax         2.000000       1.500000       3.000000       2.000000  \nstd         0.154875       0.140627       0.158549       0.134294  ",
      "text/html": "<div>\n<style scoped>\n    .dataframe tbody tr th:only-of-type {\n        vertical-align: middle;\n    }\n\n    .dataframe tbody tr th {\n        vertical-align: top;\n    }\n\n    .dataframe thead th {\n        text-align: right;\n    }\n</style>\n<table border=\"1\" class=\"dataframe\">\n  <thead>\n    <tr style=\"text-align: right;\">\n      <th></th>\n      <th>machineID</th>\n      <th>datetime</th>\n      <th>error1count</th>\n      <th>error2count</th>\n      <th>error3count</th>\n      <th>error4count</th>\n      <th>error5count</th>\n    </tr>\n  </thead>\n  <tbody>\n    <tr>\n      <th>count</th>\n      <td>292077.000000</td>\n      <td>292077</td>\n      <td>292077.000000</td>\n      <td>292077.000000</td>\n      <td>292077.000000</td>\n      <td>292077.000000</td>\n      <td>292077.000000</td>\n    </tr>\n    <tr>\n      <th>mean</th>\n      <td>50.503898</td>\n      <td>2015-07-02 21:20:32.317505280</td>\n      <td>0.037483</td>\n      <td>0.029266</td>\n      <td>0.025117</td>\n      <td>0.025541</td>\n      <td>0.018666</td>\n    </tr>\n    <tr>\n      <th>min</th>\n      <td>1.000000</td>\n      <td>2015-01-01 09:00:00</td>\n      <td>0.000000</td>\n      <td>0.000000</td>\n      <td>0.000000</td>\n      <td>0.000000</td>\n      <td>0.000000</td>\n    </tr>\n    <tr>\n      <th>25%</th>\n      <td>26.000000</td>\n      <td>2015-04-02 15:00:00</td>\n      <td>0.000000</td>\n      <td>0.000000</td>\n      <td>0.000000</td>\n      <td>0.000000</td>\n      <td>0.000000</td>\n    </tr>\n    <tr>\n      <th>50%</th>\n      <td>51.000000</td>\n      <td>2015-07-02 21:00:00</td>\n      <td>0.000000</td>\n      <td>0.000000</td>\n      <td>0.000000</td>\n      <td>0.000000</td>\n      <td>0.000000</td>\n    </tr>\n    <tr>\n      <th>75%</th>\n      <td>76.000000</td>\n      <td>2015-10-02 03:00:00</td>\n      <td>0.000000</td>\n      <td>0.000000</td>\n      <td>0.000000</td>\n      <td>0.000000</td>\n      <td>0.000000</td>\n    </tr>\n    <tr>\n      <th>max</th>\n      <td>100.000000</td>\n      <td>2016-01-01 09:00:00</td>\n      <td>2.000000</td>\n      <td>2.000000</td>\n      <td>1.500000</td>\n      <td>3.000000</td>\n      <td>2.000000</td>\n    </tr>\n    <tr>\n      <th>std</th>\n      <td>28.863914</td>\n      <td>NaN</td>\n      <td>0.192195</td>\n      <td>0.154875</td>\n      <td>0.140627</td>\n      <td>0.158549</td>\n      <td>0.134294</td>\n    </tr>\n  </tbody>\n</table>\n</div>"
     },
     "execution_count": 61,
     "metadata": {},
     "output_type": "execute_result"
    }
   ],
   "source": [
    "temp = []\n",
    "fields = ['error%d' % i for i in range(1, 6)]\n",
    "for col in fields:\n",
    "    temp.append(pd.pivot_table(error_count,\n",
    "                                              index='datetime',\n",
    "                                              columns='machineID',\n",
    "                                              values=col).resample('3H',\n",
    "                                                                               closed='left',\n",
    "                                                                               label='right',\n",
    "                                                                               ).first().unstack().rolling(window=24, center=False).sum())\n",
    "error_count = pd.concat(temp, axis=1)\n",
    "error_count.columns = [i + 'count' for i in fields]\n",
    "error_count.reset_index(inplace=True)\n",
    "error_count = error_count.dropna()\n",
    "error_count.describe()"
   ],
   "metadata": {
    "collapsed": false,
    "ExecuteTime": {
     "end_time": "2024-04-22T07:32:38.013459Z",
     "start_time": "2024-04-22T07:31:17.840442Z"
    }
   }
  },
  {
   "cell_type": "code",
   "execution_count": 62,
   "outputs": [
    {
     "data": {
      "text/plain": "    machineID            datetime  error1count  error2count  error3count  \\\n23          1 2015-01-04 06:00:00          0.0          0.0          0.0   \n24          1 2015-01-04 09:00:00          0.0          0.0          0.0   \n25          1 2015-01-04 12:00:00          0.0          0.0          0.0   \n26          1 2015-01-04 15:00:00          0.0          0.0          0.0   \n27          1 2015-01-04 18:00:00          0.0          0.0          0.0   \n\n    error4count  error5count  \n23          0.0          0.0  \n24          0.0          1.0  \n25          0.0          1.0  \n26          0.0          1.0  \n27          0.0          1.0  ",
      "text/html": "<div>\n<style scoped>\n    .dataframe tbody tr th:only-of-type {\n        vertical-align: middle;\n    }\n\n    .dataframe tbody tr th {\n        vertical-align: top;\n    }\n\n    .dataframe thead th {\n        text-align: right;\n    }\n</style>\n<table border=\"1\" class=\"dataframe\">\n  <thead>\n    <tr style=\"text-align: right;\">\n      <th></th>\n      <th>machineID</th>\n      <th>datetime</th>\n      <th>error1count</th>\n      <th>error2count</th>\n      <th>error3count</th>\n      <th>error4count</th>\n      <th>error5count</th>\n    </tr>\n  </thead>\n  <tbody>\n    <tr>\n      <th>23</th>\n      <td>1</td>\n      <td>2015-01-04 06:00:00</td>\n      <td>0.0</td>\n      <td>0.0</td>\n      <td>0.0</td>\n      <td>0.0</td>\n      <td>0.0</td>\n    </tr>\n    <tr>\n      <th>24</th>\n      <td>1</td>\n      <td>2015-01-04 09:00:00</td>\n      <td>0.0</td>\n      <td>0.0</td>\n      <td>0.0</td>\n      <td>0.0</td>\n      <td>1.0</td>\n    </tr>\n    <tr>\n      <th>25</th>\n      <td>1</td>\n      <td>2015-01-04 12:00:00</td>\n      <td>0.0</td>\n      <td>0.0</td>\n      <td>0.0</td>\n      <td>0.0</td>\n      <td>1.0</td>\n    </tr>\n    <tr>\n      <th>26</th>\n      <td>1</td>\n      <td>2015-01-04 15:00:00</td>\n      <td>0.0</td>\n      <td>0.0</td>\n      <td>0.0</td>\n      <td>0.0</td>\n      <td>1.0</td>\n    </tr>\n    <tr>\n      <th>27</th>\n      <td>1</td>\n      <td>2015-01-04 18:00:00</td>\n      <td>0.0</td>\n      <td>0.0</td>\n      <td>0.0</td>\n      <td>0.0</td>\n      <td>1.0</td>\n    </tr>\n  </tbody>\n</table>\n</div>"
     },
     "execution_count": 62,
     "metadata": {},
     "output_type": "execute_result"
    }
   ],
   "source": [
    "error_count.head()\n"
   ],
   "metadata": {
    "collapsed": false,
    "ExecuteTime": {
     "end_time": "2024-04-22T07:32:38.014847Z",
     "start_time": "2024-04-22T07:32:38.008812Z"
    }
   }
  },
  {
   "cell_type": "markdown",
   "source": [
    "## Identifying Days Since Last Replacement using Maintenance on a window of 24 hours"
   ],
   "metadata": {
    "collapsed": false
   }
  },
  {
   "cell_type": "code",
   "execution_count": 63,
   "outputs": [],
   "source": [
    "import numpy as np\n",
    "\n",
    "comp_rep = pd.get_dummies(maint.set_index('datetime')).reset_index()\n",
    "comp_rep.columns = ['datetime', 'machineID',\n",
    "                    'comp1', 'comp2', 'comp3', 'comp4']\n",
    "\n",
    "comp_rep = telemetry[['datetime', 'machineID']].merge(comp_rep,\n",
    "                                                      on=['datetime',\n",
    "                                                          'machineID'],\n",
    "                                                      how='outer').fillna(0).sort_values(by=['machineID', 'datetime'])"
   ],
   "metadata": {
    "collapsed": false,
    "ExecuteTime": {
     "end_time": "2024-04-22T07:33:20.192697Z",
     "start_time": "2024-04-22T07:33:19.515812Z"
    }
   }
  },
  {
   "cell_type": "code",
   "execution_count": 64,
   "outputs": [
    {
     "data": {
      "text/plain": "                  datetime  machineID  comp1  comp2  comp3  comp4\n0      2014-06-01 06:00:00          1  False   True  False  False\n90     2014-07-16 06:00:00          1  False  False  False   True\n121    2014-07-31 06:00:00          1  False  False   True  False\n359    2014-12-13 06:00:00          1   True  False  False  False\n400    2015-01-01 06:00:00          1      0      0      0      0\n...                    ...        ...    ...    ...    ...    ...\n876822 2016-01-01 02:00:00        100      0      0      0      0\n876922 2016-01-01 03:00:00        100      0      0      0      0\n877022 2016-01-01 04:00:00        100      0      0      0      0\n877122 2016-01-01 05:00:00        100      0      0      0      0\n877222 2016-01-01 06:00:00        100      0      0      0      0\n\n[877223 rows x 6 columns]",
      "text/html": "<div>\n<style scoped>\n    .dataframe tbody tr th:only-of-type {\n        vertical-align: middle;\n    }\n\n    .dataframe tbody tr th {\n        vertical-align: top;\n    }\n\n    .dataframe thead th {\n        text-align: right;\n    }\n</style>\n<table border=\"1\" class=\"dataframe\">\n  <thead>\n    <tr style=\"text-align: right;\">\n      <th></th>\n      <th>datetime</th>\n      <th>machineID</th>\n      <th>comp1</th>\n      <th>comp2</th>\n      <th>comp3</th>\n      <th>comp4</th>\n    </tr>\n  </thead>\n  <tbody>\n    <tr>\n      <th>0</th>\n      <td>2014-06-01 06:00:00</td>\n      <td>1</td>\n      <td>False</td>\n      <td>True</td>\n      <td>False</td>\n      <td>False</td>\n    </tr>\n    <tr>\n      <th>90</th>\n      <td>2014-07-16 06:00:00</td>\n      <td>1</td>\n      <td>False</td>\n      <td>False</td>\n      <td>False</td>\n      <td>True</td>\n    </tr>\n    <tr>\n      <th>121</th>\n      <td>2014-07-31 06:00:00</td>\n      <td>1</td>\n      <td>False</td>\n      <td>False</td>\n      <td>True</td>\n      <td>False</td>\n    </tr>\n    <tr>\n      <th>359</th>\n      <td>2014-12-13 06:00:00</td>\n      <td>1</td>\n      <td>True</td>\n      <td>False</td>\n      <td>False</td>\n      <td>False</td>\n    </tr>\n    <tr>\n      <th>400</th>\n      <td>2015-01-01 06:00:00</td>\n      <td>1</td>\n      <td>0</td>\n      <td>0</td>\n      <td>0</td>\n      <td>0</td>\n    </tr>\n    <tr>\n      <th>...</th>\n      <td>...</td>\n      <td>...</td>\n      <td>...</td>\n      <td>...</td>\n      <td>...</td>\n      <td>...</td>\n    </tr>\n    <tr>\n      <th>876822</th>\n      <td>2016-01-01 02:00:00</td>\n      <td>100</td>\n      <td>0</td>\n      <td>0</td>\n      <td>0</td>\n      <td>0</td>\n    </tr>\n    <tr>\n      <th>876922</th>\n      <td>2016-01-01 03:00:00</td>\n      <td>100</td>\n      <td>0</td>\n      <td>0</td>\n      <td>0</td>\n      <td>0</td>\n    </tr>\n    <tr>\n      <th>877022</th>\n      <td>2016-01-01 04:00:00</td>\n      <td>100</td>\n      <td>0</td>\n      <td>0</td>\n      <td>0</td>\n      <td>0</td>\n    </tr>\n    <tr>\n      <th>877122</th>\n      <td>2016-01-01 05:00:00</td>\n      <td>100</td>\n      <td>0</td>\n      <td>0</td>\n      <td>0</td>\n      <td>0</td>\n    </tr>\n    <tr>\n      <th>877222</th>\n      <td>2016-01-01 06:00:00</td>\n      <td>100</td>\n      <td>0</td>\n      <td>0</td>\n      <td>0</td>\n      <td>0</td>\n    </tr>\n  </tbody>\n</table>\n<p>877223 rows × 6 columns</p>\n</div>"
     },
     "execution_count": 64,
     "metadata": {},
     "output_type": "execute_result"
    }
   ],
   "source": [
    "comp_rep\n"
   ],
   "metadata": {
    "collapsed": false,
    "ExecuteTime": {
     "end_time": "2024-04-22T07:33:28.916796Z",
     "start_time": "2024-04-22T07:33:28.888361Z"
    }
   }
  },
  {
   "cell_type": "code",
   "execution_count": 65,
   "outputs": [
    {
     "name": "stderr",
     "output_type": "stream",
     "text": [
      "/var/folders/wd/xc5lcvsx6cddcbbjh3kklb5c0000gn/T/ipykernel_49438/420400409.py:6: FutureWarning: Series.fillna with 'method' is deprecated and will raise in a future version. Use obj.ffill() or obj.bfill() instead.\n",
      "  comp_rep[comp] = comp_rep[comp].fillna(method='ffill')\n",
      "/var/folders/wd/xc5lcvsx6cddcbbjh3kklb5c0000gn/T/ipykernel_49438/420400409.py:6: FutureWarning: Downcasting object dtype arrays on .fillna, .ffill, .bfill is deprecated and will change in a future version. Call result.infer_objects(copy=False) instead. To opt-in to the future behavior, set `pd.set_option('future.no_silent_downcasting', True)`\n",
      "  comp_rep[comp] = comp_rep[comp].fillna(method='ffill')\n",
      "/var/folders/wd/xc5lcvsx6cddcbbjh3kklb5c0000gn/T/ipykernel_49438/420400409.py:6: FutureWarning: Series.fillna with 'method' is deprecated and will raise in a future version. Use obj.ffill() or obj.bfill() instead.\n",
      "  comp_rep[comp] = comp_rep[comp].fillna(method='ffill')\n",
      "/var/folders/wd/xc5lcvsx6cddcbbjh3kklb5c0000gn/T/ipykernel_49438/420400409.py:6: FutureWarning: Downcasting object dtype arrays on .fillna, .ffill, .bfill is deprecated and will change in a future version. Call result.infer_objects(copy=False) instead. To opt-in to the future behavior, set `pd.set_option('future.no_silent_downcasting', True)`\n",
      "  comp_rep[comp] = comp_rep[comp].fillna(method='ffill')\n",
      "/var/folders/wd/xc5lcvsx6cddcbbjh3kklb5c0000gn/T/ipykernel_49438/420400409.py:6: FutureWarning: Series.fillna with 'method' is deprecated and will raise in a future version. Use obj.ffill() or obj.bfill() instead.\n",
      "  comp_rep[comp] = comp_rep[comp].fillna(method='ffill')\n",
      "/var/folders/wd/xc5lcvsx6cddcbbjh3kklb5c0000gn/T/ipykernel_49438/420400409.py:6: FutureWarning: Downcasting object dtype arrays on .fillna, .ffill, .bfill is deprecated and will change in a future version. Call result.infer_objects(copy=False) instead. To opt-in to the future behavior, set `pd.set_option('future.no_silent_downcasting', True)`\n",
      "  comp_rep[comp] = comp_rep[comp].fillna(method='ffill')\n",
      "/var/folders/wd/xc5lcvsx6cddcbbjh3kklb5c0000gn/T/ipykernel_49438/420400409.py:6: FutureWarning: Series.fillna with 'method' is deprecated and will raise in a future version. Use obj.ffill() or obj.bfill() instead.\n",
      "  comp_rep[comp] = comp_rep[comp].fillna(method='ffill')\n",
      "/var/folders/wd/xc5lcvsx6cddcbbjh3kklb5c0000gn/T/ipykernel_49438/420400409.py:6: FutureWarning: Downcasting object dtype arrays on .fillna, .ffill, .bfill is deprecated and will change in a future version. Call result.infer_objects(copy=False) instead. To opt-in to the future behavior, set `pd.set_option('future.no_silent_downcasting', True)`\n",
      "  comp_rep[comp] = comp_rep[comp].fillna(method='ffill')\n"
     ]
    }
   ],
   "source": [
    "components = ['comp1', 'comp2', 'comp3', 'comp4']\n",
    "for comp in components:\n",
    "    comp_rep.loc[comp_rep[comp] < 1, comp] = None\n",
    "    comp_rep.loc[-comp_rep[comp].isnull(),\n",
    "                 comp] = comp_rep.loc[-comp_rep[comp].isnull(), 'datetime']\n",
    "    comp_rep[comp] = comp_rep[comp].fillna(method='ffill')\n",
    "\n",
    "comp_rep = comp_rep.loc[comp_rep['datetime'] > pd.to_datetime('2015-01-01')]"
   ],
   "metadata": {
    "collapsed": false,
    "ExecuteTime": {
     "end_time": "2024-04-22T07:33:57.550528Z",
     "start_time": "2024-04-22T07:33:55.745734Z"
    }
   }
  },
  {
   "cell_type": "code",
   "execution_count": 66,
   "outputs": [
    {
     "data": {
      "text/plain": "                  datetime  machineID               comp1               comp2  \\\n400    2015-01-01 06:00:00          1 2014-12-13 06:00:00 2014-06-01 06:00:00   \n502    2015-01-01 07:00:00          1 2014-12-13 06:00:00 2014-06-01 06:00:00   \n602    2015-01-01 08:00:00          1 2014-12-13 06:00:00 2014-06-01 06:00:00   \n702    2015-01-01 09:00:00          1 2014-12-13 06:00:00 2014-06-01 06:00:00   \n802    2015-01-01 10:00:00          1 2014-12-13 06:00:00 2014-06-01 06:00:00   \n...                    ...        ...                 ...                 ...   \n876822 2016-01-01 02:00:00        100 2015-10-10 06:00:00 2015-12-24 06:00:00   \n876922 2016-01-01 03:00:00        100 2015-10-10 06:00:00 2015-12-24 06:00:00   \n877022 2016-01-01 04:00:00        100 2015-10-10 06:00:00 2015-12-24 06:00:00   \n877122 2016-01-01 05:00:00        100 2015-10-10 06:00:00 2015-12-24 06:00:00   \n877222 2016-01-01 06:00:00        100 2015-10-10 06:00:00 2015-12-24 06:00:00   \n\n                     comp3               comp4  \n400    2014-07-31 06:00:00 2014-07-16 06:00:00  \n502    2014-07-31 06:00:00 2014-07-16 06:00:00  \n602    2014-07-31 06:00:00 2014-07-16 06:00:00  \n702    2014-07-31 06:00:00 2014-07-16 06:00:00  \n802    2014-07-31 06:00:00 2014-07-16 06:00:00  \n...                    ...                 ...  \n876822 2015-10-10 06:00:00 2015-11-09 06:00:00  \n876922 2015-10-10 06:00:00 2015-11-09 06:00:00  \n877022 2015-10-10 06:00:00 2015-11-09 06:00:00  \n877122 2015-10-10 06:00:00 2015-11-09 06:00:00  \n877222 2015-10-10 06:00:00 2015-11-09 06:00:00  \n\n[876823 rows x 6 columns]",
      "text/html": "<div>\n<style scoped>\n    .dataframe tbody tr th:only-of-type {\n        vertical-align: middle;\n    }\n\n    .dataframe tbody tr th {\n        vertical-align: top;\n    }\n\n    .dataframe thead th {\n        text-align: right;\n    }\n</style>\n<table border=\"1\" class=\"dataframe\">\n  <thead>\n    <tr style=\"text-align: right;\">\n      <th></th>\n      <th>datetime</th>\n      <th>machineID</th>\n      <th>comp1</th>\n      <th>comp2</th>\n      <th>comp3</th>\n      <th>comp4</th>\n    </tr>\n  </thead>\n  <tbody>\n    <tr>\n      <th>400</th>\n      <td>2015-01-01 06:00:00</td>\n      <td>1</td>\n      <td>2014-12-13 06:00:00</td>\n      <td>2014-06-01 06:00:00</td>\n      <td>2014-07-31 06:00:00</td>\n      <td>2014-07-16 06:00:00</td>\n    </tr>\n    <tr>\n      <th>502</th>\n      <td>2015-01-01 07:00:00</td>\n      <td>1</td>\n      <td>2014-12-13 06:00:00</td>\n      <td>2014-06-01 06:00:00</td>\n      <td>2014-07-31 06:00:00</td>\n      <td>2014-07-16 06:00:00</td>\n    </tr>\n    <tr>\n      <th>602</th>\n      <td>2015-01-01 08:00:00</td>\n      <td>1</td>\n      <td>2014-12-13 06:00:00</td>\n      <td>2014-06-01 06:00:00</td>\n      <td>2014-07-31 06:00:00</td>\n      <td>2014-07-16 06:00:00</td>\n    </tr>\n    <tr>\n      <th>702</th>\n      <td>2015-01-01 09:00:00</td>\n      <td>1</td>\n      <td>2014-12-13 06:00:00</td>\n      <td>2014-06-01 06:00:00</td>\n      <td>2014-07-31 06:00:00</td>\n      <td>2014-07-16 06:00:00</td>\n    </tr>\n    <tr>\n      <th>802</th>\n      <td>2015-01-01 10:00:00</td>\n      <td>1</td>\n      <td>2014-12-13 06:00:00</td>\n      <td>2014-06-01 06:00:00</td>\n      <td>2014-07-31 06:00:00</td>\n      <td>2014-07-16 06:00:00</td>\n    </tr>\n    <tr>\n      <th>...</th>\n      <td>...</td>\n      <td>...</td>\n      <td>...</td>\n      <td>...</td>\n      <td>...</td>\n      <td>...</td>\n    </tr>\n    <tr>\n      <th>876822</th>\n      <td>2016-01-01 02:00:00</td>\n      <td>100</td>\n      <td>2015-10-10 06:00:00</td>\n      <td>2015-12-24 06:00:00</td>\n      <td>2015-10-10 06:00:00</td>\n      <td>2015-11-09 06:00:00</td>\n    </tr>\n    <tr>\n      <th>876922</th>\n      <td>2016-01-01 03:00:00</td>\n      <td>100</td>\n      <td>2015-10-10 06:00:00</td>\n      <td>2015-12-24 06:00:00</td>\n      <td>2015-10-10 06:00:00</td>\n      <td>2015-11-09 06:00:00</td>\n    </tr>\n    <tr>\n      <th>877022</th>\n      <td>2016-01-01 04:00:00</td>\n      <td>100</td>\n      <td>2015-10-10 06:00:00</td>\n      <td>2015-12-24 06:00:00</td>\n      <td>2015-10-10 06:00:00</td>\n      <td>2015-11-09 06:00:00</td>\n    </tr>\n    <tr>\n      <th>877122</th>\n      <td>2016-01-01 05:00:00</td>\n      <td>100</td>\n      <td>2015-10-10 06:00:00</td>\n      <td>2015-12-24 06:00:00</td>\n      <td>2015-10-10 06:00:00</td>\n      <td>2015-11-09 06:00:00</td>\n    </tr>\n    <tr>\n      <th>877222</th>\n      <td>2016-01-01 06:00:00</td>\n      <td>100</td>\n      <td>2015-10-10 06:00:00</td>\n      <td>2015-12-24 06:00:00</td>\n      <td>2015-10-10 06:00:00</td>\n      <td>2015-11-09 06:00:00</td>\n    </tr>\n  </tbody>\n</table>\n<p>876823 rows × 6 columns</p>\n</div>"
     },
     "execution_count": 66,
     "metadata": {},
     "output_type": "execute_result"
    }
   ],
   "source": [
    "comp_rep"
   ],
   "metadata": {
    "collapsed": false,
    "ExecuteTime": {
     "end_time": "2024-04-22T07:35:02.899952Z",
     "start_time": "2024-04-22T07:35:02.871905Z"
    }
   }
  },
  {
   "cell_type": "code",
   "execution_count": 67,
   "outputs": [
    {
     "name": "stderr",
     "output_type": "stream",
     "text": [
      "/var/folders/wd/xc5lcvsx6cddcbbjh3kklb5c0000gn/T/ipykernel_49438/4062175902.py:2: SettingWithCopyWarning: \n",
      "A value is trying to be set on a copy of a slice from a DataFrame.\n",
      "Try using .loc[row_indexer,col_indexer] = value instead\n",
      "\n",
      "See the caveats in the documentation: https://pandas.pydata.org/pandas-docs/stable/user_guide/indexing.html#returning-a-view-versus-a-copy\n",
      "  comp_rep[comp] = (comp_rep[\"datetime\"] - pd.to_datetime(comp_rep[comp])) / np.timedelta64(1, \"D\")\n",
      "/var/folders/wd/xc5lcvsx6cddcbbjh3kklb5c0000gn/T/ipykernel_49438/4062175902.py:2: SettingWithCopyWarning: \n",
      "A value is trying to be set on a copy of a slice from a DataFrame.\n",
      "Try using .loc[row_indexer,col_indexer] = value instead\n",
      "\n",
      "See the caveats in the documentation: https://pandas.pydata.org/pandas-docs/stable/user_guide/indexing.html#returning-a-view-versus-a-copy\n",
      "  comp_rep[comp] = (comp_rep[\"datetime\"] - pd.to_datetime(comp_rep[comp])) / np.timedelta64(1, \"D\")\n",
      "/var/folders/wd/xc5lcvsx6cddcbbjh3kklb5c0000gn/T/ipykernel_49438/4062175902.py:2: SettingWithCopyWarning: \n",
      "A value is trying to be set on a copy of a slice from a DataFrame.\n",
      "Try using .loc[row_indexer,col_indexer] = value instead\n",
      "\n",
      "See the caveats in the documentation: https://pandas.pydata.org/pandas-docs/stable/user_guide/indexing.html#returning-a-view-versus-a-copy\n",
      "  comp_rep[comp] = (comp_rep[\"datetime\"] - pd.to_datetime(comp_rep[comp])) / np.timedelta64(1, \"D\")\n",
      "/var/folders/wd/xc5lcvsx6cddcbbjh3kklb5c0000gn/T/ipykernel_49438/4062175902.py:2: SettingWithCopyWarning: \n",
      "A value is trying to be set on a copy of a slice from a DataFrame.\n",
      "Try using .loc[row_indexer,col_indexer] = value instead\n",
      "\n",
      "See the caveats in the documentation: https://pandas.pydata.org/pandas-docs/stable/user_guide/indexing.html#returning-a-view-versus-a-copy\n",
      "  comp_rep[comp] = (comp_rep[\"datetime\"] - pd.to_datetime(comp_rep[comp])) / np.timedelta64(1, \"D\")\n"
     ]
    },
    {
     "data": {
      "text/plain": "                            datetime      machineID          comp1  \\\ncount                         876823  876823.000000  876823.000000   \nmean   2015-07-02 18:04:36.939815424      50.499106      53.517611   \nmin              2015-01-01 06:00:00       1.000000       0.000000   \n25%              2015-04-02 12:00:00      25.000000      13.291667   \n50%              2015-07-02 18:00:00      50.000000      32.791667   \n75%              2015-10-02 00:00:00      75.000000      68.708333   \nmax              2016-01-01 06:00:00     100.000000     491.958333   \nstd                              NaN      28.866046      62.490219   \n\n               comp2          comp3          comp4  \ncount  876823.000000  876823.000000  876823.000000  \nmean       51.537350      52.722043      53.826833  \nmin         0.000000       0.000000       0.000000  \n25%        12.125000      13.125000      13.000000  \n50%        29.666667      32.250000      32.500000  \n75%        66.541667      67.333333      70.458333  \nmax       348.958333     370.958333     394.958333  \nstd        59.271457      58.875826      59.704062  ",
      "text/html": "<div>\n<style scoped>\n    .dataframe tbody tr th:only-of-type {\n        vertical-align: middle;\n    }\n\n    .dataframe tbody tr th {\n        vertical-align: top;\n    }\n\n    .dataframe thead th {\n        text-align: right;\n    }\n</style>\n<table border=\"1\" class=\"dataframe\">\n  <thead>\n    <tr style=\"text-align: right;\">\n      <th></th>\n      <th>datetime</th>\n      <th>machineID</th>\n      <th>comp1</th>\n      <th>comp2</th>\n      <th>comp3</th>\n      <th>comp4</th>\n    </tr>\n  </thead>\n  <tbody>\n    <tr>\n      <th>count</th>\n      <td>876823</td>\n      <td>876823.000000</td>\n      <td>876823.000000</td>\n      <td>876823.000000</td>\n      <td>876823.000000</td>\n      <td>876823.000000</td>\n    </tr>\n    <tr>\n      <th>mean</th>\n      <td>2015-07-02 18:04:36.939815424</td>\n      <td>50.499106</td>\n      <td>53.517611</td>\n      <td>51.537350</td>\n      <td>52.722043</td>\n      <td>53.826833</td>\n    </tr>\n    <tr>\n      <th>min</th>\n      <td>2015-01-01 06:00:00</td>\n      <td>1.000000</td>\n      <td>0.000000</td>\n      <td>0.000000</td>\n      <td>0.000000</td>\n      <td>0.000000</td>\n    </tr>\n    <tr>\n      <th>25%</th>\n      <td>2015-04-02 12:00:00</td>\n      <td>25.000000</td>\n      <td>13.291667</td>\n      <td>12.125000</td>\n      <td>13.125000</td>\n      <td>13.000000</td>\n    </tr>\n    <tr>\n      <th>50%</th>\n      <td>2015-07-02 18:00:00</td>\n      <td>50.000000</td>\n      <td>32.791667</td>\n      <td>29.666667</td>\n      <td>32.250000</td>\n      <td>32.500000</td>\n    </tr>\n    <tr>\n      <th>75%</th>\n      <td>2015-10-02 00:00:00</td>\n      <td>75.000000</td>\n      <td>68.708333</td>\n      <td>66.541667</td>\n      <td>67.333333</td>\n      <td>70.458333</td>\n    </tr>\n    <tr>\n      <th>max</th>\n      <td>2016-01-01 06:00:00</td>\n      <td>100.000000</td>\n      <td>491.958333</td>\n      <td>348.958333</td>\n      <td>370.958333</td>\n      <td>394.958333</td>\n    </tr>\n    <tr>\n      <th>std</th>\n      <td>NaN</td>\n      <td>28.866046</td>\n      <td>62.490219</td>\n      <td>59.271457</td>\n      <td>58.875826</td>\n      <td>59.704062</td>\n    </tr>\n  </tbody>\n</table>\n</div>"
     },
     "execution_count": 67,
     "metadata": {},
     "output_type": "execute_result"
    }
   ],
   "source": [
    "for comp in components:\n",
    "    comp_rep[comp] = (comp_rep[\"datetime\"] - pd.to_datetime(comp_rep[comp])) / np.timedelta64(1, \"D\")\n",
    "\n",
    "comp_rep.describe()"
   ],
   "metadata": {
    "collapsed": false,
    "ExecuteTime": {
     "end_time": "2024-04-22T07:35:12.608895Z",
     "start_time": "2024-04-22T07:35:12.443972Z"
    }
   }
  },
  {
   "cell_type": "code",
   "execution_count": 68,
   "outputs": [
    {
     "data": {
      "text/plain": "               datetime  machineID      comp1       comp2       comp3  \\\n400 2015-01-01 06:00:00          1  19.000000  214.000000  154.000000   \n502 2015-01-01 07:00:00          1  19.041667  214.041667  154.041667   \n602 2015-01-01 08:00:00          1  19.083333  214.083333  154.083333   \n702 2015-01-01 09:00:00          1  19.125000  214.125000  154.125000   \n802 2015-01-01 10:00:00          1  19.166667  214.166667  154.166667   \n\n          comp4  \n400  169.000000  \n502  169.041667  \n602  169.083333  \n702  169.125000  \n802  169.166667  ",
      "text/html": "<div>\n<style scoped>\n    .dataframe tbody tr th:only-of-type {\n        vertical-align: middle;\n    }\n\n    .dataframe tbody tr th {\n        vertical-align: top;\n    }\n\n    .dataframe thead th {\n        text-align: right;\n    }\n</style>\n<table border=\"1\" class=\"dataframe\">\n  <thead>\n    <tr style=\"text-align: right;\">\n      <th></th>\n      <th>datetime</th>\n      <th>machineID</th>\n      <th>comp1</th>\n      <th>comp2</th>\n      <th>comp3</th>\n      <th>comp4</th>\n    </tr>\n  </thead>\n  <tbody>\n    <tr>\n      <th>400</th>\n      <td>2015-01-01 06:00:00</td>\n      <td>1</td>\n      <td>19.000000</td>\n      <td>214.000000</td>\n      <td>154.000000</td>\n      <td>169.000000</td>\n    </tr>\n    <tr>\n      <th>502</th>\n      <td>2015-01-01 07:00:00</td>\n      <td>1</td>\n      <td>19.041667</td>\n      <td>214.041667</td>\n      <td>154.041667</td>\n      <td>169.041667</td>\n    </tr>\n    <tr>\n      <th>602</th>\n      <td>2015-01-01 08:00:00</td>\n      <td>1</td>\n      <td>19.083333</td>\n      <td>214.083333</td>\n      <td>154.083333</td>\n      <td>169.083333</td>\n    </tr>\n    <tr>\n      <th>702</th>\n      <td>2015-01-01 09:00:00</td>\n      <td>1</td>\n      <td>19.125000</td>\n      <td>214.125000</td>\n      <td>154.125000</td>\n      <td>169.125000</td>\n    </tr>\n    <tr>\n      <th>802</th>\n      <td>2015-01-01 10:00:00</td>\n      <td>1</td>\n      <td>19.166667</td>\n      <td>214.166667</td>\n      <td>154.166667</td>\n      <td>169.166667</td>\n    </tr>\n  </tbody>\n</table>\n</div>"
     },
     "execution_count": 68,
     "metadata": {},
     "output_type": "execute_result"
    }
   ],
   "source": [
    "comp_rep.head()\n"
   ],
   "metadata": {
    "collapsed": false,
    "ExecuteTime": {
     "end_time": "2024-04-22T07:35:25.293527Z",
     "start_time": "2024-04-22T07:35:25.256624Z"
    }
   }
  },
  {
   "cell_type": "markdown",
   "source": [
    "## Machine Features: Descriptive Statistics about the Machine\n"
   ],
   "metadata": {
    "collapsed": false
   }
  },
  {
   "cell_type": "code",
   "execution_count": 69,
   "outputs": [
    {
     "data": {
      "text/plain": "   machineID            datetime  voltmean_3h  temperaturemean_3h  \\\n0          1 2015-01-04 06:00:00   186.092896          451.641253   \n1          1 2015-01-04 09:00:00   166.281848          453.787824   \n2          1 2015-01-04 12:00:00   175.412103          445.450581   \n3          1 2015-01-04 15:00:00   157.347716          451.882075   \n4          1 2015-01-04 18:00:00   176.450550          446.033068   \n\n   pressuremean_3h  vibrationmean_3h  voltsd_3h  temperaturesd_3h  \\\n0       107.989359         55.308074  13.489090         62.185045   \n1       106.187582         51.990080  24.276228         23.621315   \n2       100.887363         54.251534  34.918687         11.001625   \n3       101.289380         48.602686  24.617739         28.950883   \n4        84.521555         47.638836   8.071400         76.511343   \n\n   pressuresd_3h  vibrationsd_3h  ...  error2count  error3count  error4count  \\\n0       5.118176        4.904365  ...          0.0          0.0          0.0   \n1      11.176731        3.394073  ...          0.0          0.0          0.0   \n2      10.580336        2.921501  ...          0.0          0.0          0.0   \n3       9.966729        2.356486  ...          0.0          0.0          0.0   \n4       2.636879        4.108621  ...          0.0          0.0          0.0   \n\n   error5count   comp1    comp2    comp3    comp4   model  age  \n0          0.0  22.000  217.000  157.000  172.000  model3   18  \n1          1.0  22.125  217.125  157.125  172.125  model3   18  \n2          1.0  22.250  217.250  157.250  172.250  model3   18  \n3          1.0  22.375  217.375  157.375  172.375  model3   18  \n4          1.0  22.500  217.500  157.500  172.500  model3   18  \n\n[5 rows x 29 columns]",
      "text/html": "<div>\n<style scoped>\n    .dataframe tbody tr th:only-of-type {\n        vertical-align: middle;\n    }\n\n    .dataframe tbody tr th {\n        vertical-align: top;\n    }\n\n    .dataframe thead th {\n        text-align: right;\n    }\n</style>\n<table border=\"1\" class=\"dataframe\">\n  <thead>\n    <tr style=\"text-align: right;\">\n      <th></th>\n      <th>machineID</th>\n      <th>datetime</th>\n      <th>voltmean_3h</th>\n      <th>temperaturemean_3h</th>\n      <th>pressuremean_3h</th>\n      <th>vibrationmean_3h</th>\n      <th>voltsd_3h</th>\n      <th>temperaturesd_3h</th>\n      <th>pressuresd_3h</th>\n      <th>vibrationsd_3h</th>\n      <th>...</th>\n      <th>error2count</th>\n      <th>error3count</th>\n      <th>error4count</th>\n      <th>error5count</th>\n      <th>comp1</th>\n      <th>comp2</th>\n      <th>comp3</th>\n      <th>comp4</th>\n      <th>model</th>\n      <th>age</th>\n    </tr>\n  </thead>\n  <tbody>\n    <tr>\n      <th>0</th>\n      <td>1</td>\n      <td>2015-01-04 06:00:00</td>\n      <td>186.092896</td>\n      <td>451.641253</td>\n      <td>107.989359</td>\n      <td>55.308074</td>\n      <td>13.489090</td>\n      <td>62.185045</td>\n      <td>5.118176</td>\n      <td>4.904365</td>\n      <td>...</td>\n      <td>0.0</td>\n      <td>0.0</td>\n      <td>0.0</td>\n      <td>0.0</td>\n      <td>22.000</td>\n      <td>217.000</td>\n      <td>157.000</td>\n      <td>172.000</td>\n      <td>model3</td>\n      <td>18</td>\n    </tr>\n    <tr>\n      <th>1</th>\n      <td>1</td>\n      <td>2015-01-04 09:00:00</td>\n      <td>166.281848</td>\n      <td>453.787824</td>\n      <td>106.187582</td>\n      <td>51.990080</td>\n      <td>24.276228</td>\n      <td>23.621315</td>\n      <td>11.176731</td>\n      <td>3.394073</td>\n      <td>...</td>\n      <td>0.0</td>\n      <td>0.0</td>\n      <td>0.0</td>\n      <td>1.0</td>\n      <td>22.125</td>\n      <td>217.125</td>\n      <td>157.125</td>\n      <td>172.125</td>\n      <td>model3</td>\n      <td>18</td>\n    </tr>\n    <tr>\n      <th>2</th>\n      <td>1</td>\n      <td>2015-01-04 12:00:00</td>\n      <td>175.412103</td>\n      <td>445.450581</td>\n      <td>100.887363</td>\n      <td>54.251534</td>\n      <td>34.918687</td>\n      <td>11.001625</td>\n      <td>10.580336</td>\n      <td>2.921501</td>\n      <td>...</td>\n      <td>0.0</td>\n      <td>0.0</td>\n      <td>0.0</td>\n      <td>1.0</td>\n      <td>22.250</td>\n      <td>217.250</td>\n      <td>157.250</td>\n      <td>172.250</td>\n      <td>model3</td>\n      <td>18</td>\n    </tr>\n    <tr>\n      <th>3</th>\n      <td>1</td>\n      <td>2015-01-04 15:00:00</td>\n      <td>157.347716</td>\n      <td>451.882075</td>\n      <td>101.289380</td>\n      <td>48.602686</td>\n      <td>24.617739</td>\n      <td>28.950883</td>\n      <td>9.966729</td>\n      <td>2.356486</td>\n      <td>...</td>\n      <td>0.0</td>\n      <td>0.0</td>\n      <td>0.0</td>\n      <td>1.0</td>\n      <td>22.375</td>\n      <td>217.375</td>\n      <td>157.375</td>\n      <td>172.375</td>\n      <td>model3</td>\n      <td>18</td>\n    </tr>\n    <tr>\n      <th>4</th>\n      <td>1</td>\n      <td>2015-01-04 18:00:00</td>\n      <td>176.450550</td>\n      <td>446.033068</td>\n      <td>84.521555</td>\n      <td>47.638836</td>\n      <td>8.071400</td>\n      <td>76.511343</td>\n      <td>2.636879</td>\n      <td>4.108621</td>\n      <td>...</td>\n      <td>0.0</td>\n      <td>0.0</td>\n      <td>0.0</td>\n      <td>1.0</td>\n      <td>22.500</td>\n      <td>217.500</td>\n      <td>157.500</td>\n      <td>172.500</td>\n      <td>model3</td>\n      <td>18</td>\n    </tr>\n  </tbody>\n</table>\n<p>5 rows × 29 columns</p>\n</div>"
     },
     "execution_count": 69,
     "metadata": {},
     "output_type": "execute_result"
    }
   ],
   "source": [
    "final_feat = telemetry_feat.merge(\n",
    "    error_count, on=['datetime', 'machineID'], how='left')\n",
    "final_feat = final_feat.merge(\n",
    "    comp_rep, on=['datetime', 'machineID'], how='left')\n",
    "final_feat = final_feat.merge(machines, on=['machineID'], how='left')\n",
    "\n",
    "final_feat.head()"
   ],
   "metadata": {
    "collapsed": false,
    "ExecuteTime": {
     "end_time": "2024-04-22T07:35:45.223743Z",
     "start_time": "2024-04-22T07:35:45.061174Z"
    }
   }
  },
  {
   "cell_type": "code",
   "execution_count": 70,
   "outputs": [
    {
     "data": {
      "text/plain": "           machineID                       datetime    voltmean_3h  \\\ncount  292698.000000                         292698  292698.000000   \nmean       50.501268  2015-07-02 20:05:53.336203520     170.784219   \nmin         1.000000            2015-01-01 09:00:00     125.532506   \n25%        26.000000            2015-04-02 15:00:00     164.452628   \n50%        50.000000            2015-07-02 21:00:00     170.436600   \n75%        75.000000            2015-10-02 03:00:00     176.619220   \nmax       100.000000            2016-01-01 06:00:00     241.420717   \nstd        28.863879                            NaN       9.509413   \n\n       temperaturemean_3h  pressuremean_3h  vibrationmean_3h      voltsd_3h  \\\ncount       292698.000000    292698.000000     292698.000000  292698.000000   \nmean           446.575340       100.864117         40.386506      13.300159   \nmin            211.811184        72.118639         26.569635       0.025509   \n25%            427.534759        96.239740         38.147926       8.027559   \n50%            448.367055       100.236344         40.146085      12.496284   \n75%            468.434339       104.409335         42.228807      17.690501   \nmax            586.682904       162.309656         69.311324      58.444332   \nstd             33.161392         7.423015          3.481097       6.967073   \n\n       temperaturesd_3h  pressuresd_3h  vibrationsd_3h  ...    error1count  \\\ncount     292698.000000  292698.000000   292698.000000  ...  292698.000000   \nmean          44.453806       8.886790        4.441220  ...       0.037758   \nmin            0.078991       0.027417        0.015278  ...       0.000000   \n25%           26.903316       5.370347        2.684286  ...       0.000000   \n50%           41.792210       8.347255        4.173691  ...       0.000000   \n75%           59.099500      11.791536        5.900380  ...       0.000000   \nmax          179.903039      35.659369       18.305595  ...       2.000000   \nstd           23.216722       4.656677        2.320464  ...       0.192877   \n\n         error2count    error3count    error4count    error5count  \\\ncount  292698.000000  292698.000000  292698.000000  292698.000000   \nmean        0.029442       0.025289       0.025712       0.018841   \nmin         0.000000       0.000000       0.000000       0.000000   \n25%         0.000000       0.000000       0.000000       0.000000   \n50%         0.000000       0.000000       0.000000       0.000000   \n75%         0.000000       0.000000       0.000000       0.000000   \nmax         2.000000       1.500000       3.000000       2.000000   \nstd         0.155121       0.140891       0.159066       0.134849   \n\n               comp1          comp2          comp3          comp4  \\\ncount  292698.000000  292698.000000  292698.000000  292698.000000   \nmean       53.444887      51.452085      52.640758      53.737431   \nmin         0.000000       0.000000       0.000000       0.000000   \n25%        13.250000      12.125000      13.125000      13.000000   \n50%        32.750000      29.625000      32.125000      32.375000   \n75%        68.625000      66.375000      67.250000      70.375000   \nmax       491.875000     348.875000     370.875000     394.875000   \nstd        62.477055      59.241774      58.860338      59.673951   \n\n                 age  \ncount  292698.000000  \nmean       11.329497  \nmin         0.000000  \n25%         7.000000  \n50%        12.000000  \n75%        16.000000  \nmax        20.000000  \nstd         5.827516  \n\n[8 rows x 28 columns]",
      "text/html": "<div>\n<style scoped>\n    .dataframe tbody tr th:only-of-type {\n        vertical-align: middle;\n    }\n\n    .dataframe tbody tr th {\n        vertical-align: top;\n    }\n\n    .dataframe thead th {\n        text-align: right;\n    }\n</style>\n<table border=\"1\" class=\"dataframe\">\n  <thead>\n    <tr style=\"text-align: right;\">\n      <th></th>\n      <th>machineID</th>\n      <th>datetime</th>\n      <th>voltmean_3h</th>\n      <th>temperaturemean_3h</th>\n      <th>pressuremean_3h</th>\n      <th>vibrationmean_3h</th>\n      <th>voltsd_3h</th>\n      <th>temperaturesd_3h</th>\n      <th>pressuresd_3h</th>\n      <th>vibrationsd_3h</th>\n      <th>...</th>\n      <th>error1count</th>\n      <th>error2count</th>\n      <th>error3count</th>\n      <th>error4count</th>\n      <th>error5count</th>\n      <th>comp1</th>\n      <th>comp2</th>\n      <th>comp3</th>\n      <th>comp4</th>\n      <th>age</th>\n    </tr>\n  </thead>\n  <tbody>\n    <tr>\n      <th>count</th>\n      <td>292698.000000</td>\n      <td>292698</td>\n      <td>292698.000000</td>\n      <td>292698.000000</td>\n      <td>292698.000000</td>\n      <td>292698.000000</td>\n      <td>292698.000000</td>\n      <td>292698.000000</td>\n      <td>292698.000000</td>\n      <td>292698.000000</td>\n      <td>...</td>\n      <td>292698.000000</td>\n      <td>292698.000000</td>\n      <td>292698.000000</td>\n      <td>292698.000000</td>\n      <td>292698.000000</td>\n      <td>292698.000000</td>\n      <td>292698.000000</td>\n      <td>292698.000000</td>\n      <td>292698.000000</td>\n      <td>292698.000000</td>\n    </tr>\n    <tr>\n      <th>mean</th>\n      <td>50.501268</td>\n      <td>2015-07-02 20:05:53.336203520</td>\n      <td>170.784219</td>\n      <td>446.575340</td>\n      <td>100.864117</td>\n      <td>40.386506</td>\n      <td>13.300159</td>\n      <td>44.453806</td>\n      <td>8.886790</td>\n      <td>4.441220</td>\n      <td>...</td>\n      <td>0.037758</td>\n      <td>0.029442</td>\n      <td>0.025289</td>\n      <td>0.025712</td>\n      <td>0.018841</td>\n      <td>53.444887</td>\n      <td>51.452085</td>\n      <td>52.640758</td>\n      <td>53.737431</td>\n      <td>11.329497</td>\n    </tr>\n    <tr>\n      <th>min</th>\n      <td>1.000000</td>\n      <td>2015-01-01 09:00:00</td>\n      <td>125.532506</td>\n      <td>211.811184</td>\n      <td>72.118639</td>\n      <td>26.569635</td>\n      <td>0.025509</td>\n      <td>0.078991</td>\n      <td>0.027417</td>\n      <td>0.015278</td>\n      <td>...</td>\n      <td>0.000000</td>\n      <td>0.000000</td>\n      <td>0.000000</td>\n      <td>0.000000</td>\n      <td>0.000000</td>\n      <td>0.000000</td>\n      <td>0.000000</td>\n      <td>0.000000</td>\n      <td>0.000000</td>\n      <td>0.000000</td>\n    </tr>\n    <tr>\n      <th>25%</th>\n      <td>26.000000</td>\n      <td>2015-04-02 15:00:00</td>\n      <td>164.452628</td>\n      <td>427.534759</td>\n      <td>96.239740</td>\n      <td>38.147926</td>\n      <td>8.027559</td>\n      <td>26.903316</td>\n      <td>5.370347</td>\n      <td>2.684286</td>\n      <td>...</td>\n      <td>0.000000</td>\n      <td>0.000000</td>\n      <td>0.000000</td>\n      <td>0.000000</td>\n      <td>0.000000</td>\n      <td>13.250000</td>\n      <td>12.125000</td>\n      <td>13.125000</td>\n      <td>13.000000</td>\n      <td>7.000000</td>\n    </tr>\n    <tr>\n      <th>50%</th>\n      <td>50.000000</td>\n      <td>2015-07-02 21:00:00</td>\n      <td>170.436600</td>\n      <td>448.367055</td>\n      <td>100.236344</td>\n      <td>40.146085</td>\n      <td>12.496284</td>\n      <td>41.792210</td>\n      <td>8.347255</td>\n      <td>4.173691</td>\n      <td>...</td>\n      <td>0.000000</td>\n      <td>0.000000</td>\n      <td>0.000000</td>\n      <td>0.000000</td>\n      <td>0.000000</td>\n      <td>32.750000</td>\n      <td>29.625000</td>\n      <td>32.125000</td>\n      <td>32.375000</td>\n      <td>12.000000</td>\n    </tr>\n    <tr>\n      <th>75%</th>\n      <td>75.000000</td>\n      <td>2015-10-02 03:00:00</td>\n      <td>176.619220</td>\n      <td>468.434339</td>\n      <td>104.409335</td>\n      <td>42.228807</td>\n      <td>17.690501</td>\n      <td>59.099500</td>\n      <td>11.791536</td>\n      <td>5.900380</td>\n      <td>...</td>\n      <td>0.000000</td>\n      <td>0.000000</td>\n      <td>0.000000</td>\n      <td>0.000000</td>\n      <td>0.000000</td>\n      <td>68.625000</td>\n      <td>66.375000</td>\n      <td>67.250000</td>\n      <td>70.375000</td>\n      <td>16.000000</td>\n    </tr>\n    <tr>\n      <th>max</th>\n      <td>100.000000</td>\n      <td>2016-01-01 06:00:00</td>\n      <td>241.420717</td>\n      <td>586.682904</td>\n      <td>162.309656</td>\n      <td>69.311324</td>\n      <td>58.444332</td>\n      <td>179.903039</td>\n      <td>35.659369</td>\n      <td>18.305595</td>\n      <td>...</td>\n      <td>2.000000</td>\n      <td>2.000000</td>\n      <td>1.500000</td>\n      <td>3.000000</td>\n      <td>2.000000</td>\n      <td>491.875000</td>\n      <td>348.875000</td>\n      <td>370.875000</td>\n      <td>394.875000</td>\n      <td>20.000000</td>\n    </tr>\n    <tr>\n      <th>std</th>\n      <td>28.863879</td>\n      <td>NaN</td>\n      <td>9.509413</td>\n      <td>33.161392</td>\n      <td>7.423015</td>\n      <td>3.481097</td>\n      <td>6.967073</td>\n      <td>23.216722</td>\n      <td>4.656677</td>\n      <td>2.320464</td>\n      <td>...</td>\n      <td>0.192877</td>\n      <td>0.155121</td>\n      <td>0.140891</td>\n      <td>0.159066</td>\n      <td>0.134849</td>\n      <td>62.477055</td>\n      <td>59.241774</td>\n      <td>58.860338</td>\n      <td>59.673951</td>\n      <td>5.827516</td>\n    </tr>\n  </tbody>\n</table>\n<p>8 rows × 28 columns</p>\n</div>"
     },
     "execution_count": 70,
     "metadata": {},
     "output_type": "execute_result"
    }
   ],
   "source": [
    "final_feat.describe()\n"
   ],
   "metadata": {
    "collapsed": false,
    "ExecuteTime": {
     "end_time": "2024-04-22T07:35:57.140804Z",
     "start_time": "2024-04-22T07:35:56.957479Z"
    }
   }
  },
  {
   "cell_type": "markdown",
   "source": [
    "# Constructing Labels\n"
   ],
   "metadata": {
    "collapsed": false
   }
  },
  {
   "cell_type": "code",
   "execution_count": 71,
   "outputs": [
    {
     "name": "stderr",
     "output_type": "stream",
     "text": [
      "/var/folders/wd/xc5lcvsx6cddcbbjh3kklb5c0000gn/T/ipykernel_49438/1061303446.py:3: FutureWarning: DataFrame.fillna with 'method' is deprecated and will raise in a future version. Use obj.ffill() or obj.bfill() instead.\n",
      "  labeled_features = labeled_features.fillna(\n"
     ]
    },
    {
     "data": {
      "text/plain": "   machineID            datetime  voltmean_3h  temperaturemean_3h  \\\n0          1 2015-01-04 06:00:00   186.092896          451.641253   \n1          1 2015-01-04 09:00:00   166.281848          453.787824   \n2          1 2015-01-04 12:00:00   175.412103          445.450581   \n3          1 2015-01-04 15:00:00   157.347716          451.882075   \n4          1 2015-01-04 18:00:00   176.450550          446.033068   \n\n   pressuremean_3h  vibrationmean_3h  voltsd_3h  temperaturesd_3h  \\\n0       107.989359         55.308074  13.489090         62.185045   \n1       106.187582         51.990080  24.276228         23.621315   \n2       100.887363         54.251534  34.918687         11.001625   \n3       101.289380         48.602686  24.617739         28.950883   \n4        84.521555         47.638836   8.071400         76.511343   \n\n   pressuresd_3h  vibrationsd_3h  ...  error3count  error4count  error5count  \\\n0       5.118176        4.904365  ...          0.0          0.0          0.0   \n1      11.176731        3.394073  ...          0.0          0.0          1.0   \n2      10.580336        2.921501  ...          0.0          0.0          1.0   \n3       9.966729        2.356486  ...          0.0          0.0          1.0   \n4       2.636879        4.108621  ...          0.0          0.0          1.0   \n\n    comp1    comp2    comp3    comp4   model  age  failure  \n0  22.000  217.000  157.000  172.000  model3   18     none  \n1  22.125  217.125  157.125  172.125  model3   18    comp4  \n2  22.250  217.250  157.250  172.250  model3   18    comp4  \n3  22.375  217.375  157.375  172.375  model3   18    comp4  \n4  22.500  217.500  157.500  172.500  model3   18    comp4  \n\n[5 rows x 30 columns]",
      "text/html": "<div>\n<style scoped>\n    .dataframe tbody tr th:only-of-type {\n        vertical-align: middle;\n    }\n\n    .dataframe tbody tr th {\n        vertical-align: top;\n    }\n\n    .dataframe thead th {\n        text-align: right;\n    }\n</style>\n<table border=\"1\" class=\"dataframe\">\n  <thead>\n    <tr style=\"text-align: right;\">\n      <th></th>\n      <th>machineID</th>\n      <th>datetime</th>\n      <th>voltmean_3h</th>\n      <th>temperaturemean_3h</th>\n      <th>pressuremean_3h</th>\n      <th>vibrationmean_3h</th>\n      <th>voltsd_3h</th>\n      <th>temperaturesd_3h</th>\n      <th>pressuresd_3h</th>\n      <th>vibrationsd_3h</th>\n      <th>...</th>\n      <th>error3count</th>\n      <th>error4count</th>\n      <th>error5count</th>\n      <th>comp1</th>\n      <th>comp2</th>\n      <th>comp3</th>\n      <th>comp4</th>\n      <th>model</th>\n      <th>age</th>\n      <th>failure</th>\n    </tr>\n  </thead>\n  <tbody>\n    <tr>\n      <th>0</th>\n      <td>1</td>\n      <td>2015-01-04 06:00:00</td>\n      <td>186.092896</td>\n      <td>451.641253</td>\n      <td>107.989359</td>\n      <td>55.308074</td>\n      <td>13.489090</td>\n      <td>62.185045</td>\n      <td>5.118176</td>\n      <td>4.904365</td>\n      <td>...</td>\n      <td>0.0</td>\n      <td>0.0</td>\n      <td>0.0</td>\n      <td>22.000</td>\n      <td>217.000</td>\n      <td>157.000</td>\n      <td>172.000</td>\n      <td>model3</td>\n      <td>18</td>\n      <td>none</td>\n    </tr>\n    <tr>\n      <th>1</th>\n      <td>1</td>\n      <td>2015-01-04 09:00:00</td>\n      <td>166.281848</td>\n      <td>453.787824</td>\n      <td>106.187582</td>\n      <td>51.990080</td>\n      <td>24.276228</td>\n      <td>23.621315</td>\n      <td>11.176731</td>\n      <td>3.394073</td>\n      <td>...</td>\n      <td>0.0</td>\n      <td>0.0</td>\n      <td>1.0</td>\n      <td>22.125</td>\n      <td>217.125</td>\n      <td>157.125</td>\n      <td>172.125</td>\n      <td>model3</td>\n      <td>18</td>\n      <td>comp4</td>\n    </tr>\n    <tr>\n      <th>2</th>\n      <td>1</td>\n      <td>2015-01-04 12:00:00</td>\n      <td>175.412103</td>\n      <td>445.450581</td>\n      <td>100.887363</td>\n      <td>54.251534</td>\n      <td>34.918687</td>\n      <td>11.001625</td>\n      <td>10.580336</td>\n      <td>2.921501</td>\n      <td>...</td>\n      <td>0.0</td>\n      <td>0.0</td>\n      <td>1.0</td>\n      <td>22.250</td>\n      <td>217.250</td>\n      <td>157.250</td>\n      <td>172.250</td>\n      <td>model3</td>\n      <td>18</td>\n      <td>comp4</td>\n    </tr>\n    <tr>\n      <th>3</th>\n      <td>1</td>\n      <td>2015-01-04 15:00:00</td>\n      <td>157.347716</td>\n      <td>451.882075</td>\n      <td>101.289380</td>\n      <td>48.602686</td>\n      <td>24.617739</td>\n      <td>28.950883</td>\n      <td>9.966729</td>\n      <td>2.356486</td>\n      <td>...</td>\n      <td>0.0</td>\n      <td>0.0</td>\n      <td>1.0</td>\n      <td>22.375</td>\n      <td>217.375</td>\n      <td>157.375</td>\n      <td>172.375</td>\n      <td>model3</td>\n      <td>18</td>\n      <td>comp4</td>\n    </tr>\n    <tr>\n      <th>4</th>\n      <td>1</td>\n      <td>2015-01-04 18:00:00</td>\n      <td>176.450550</td>\n      <td>446.033068</td>\n      <td>84.521555</td>\n      <td>47.638836</td>\n      <td>8.071400</td>\n      <td>76.511343</td>\n      <td>2.636879</td>\n      <td>4.108621</td>\n      <td>...</td>\n      <td>0.0</td>\n      <td>0.0</td>\n      <td>1.0</td>\n      <td>22.500</td>\n      <td>217.500</td>\n      <td>157.500</td>\n      <td>172.500</td>\n      <td>model3</td>\n      <td>18</td>\n      <td>comp4</td>\n    </tr>\n  </tbody>\n</table>\n<p>5 rows × 30 columns</p>\n</div>"
     },
     "execution_count": 71,
     "metadata": {},
     "output_type": "execute_result"
    }
   ],
   "source": [
    "labeled_features = final_feat.merge(\n",
    "    failures, on=['datetime', 'machineID'], how='left')\n",
    "labeled_features = labeled_features.fillna(\n",
    "    method='bfill', limit=7)\n",
    "labeled_features = labeled_features.fillna('none')\n",
    "labeled_features.head()"
   ],
   "metadata": {
    "collapsed": false,
    "ExecuteTime": {
     "end_time": "2024-04-22T07:36:12.510332Z",
     "start_time": "2024-04-22T07:36:12.347068Z"
    }
   }
  },
  {
   "cell_type": "code",
   "execution_count": 73,
   "outputs": [
    {
     "data": {
      "text/plain": "failure\nnone     286633\ncomp2      2136\ncomp1      1635\ncomp4      1340\ncomp3      1037\nName: count, dtype: int64"
     },
     "execution_count": 73,
     "metadata": {},
     "output_type": "execute_result"
    }
   ],
   "source": [
    "labeled_features['failure'].value_counts()\n"
   ],
   "metadata": {
    "collapsed": false,
    "ExecuteTime": {
     "end_time": "2024-04-22T07:38:35.876248Z",
     "start_time": "2024-04-22T07:38:35.845440Z"
    }
   }
  },
  {
   "cell_type": "markdown",
   "source": [
    "# XGBoost Binary classification - Error / No Error"
   ],
   "metadata": {
    "collapsed": false
   }
  },
  {
   "cell_type": "code",
   "execution_count": 75,
   "outputs": [],
   "source": [
    "threshold_dates = [[pd.to_datetime('2015-07-31 01:00:00'), pd.to_datetime('2015-08-01 01:00:00')],\n",
    "                   [pd.to_datetime('2015-08-31 01:00:00'), pd.to_datetime('2015-09-01 01:00:00')],\n",
    "                   [pd.to_datetime('2015-09-30 01:00:00'), pd.to_datetime('2015-10-01 01:00:00')]]\n",
    "\n",
    "last_train_date, first_test_date = threshold_dates[0]\n",
    "\n",
    "y_train = labeled_features.loc[labeled_features['datetime'] < last_train_date, 'failure']\n",
    "X_train = pd.get_dummies(labeled_features.loc[labeled_features['datetime'] < last_train_date].drop(['datetime', 'machineID', 'failure'], axis=1))\n"
   ],
   "metadata": {
    "collapsed": false,
    "ExecuteTime": {
     "end_time": "2024-04-22T07:42:56.016790Z",
     "start_time": "2024-04-22T07:42:55.969844Z"
    }
   }
  },
  {
   "cell_type": "code",
   "execution_count": 76,
   "outputs": [
    {
     "name": "stderr",
     "output_type": "stream",
     "text": [
      "/var/folders/wd/xc5lcvsx6cddcbbjh3kklb5c0000gn/T/ipykernel_49438/769967286.py:9: FutureWarning: Downcasting behavior in `replace` is deprecated and will be removed in a future version. To retain the old behavior, explicitly call `result.infer_objects(copy=False)`. To opt-in to the future behavior, set `pd.set_option('future.no_silent_downcasting', True)`\n",
      "  y_train = y_train.replace(dict_map)\n"
     ]
    },
    {
     "data": {
      "text/plain": "failure\n0    165353\n1      3685\nName: count, dtype: int64"
     },
     "execution_count": 76,
     "metadata": {},
     "output_type": "execute_result"
    }
   ],
   "source": [
    "# Binary class\n",
    "dict_map = {'none': 0,\n",
    "            'comp1': 1,\n",
    "            'comp2': 1,\n",
    "            'comp3': 1,\n",
    "            'comp4': 1,\n",
    "           }\n",
    "\n",
    "y_train = y_train.replace(dict_map)\n",
    "y_train.value_counts()"
   ],
   "metadata": {
    "collapsed": false,
    "ExecuteTime": {
     "end_time": "2024-04-22T07:43:21.456358Z",
     "start_time": "2024-04-22T07:43:21.413235Z"
    }
   }
  },
  {
   "cell_type": "code",
   "execution_count": 77,
   "outputs": [
    {
     "data": {
      "text/plain": "XGBClassifier(base_score=None, booster=None, callbacks=None,\n              colsample_bylevel=None, colsample_bynode=None,\n              colsample_bytree=None, device=None, early_stopping_rounds=None,\n              enable_categorical=False, eval_metric=None, feature_types=None,\n              gamma=None, grow_policy=None, importance_type=None,\n              interaction_constraints=None, learning_rate=None, max_bin=None,\n              max_cat_threshold=None, max_cat_to_onehot=None,\n              max_delta_step=None, max_depth=None, max_leaves=None,\n              min_child_weight=None, missing=nan, monotone_constraints=None,\n              multi_strategy=None, n_estimators=None, n_jobs=None,\n              num_parallel_tree=None, random_state=None, ...)",
      "text/html": "<style>#sk-container-id-1 {\n  /* Definition of color scheme common for light and dark mode */\n  --sklearn-color-text: black;\n  --sklearn-color-line: gray;\n  /* Definition of color scheme for unfitted estimators */\n  --sklearn-color-unfitted-level-0: #fff5e6;\n  --sklearn-color-unfitted-level-1: #f6e4d2;\n  --sklearn-color-unfitted-level-2: #ffe0b3;\n  --sklearn-color-unfitted-level-3: chocolate;\n  /* Definition of color scheme for fitted estimators */\n  --sklearn-color-fitted-level-0: #f0f8ff;\n  --sklearn-color-fitted-level-1: #d4ebff;\n  --sklearn-color-fitted-level-2: #b3dbfd;\n  --sklearn-color-fitted-level-3: cornflowerblue;\n\n  /* Specific color for light theme */\n  --sklearn-color-text-on-default-background: var(--sg-text-color, var(--theme-code-foreground, var(--jp-content-font-color1, black)));\n  --sklearn-color-background: var(--sg-background-color, var(--theme-background, var(--jp-layout-color0, white)));\n  --sklearn-color-border-box: var(--sg-text-color, var(--theme-code-foreground, var(--jp-content-font-color1, black)));\n  --sklearn-color-icon: #696969;\n\n  @media (prefers-color-scheme: dark) {\n    /* Redefinition of color scheme for dark theme */\n    --sklearn-color-text-on-default-background: var(--sg-text-color, var(--theme-code-foreground, var(--jp-content-font-color1, white)));\n    --sklearn-color-background: var(--sg-background-color, var(--theme-background, var(--jp-layout-color0, #111)));\n    --sklearn-color-border-box: var(--sg-text-color, var(--theme-code-foreground, var(--jp-content-font-color1, white)));\n    --sklearn-color-icon: #878787;\n  }\n}\n\n#sk-container-id-1 {\n  color: var(--sklearn-color-text);\n}\n\n#sk-container-id-1 pre {\n  padding: 0;\n}\n\n#sk-container-id-1 input.sk-hidden--visually {\n  border: 0;\n  clip: rect(1px 1px 1px 1px);\n  clip: rect(1px, 1px, 1px, 1px);\n  height: 1px;\n  margin: -1px;\n  overflow: hidden;\n  padding: 0;\n  position: absolute;\n  width: 1px;\n}\n\n#sk-container-id-1 div.sk-dashed-wrapped {\n  border: 1px dashed var(--sklearn-color-line);\n  margin: 0 0.4em 0.5em 0.4em;\n  box-sizing: border-box;\n  padding-bottom: 0.4em;\n  background-color: var(--sklearn-color-background);\n}\n\n#sk-container-id-1 div.sk-container {\n  /* jupyter's `normalize.less` sets `[hidden] { display: none; }`\n     but bootstrap.min.css set `[hidden] { display: none !important; }`\n     so we also need the `!important` here to be able to override the\n     default hidden behavior on the sphinx rendered scikit-learn.org.\n     See: https://github.com/scikit-learn/scikit-learn/issues/21755 */\n  display: inline-block !important;\n  position: relative;\n}\n\n#sk-container-id-1 div.sk-text-repr-fallback {\n  display: none;\n}\n\ndiv.sk-parallel-item,\ndiv.sk-serial,\ndiv.sk-item {\n  /* draw centered vertical line to link estimators */\n  background-image: linear-gradient(var(--sklearn-color-text-on-default-background), var(--sklearn-color-text-on-default-background));\n  background-size: 2px 100%;\n  background-repeat: no-repeat;\n  background-position: center center;\n}\n\n/* Parallel-specific style estimator block */\n\n#sk-container-id-1 div.sk-parallel-item::after {\n  content: \"\";\n  width: 100%;\n  border-bottom: 2px solid var(--sklearn-color-text-on-default-background);\n  flex-grow: 1;\n}\n\n#sk-container-id-1 div.sk-parallel {\n  display: flex;\n  align-items: stretch;\n  justify-content: center;\n  background-color: var(--sklearn-color-background);\n  position: relative;\n}\n\n#sk-container-id-1 div.sk-parallel-item {\n  display: flex;\n  flex-direction: column;\n}\n\n#sk-container-id-1 div.sk-parallel-item:first-child::after {\n  align-self: flex-end;\n  width: 50%;\n}\n\n#sk-container-id-1 div.sk-parallel-item:last-child::after {\n  align-self: flex-start;\n  width: 50%;\n}\n\n#sk-container-id-1 div.sk-parallel-item:only-child::after {\n  width: 0;\n}\n\n/* Serial-specific style estimator block */\n\n#sk-container-id-1 div.sk-serial {\n  display: flex;\n  flex-direction: column;\n  align-items: center;\n  background-color: var(--sklearn-color-background);\n  padding-right: 1em;\n  padding-left: 1em;\n}\n\n\n/* Toggleable style: style used for estimator/Pipeline/ColumnTransformer box that is\nclickable and can be expanded/collapsed.\n- Pipeline and ColumnTransformer use this feature and define the default style\n- Estimators will overwrite some part of the style using the `sk-estimator` class\n*/\n\n/* Pipeline and ColumnTransformer style (default) */\n\n#sk-container-id-1 div.sk-toggleable {\n  /* Default theme specific background. It is overwritten whether we have a\n  specific estimator or a Pipeline/ColumnTransformer */\n  background-color: var(--sklearn-color-background);\n}\n\n/* Toggleable label */\n#sk-container-id-1 label.sk-toggleable__label {\n  cursor: pointer;\n  display: block;\n  width: 100%;\n  margin-bottom: 0;\n  padding: 0.5em;\n  box-sizing: border-box;\n  text-align: center;\n}\n\n#sk-container-id-1 label.sk-toggleable__label-arrow:before {\n  /* Arrow on the left of the label */\n  content: \"▸\";\n  float: left;\n  margin-right: 0.25em;\n  color: var(--sklearn-color-icon);\n}\n\n#sk-container-id-1 label.sk-toggleable__label-arrow:hover:before {\n  color: var(--sklearn-color-text);\n}\n\n/* Toggleable content - dropdown */\n\n#sk-container-id-1 div.sk-toggleable__content {\n  max-height: 0;\n  max-width: 0;\n  overflow: hidden;\n  text-align: left;\n  /* unfitted */\n  background-color: var(--sklearn-color-unfitted-level-0);\n}\n\n#sk-container-id-1 div.sk-toggleable__content.fitted {\n  /* fitted */\n  background-color: var(--sklearn-color-fitted-level-0);\n}\n\n#sk-container-id-1 div.sk-toggleable__content pre {\n  margin: 0.2em;\n  border-radius: 0.25em;\n  color: var(--sklearn-color-text);\n  /* unfitted */\n  background-color: var(--sklearn-color-unfitted-level-0);\n}\n\n#sk-container-id-1 div.sk-toggleable__content.fitted pre {\n  /* unfitted */\n  background-color: var(--sklearn-color-fitted-level-0);\n}\n\n#sk-container-id-1 input.sk-toggleable__control:checked~div.sk-toggleable__content {\n  /* Expand drop-down */\n  max-height: 200px;\n  max-width: 100%;\n  overflow: auto;\n}\n\n#sk-container-id-1 input.sk-toggleable__control:checked~label.sk-toggleable__label-arrow:before {\n  content: \"▾\";\n}\n\n/* Pipeline/ColumnTransformer-specific style */\n\n#sk-container-id-1 div.sk-label input.sk-toggleable__control:checked~label.sk-toggleable__label {\n  color: var(--sklearn-color-text);\n  background-color: var(--sklearn-color-unfitted-level-2);\n}\n\n#sk-container-id-1 div.sk-label.fitted input.sk-toggleable__control:checked~label.sk-toggleable__label {\n  background-color: var(--sklearn-color-fitted-level-2);\n}\n\n/* Estimator-specific style */\n\n/* Colorize estimator box */\n#sk-container-id-1 div.sk-estimator input.sk-toggleable__control:checked~label.sk-toggleable__label {\n  /* unfitted */\n  background-color: var(--sklearn-color-unfitted-level-2);\n}\n\n#sk-container-id-1 div.sk-estimator.fitted input.sk-toggleable__control:checked~label.sk-toggleable__label {\n  /* fitted */\n  background-color: var(--sklearn-color-fitted-level-2);\n}\n\n#sk-container-id-1 div.sk-label label.sk-toggleable__label,\n#sk-container-id-1 div.sk-label label {\n  /* The background is the default theme color */\n  color: var(--sklearn-color-text-on-default-background);\n}\n\n/* On hover, darken the color of the background */\n#sk-container-id-1 div.sk-label:hover label.sk-toggleable__label {\n  color: var(--sklearn-color-text);\n  background-color: var(--sklearn-color-unfitted-level-2);\n}\n\n/* Label box, darken color on hover, fitted */\n#sk-container-id-1 div.sk-label.fitted:hover label.sk-toggleable__label.fitted {\n  color: var(--sklearn-color-text);\n  background-color: var(--sklearn-color-fitted-level-2);\n}\n\n/* Estimator label */\n\n#sk-container-id-1 div.sk-label label {\n  font-family: monospace;\n  font-weight: bold;\n  display: inline-block;\n  line-height: 1.2em;\n}\n\n#sk-container-id-1 div.sk-label-container {\n  text-align: center;\n}\n\n/* Estimator-specific */\n#sk-container-id-1 div.sk-estimator {\n  font-family: monospace;\n  border: 1px dotted var(--sklearn-color-border-box);\n  border-radius: 0.25em;\n  box-sizing: border-box;\n  margin-bottom: 0.5em;\n  /* unfitted */\n  background-color: var(--sklearn-color-unfitted-level-0);\n}\n\n#sk-container-id-1 div.sk-estimator.fitted {\n  /* fitted */\n  background-color: var(--sklearn-color-fitted-level-0);\n}\n\n/* on hover */\n#sk-container-id-1 div.sk-estimator:hover {\n  /* unfitted */\n  background-color: var(--sklearn-color-unfitted-level-2);\n}\n\n#sk-container-id-1 div.sk-estimator.fitted:hover {\n  /* fitted */\n  background-color: var(--sklearn-color-fitted-level-2);\n}\n\n/* Specification for estimator info (e.g. \"i\" and \"?\") */\n\n/* Common style for \"i\" and \"?\" */\n\n.sk-estimator-doc-link,\na:link.sk-estimator-doc-link,\na:visited.sk-estimator-doc-link {\n  float: right;\n  font-size: smaller;\n  line-height: 1em;\n  font-family: monospace;\n  background-color: var(--sklearn-color-background);\n  border-radius: 1em;\n  height: 1em;\n  width: 1em;\n  text-decoration: none !important;\n  margin-left: 1ex;\n  /* unfitted */\n  border: var(--sklearn-color-unfitted-level-1) 1pt solid;\n  color: var(--sklearn-color-unfitted-level-1);\n}\n\n.sk-estimator-doc-link.fitted,\na:link.sk-estimator-doc-link.fitted,\na:visited.sk-estimator-doc-link.fitted {\n  /* fitted */\n  border: var(--sklearn-color-fitted-level-1) 1pt solid;\n  color: var(--sklearn-color-fitted-level-1);\n}\n\n/* On hover */\ndiv.sk-estimator:hover .sk-estimator-doc-link:hover,\n.sk-estimator-doc-link:hover,\ndiv.sk-label-container:hover .sk-estimator-doc-link:hover,\n.sk-estimator-doc-link:hover {\n  /* unfitted */\n  background-color: var(--sklearn-color-unfitted-level-3);\n  color: var(--sklearn-color-background);\n  text-decoration: none;\n}\n\ndiv.sk-estimator.fitted:hover .sk-estimator-doc-link.fitted:hover,\n.sk-estimator-doc-link.fitted:hover,\ndiv.sk-label-container:hover .sk-estimator-doc-link.fitted:hover,\n.sk-estimator-doc-link.fitted:hover {\n  /* fitted */\n  background-color: var(--sklearn-color-fitted-level-3);\n  color: var(--sklearn-color-background);\n  text-decoration: none;\n}\n\n/* Span, style for the box shown on hovering the info icon */\n.sk-estimator-doc-link span {\n  display: none;\n  z-index: 9999;\n  position: relative;\n  font-weight: normal;\n  right: .2ex;\n  padding: .5ex;\n  margin: .5ex;\n  width: min-content;\n  min-width: 20ex;\n  max-width: 50ex;\n  color: var(--sklearn-color-text);\n  box-shadow: 2pt 2pt 4pt #999;\n  /* unfitted */\n  background: var(--sklearn-color-unfitted-level-0);\n  border: .5pt solid var(--sklearn-color-unfitted-level-3);\n}\n\n.sk-estimator-doc-link.fitted span {\n  /* fitted */\n  background: var(--sklearn-color-fitted-level-0);\n  border: var(--sklearn-color-fitted-level-3);\n}\n\n.sk-estimator-doc-link:hover span {\n  display: block;\n}\n\n/* \"?\"-specific style due to the `<a>` HTML tag */\n\n#sk-container-id-1 a.estimator_doc_link {\n  float: right;\n  font-size: 1rem;\n  line-height: 1em;\n  font-family: monospace;\n  background-color: var(--sklearn-color-background);\n  border-radius: 1rem;\n  height: 1rem;\n  width: 1rem;\n  text-decoration: none;\n  /* unfitted */\n  color: var(--sklearn-color-unfitted-level-1);\n  border: var(--sklearn-color-unfitted-level-1) 1pt solid;\n}\n\n#sk-container-id-1 a.estimator_doc_link.fitted {\n  /* fitted */\n  border: var(--sklearn-color-fitted-level-1) 1pt solid;\n  color: var(--sklearn-color-fitted-level-1);\n}\n\n/* On hover */\n#sk-container-id-1 a.estimator_doc_link:hover {\n  /* unfitted */\n  background-color: var(--sklearn-color-unfitted-level-3);\n  color: var(--sklearn-color-background);\n  text-decoration: none;\n}\n\n#sk-container-id-1 a.estimator_doc_link.fitted:hover {\n  /* fitted */\n  background-color: var(--sklearn-color-fitted-level-3);\n}\n</style><div id=\"sk-container-id-1\" class=\"sk-top-container\"><div class=\"sk-text-repr-fallback\"><pre>XGBClassifier(base_score=None, booster=None, callbacks=None,\n              colsample_bylevel=None, colsample_bynode=None,\n              colsample_bytree=None, device=None, early_stopping_rounds=None,\n              enable_categorical=False, eval_metric=None, feature_types=None,\n              gamma=None, grow_policy=None, importance_type=None,\n              interaction_constraints=None, learning_rate=None, max_bin=None,\n              max_cat_threshold=None, max_cat_to_onehot=None,\n              max_delta_step=None, max_depth=None, max_leaves=None,\n              min_child_weight=None, missing=nan, monotone_constraints=None,\n              multi_strategy=None, n_estimators=None, n_jobs=None,\n              num_parallel_tree=None, random_state=None, ...)</pre><b>In a Jupyter environment, please rerun this cell to show the HTML representation or trust the notebook. <br />On GitHub, the HTML representation is unable to render, please try loading this page with nbviewer.org.</b></div><div class=\"sk-container\" hidden><div class=\"sk-item\"><div class=\"sk-estimator fitted sk-toggleable\"><input class=\"sk-toggleable__control sk-hidden--visually\" id=\"sk-estimator-id-1\" type=\"checkbox\" checked><label for=\"sk-estimator-id-1\" class=\"sk-toggleable__label fitted sk-toggleable__label-arrow fitted\">&nbsp;XGBClassifier<span class=\"sk-estimator-doc-link fitted\">i<span>Fitted</span></span></label><div class=\"sk-toggleable__content fitted\"><pre>XGBClassifier(base_score=None, booster=None, callbacks=None,\n              colsample_bylevel=None, colsample_bynode=None,\n              colsample_bytree=None, device=None, early_stopping_rounds=None,\n              enable_categorical=False, eval_metric=None, feature_types=None,\n              gamma=None, grow_policy=None, importance_type=None,\n              interaction_constraints=None, learning_rate=None, max_bin=None,\n              max_cat_threshold=None, max_cat_to_onehot=None,\n              max_delta_step=None, max_depth=None, max_leaves=None,\n              min_child_weight=None, missing=nan, monotone_constraints=None,\n              multi_strategy=None, n_estimators=None, n_jobs=None,\n              num_parallel_tree=None, random_state=None, ...)</pre></div> </div></div></div></div>"
     },
     "execution_count": 77,
     "metadata": {},
     "output_type": "execute_result"
    }
   ],
   "source": [
    "from xgboost import XGBClassifier\n",
    "# Create an instance of the XGBClassifier\n",
    "model = XGBClassifier(objective='binary:logistic')\n",
    "\n",
    "# Fit the model to the training data\n",
    "model.fit(X_train, y_train)"
   ],
   "metadata": {
    "collapsed": false,
    "ExecuteTime": {
     "end_time": "2024-04-22T07:43:42.908172Z",
     "start_time": "2024-04-22T07:43:42.077091Z"
    }
   }
  },
  {
   "cell_type": "code",
   "execution_count": 78,
   "outputs": [],
   "source": [
    "MODELS_PATH = os.path.join(\"..\",\"store\",\"models\")\n",
    "model.save_model(os.path.join(MODELS_PATH,\"xgboost_binary.json\"))"
   ],
   "metadata": {
    "collapsed": false,
    "ExecuteTime": {
     "end_time": "2024-04-22T07:43:57.271891Z",
     "start_time": "2024-04-22T07:43:57.241511Z"
    }
   }
  },
  {
   "cell_type": "markdown",
   "source": [
    "## Evaluation"
   ],
   "metadata": {
    "collapsed": false
   }
  },
  {
   "cell_type": "code",
   "execution_count": 80,
   "outputs": [],
   "source": [
    "y_test = labeled_features.loc[labeled_features['datetime'] >= first_test_date, 'failure']\n",
    "X_test = pd.get_dummies(labeled_features.loc[labeled_features['datetime'] >= first_test_date].drop(['datetime',\n",
    "                                                                                                    'machineID',\n",
    "                                                                                                    'failure'], axis=1))"
   ],
   "metadata": {
    "collapsed": false,
    "ExecuteTime": {
     "end_time": "2024-04-22T07:44:12.243954Z",
     "start_time": "2024-04-22T07:44:12.207611Z"
    }
   }
  },
  {
   "cell_type": "code",
   "execution_count": 81,
   "outputs": [
    {
     "name": "stderr",
     "output_type": "stream",
     "text": [
      "/var/folders/wd/xc5lcvsx6cddcbbjh3kklb5c0000gn/T/ipykernel_49438/795886439.py:1: FutureWarning: Downcasting behavior in `replace` is deprecated and will be removed in a future version. To retain the old behavior, explicitly call `result.infer_objects(copy=False)`. To opt-in to the future behavior, set `pd.set_option('future.no_silent_downcasting', True)`\n",
      "  y_test = y_test.replace(dict_map)\n"
     ]
    },
    {
     "data": {
      "text/plain": "failure\n0    120485\n1      2454\nName: count, dtype: int64"
     },
     "execution_count": 81,
     "metadata": {},
     "output_type": "execute_result"
    }
   ],
   "source": [
    "y_test = y_test.replace(dict_map)\n",
    "y_test.value_counts()"
   ],
   "metadata": {
    "collapsed": false,
    "ExecuteTime": {
     "end_time": "2024-04-22T07:44:18.844493Z",
     "start_time": "2024-04-22T07:44:18.813765Z"
    }
   }
  },
  {
   "cell_type": "code",
   "execution_count": 82,
   "outputs": [
    {
     "data": {
      "text/plain": "pred\n0    120476\n1      2463\nName: count, dtype: int64"
     },
     "execution_count": 82,
     "metadata": {},
     "output_type": "execute_result"
    }
   ],
   "source": [
    "y_test = y_test.to_frame()\n",
    "y_test['pred'] = list(model.predict(X_test))\n",
    "y_test['pred'].value_counts()"
   ],
   "metadata": {
    "collapsed": false,
    "ExecuteTime": {
     "end_time": "2024-04-22T07:44:25.169701Z",
     "start_time": "2024-04-22T07:44:24.918308Z"
    }
   }
  },
  {
   "cell_type": "code",
   "execution_count": 84,
   "outputs": [
    {
     "data": {
      "text/plain": "<Figure size 640x480 with 1 Axes>",
      "image/png": "[encoded data removed]"
     },
     "metadata": {},
     "output_type": "display_data"
    }
   ],
   "source": [
    "from mlxtend.evaluate import confusion_matrix\n",
    "from mlxtend.plotting import plot_confusion_matrix\n",
    "import matplotlib.pyplot as plt\n",
    "\n",
    "cm = confusion_matrix(y_target=y_test['failure'],\n",
    "                      y_predicted=y_test['pred'],\n",
    "                      binary=True)\n",
    "\n",
    "fig, ax = plot_confusion_matrix(conf_mat=cm)\n",
    "plt.show()"
   ],
   "metadata": {
    "collapsed": false,
    "ExecuteTime": {
     "end_time": "2024-04-22T07:47:49.477692Z",
     "start_time": "2024-04-22T07:47:47.027324Z"
    }
   }
  },
  {
   "cell_type": "code",
   "execution_count": 85,
   "outputs": [
    {
     "name": "stdout",
     "output_type": "stream",
     "text": [
      "Recall:  0.9682151589242054\n",
      "Precision:  0.9646772228989038\n"
     ]
    }
   ],
   "source": [
    "from sklearn.metrics import recall_score\n",
    "from sklearn.metrics import precision_score\n",
    "\n",
    "recall = recall_score(y_test['failure'], y_test['pred'])\n",
    "\n",
    "print(\"Recall: \", recall)\n",
    "\n",
    "precision = precision_score(y_test['failure'], y_test['pred'])\n",
    "\n",
    "print(\"Precision: \", precision)"
   ],
   "metadata": {
    "collapsed": false,
    "ExecuteTime": {
     "end_time": "2024-04-22T07:48:03.414963Z",
     "start_time": "2024-04-22T07:48:03.346457Z"
    }
   }
  },
  {
   "cell_type": "markdown",
   "source": [
    "# XGBoost multiclass - Type of error prediction"
   ],
   "metadata": {
    "collapsed": false
   }
  },
  {
   "cell_type": "code",
   "execution_count": 87,
   "outputs": [],
   "source": [
    "threshold_dates = [[pd.to_datetime('2015-07-31 01:00:00'), pd.to_datetime('2015-08-01 01:00:00')],\n",
    "                   [pd.to_datetime('2015-08-31 01:00:00'), pd.to_datetime('2015-09-01 01:00:00')],\n",
    "                   [pd.to_datetime('2015-09-30 01:00:00'), pd.to_datetime('2015-10-01 01:00:00')]]\n",
    "\n",
    "last_train_date, first_test_date = threshold_dates[0]\n",
    "\n",
    "y_train = labeled_features.loc[labeled_features['datetime'] < last_train_date, 'failure']\n",
    "X_train = pd.get_dummies(labeled_features.loc[labeled_features['datetime'] < last_train_date].drop(['datetime',\n",
    "                                                                                                    'machineID',\n",
    "                                                                                                    'failure'], axis=1))"
   ],
   "metadata": {
    "collapsed": false,
    "ExecuteTime": {
     "end_time": "2024-04-22T07:48:37.901199Z",
     "start_time": "2024-04-22T07:48:37.865985Z"
    }
   }
  },
  {
   "cell_type": "code",
   "execution_count": 89,
   "outputs": [
    {
     "name": "stderr",
     "output_type": "stream",
     "text": [
      "/var/folders/wd/xc5lcvsx6cddcbbjh3kklb5c0000gn/T/ipykernel_49438/3668342312.py:8: FutureWarning: Downcasting behavior in `replace` is deprecated and will be removed in a future version. To retain the old behavior, explicitly call `result.infer_objects(copy=False)`. To opt-in to the future behavior, set `pd.set_option('future.no_silent_downcasting', True)`\n",
      "  y_train = y_train.replace(dict_map)\n"
     ]
    },
    {
     "data": {
      "text/plain": "failure\n0    165353\n2      1199\n1      1063\n4       796\n3       627\nName: count, dtype: int64"
     },
     "execution_count": 89,
     "metadata": {},
     "output_type": "execute_result"
    }
   ],
   "source": [
    "dict_map = {'none': 0,\n",
    "            'comp1': 1,\n",
    "            'comp2': 2,\n",
    "            'comp3': 3,\n",
    "            'comp4': 4,\n",
    "           }\n",
    "\n",
    "y_train = y_train.replace(dict_map)\n",
    "y_train.value_counts()"
   ],
   "metadata": {
    "collapsed": false,
    "ExecuteTime": {
     "end_time": "2024-04-22T07:48:57.671784Z",
     "start_time": "2024-04-22T07:48:57.631996Z"
    }
   }
  },
  {
   "cell_type": "code",
   "execution_count": 90,
   "outputs": [
    {
     "data": {
      "text/plain": "XGBClassifier(base_score=None, booster=None, callbacks=None,\n              colsample_bylevel=None, colsample_bynode=None,\n              colsample_bytree=None, device=None, early_stopping_rounds=None,\n              enable_categorical=False, eval_metric=None, feature_types=None,\n              gamma=None, grow_policy=None, importance_type=None,\n              interaction_constraints=None, learning_rate=None, max_bin=None,\n              max_cat_threshold=None, max_cat_to_onehot=None,\n              max_delta_step=None, max_depth=None, max_leaves=None,\n              min_child_weight=None, missing=nan, monotone_constraints=None,\n              multi_strategy=None, n_estimators=None, n_jobs=None,\n              num_parallel_tree=None, objective='multi:softprob', ...)",
      "text/html": "<style>#sk-container-id-2 {\n  /* Definition of color scheme common for light and dark mode */\n  --sklearn-color-text: black;\n  --sklearn-color-line: gray;\n  /* Definition of color scheme for unfitted estimators */\n  --sklearn-color-unfitted-level-0: #fff5e6;\n  --sklearn-color-unfitted-level-1: #f6e4d2;\n  --sklearn-color-unfitted-level-2: #ffe0b3;\n  --sklearn-color-unfitted-level-3: chocolate;\n  /* Definition of color scheme for fitted estimators */\n  --sklearn-color-fitted-level-0: #f0f8ff;\n  --sklearn-color-fitted-level-1: #d4ebff;\n  --sklearn-color-fitted-level-2: #b3dbfd;\n  --sklearn-color-fitted-level-3: cornflowerblue;\n\n  /* Specific color for light theme */\n  --sklearn-color-text-on-default-background: var(--sg-text-color, var(--theme-code-foreground, var(--jp-content-font-color1, black)));\n  --sklearn-color-background: var(--sg-background-color, var(--theme-background, var(--jp-layout-color0, white)));\n  --sklearn-color-border-box: var(--sg-text-color, var(--theme-code-foreground, var(--jp-content-font-color1, black)));\n  --sklearn-color-icon: #696969;\n\n  @media (prefers-color-scheme: dark) {\n    /* Redefinition of color scheme for dark theme */\n    --sklearn-color-text-on-default-background: var(--sg-text-color, var(--theme-code-foreground, var(--jp-content-font-color1, white)));\n    --sklearn-color-background: var(--sg-background-color, var(--theme-background, var(--jp-layout-color0, #111)));\n    --sklearn-color-border-box: var(--sg-text-color, var(--theme-code-foreground, var(--jp-content-font-color1, white)));\n    --sklearn-color-icon: #878787;\n  }\n}\n\n#sk-container-id-2 {\n  color: var(--sklearn-color-text);\n}\n\n#sk-container-id-2 pre {\n  padding: 0;\n}\n\n#sk-container-id-2 input.sk-hidden--visually {\n  border: 0;\n  clip: rect(1px 1px 1px 1px);\n  clip: rect(1px, 1px, 1px, 1px);\n  height: 1px;\n  margin: -1px;\n  overflow: hidden;\n  padding: 0;\n  position: absolute;\n  width: 1px;\n}\n\n#sk-container-id-2 div.sk-dashed-wrapped {\n  border: 1px dashed var(--sklearn-color-line);\n  margin: 0 0.4em 0.5em 0.4em;\n  box-sizing: border-box;\n  padding-bottom: 0.4em;\n  background-color: var(--sklearn-color-background);\n}\n\n#sk-container-id-2 div.sk-container {\n  /* jupyter's `normalize.less` sets `[hidden] { display: none; }`\n     but bootstrap.min.css set `[hidden] { display: none !important; }`\n     so we also need the `!important` here to be able to override the\n     default hidden behavior on the sphinx rendered scikit-learn.org.\n     See: https://github.com/scikit-learn/scikit-learn/issues/21755 */\n  display: inline-block !important;\n  position: relative;\n}\n\n#sk-container-id-2 div.sk-text-repr-fallback {\n  display: none;\n}\n\ndiv.sk-parallel-item,\ndiv.sk-serial,\ndiv.sk-item {\n  /* draw centered vertical line to link estimators */\n  background-image: linear-gradient(var(--sklearn-color-text-on-default-background), var(--sklearn-color-text-on-default-background));\n  background-size: 2px 100%;\n  background-repeat: no-repeat;\n  background-position: center center;\n}\n\n/* Parallel-specific style estimator block */\n\n#sk-container-id-2 div.sk-parallel-item::after {\n  content: \"\";\n  width: 100%;\n  border-bottom: 2px solid var(--sklearn-color-text-on-default-background);\n  flex-grow: 1;\n}\n\n#sk-container-id-2 div.sk-parallel {\n  display: flex;\n  align-items: stretch;\n  justify-content: center;\n  background-color: var(--sklearn-color-background);\n  position: relative;\n}\n\n#sk-container-id-2 div.sk-parallel-item {\n  display: flex;\n  flex-direction: column;\n}\n\n#sk-container-id-2 div.sk-parallel-item:first-child::after {\n  align-self: flex-end;\n  width: 50%;\n}\n\n#sk-container-id-2 div.sk-parallel-item:last-child::after {\n  align-self: flex-start;\n  width: 50%;\n}\n\n#sk-container-id-2 div.sk-parallel-item:only-child::after {\n  width: 0;\n}\n\n/* Serial-specific style estimator block */\n\n#sk-container-id-2 div.sk-serial {\n  display: flex;\n  flex-direction: column;\n  align-items: center;\n  background-color: var(--sklearn-color-background);\n  padding-right: 1em;\n  padding-left: 1em;\n}\n\n\n/* Toggleable style: style used for estimator/Pipeline/ColumnTransformer box that is\nclickable and can be expanded/collapsed.\n- Pipeline and ColumnTransformer use this feature and define the default style\n- Estimators will overwrite some part of the style using the `sk-estimator` class\n*/\n\n/* Pipeline and ColumnTransformer style (default) */\n\n#sk-container-id-2 div.sk-toggleable {\n  /* Default theme specific background. It is overwritten whether we have a\n  specific estimator or a Pipeline/ColumnTransformer */\n  background-color: var(--sklearn-color-background);\n}\n\n/* Toggleable label */\n#sk-container-id-2 label.sk-toggleable__label {\n  cursor: pointer;\n  display: block;\n  width: 100%;\n  margin-bottom: 0;\n  padding: 0.5em;\n  box-sizing: border-box;\n  text-align: center;\n}\n\n#sk-container-id-2 label.sk-toggleable__label-arrow:before {\n  /* Arrow on the left of the label */\n  content: \"▸\";\n  float: left;\n  margin-right: 0.25em;\n  color: var(--sklearn-color-icon);\n}\n\n#sk-container-id-2 label.sk-toggleable__label-arrow:hover:before {\n  color: var(--sklearn-color-text);\n}\n\n/* Toggleable content - dropdown */\n\n#sk-container-id-2 div.sk-toggleable__content {\n  max-height: 0;\n  max-width: 0;\n  overflow: hidden;\n  text-align: left;\n  /* unfitted */\n  background-color: var(--sklearn-color-unfitted-level-0);\n}\n\n#sk-container-id-2 div.sk-toggleable__content.fitted {\n  /* fitted */\n  background-color: var(--sklearn-color-fitted-level-0);\n}\n\n#sk-container-id-2 div.sk-toggleable__content pre {\n  margin: 0.2em;\n  border-radius: 0.25em;\n  color: var(--sklearn-color-text);\n  /* unfitted */\n  background-color: var(--sklearn-color-unfitted-level-0);\n}\n\n#sk-container-id-2 div.sk-toggleable__content.fitted pre {\n  /* unfitted */\n  background-color: var(--sklearn-color-fitted-level-0);\n}\n\n#sk-container-id-2 input.sk-toggleable__control:checked~div.sk-toggleable__content {\n  /* Expand drop-down */\n  max-height: 200px;\n  max-width: 100%;\n  overflow: auto;\n}\n\n#sk-container-id-2 input.sk-toggleable__control:checked~label.sk-toggleable__label-arrow:before {\n  content: \"▾\";\n}\n\n/* Pipeline/ColumnTransformer-specific style */\n\n#sk-container-id-2 div.sk-label input.sk-toggleable__control:checked~label.sk-toggleable__label {\n  color: var(--sklearn-color-text);\n  background-color: var(--sklearn-color-unfitted-level-2);\n}\n\n#sk-container-id-2 div.sk-label.fitted input.sk-toggleable__control:checked~label.sk-toggleable__label {\n  background-color: var(--sklearn-color-fitted-level-2);\n}\n\n/* Estimator-specific style */\n\n/* Colorize estimator box */\n#sk-container-id-2 div.sk-estimator input.sk-toggleable__control:checked~label.sk-toggleable__label {\n  /* unfitted */\n  background-color: var(--sklearn-color-unfitted-level-2);\n}\n\n#sk-container-id-2 div.sk-estimator.fitted input.sk-toggleable__control:checked~label.sk-toggleable__label {\n  /* fitted */\n  background-color: var(--sklearn-color-fitted-level-2);\n}\n\n#sk-container-id-2 div.sk-label label.sk-toggleable__label,\n#sk-container-id-2 div.sk-label label {\n  /* The background is the default theme color */\n  color: var(--sklearn-color-text-on-default-background);\n}\n\n/* On hover, darken the color of the background */\n#sk-container-id-2 div.sk-label:hover label.sk-toggleable__label {\n  color: var(--sklearn-color-text);\n  background-color: var(--sklearn-color-unfitted-level-2);\n}\n\n/* Label box, darken color on hover, fitted */\n#sk-container-id-2 div.sk-label.fitted:hover label.sk-toggleable__label.fitted {\n  color: var(--sklearn-color-text);\n  background-color: var(--sklearn-color-fitted-level-2);\n}\n\n/* Estimator label */\n\n#sk-container-id-2 div.sk-label label {\n  font-family: monospace;\n  font-weight: bold;\n  display: inline-block;\n  line-height: 1.2em;\n}\n\n#sk-container-id-2 div.sk-label-container {\n  text-align: center;\n}\n\n/* Estimator-specific */\n#sk-container-id-2 div.sk-estimator {\n  font-family: monospace;\n  border: 1px dotted var(--sklearn-color-border-box);\n  border-radius: 0.25em;\n  box-sizing: border-box;\n  margin-bottom: 0.5em;\n  /* unfitted */\n  background-color: var(--sklearn-color-unfitted-level-0);\n}\n\n#sk-container-id-2 div.sk-estimator.fitted {\n  /* fitted */\n  background-color: var(--sklearn-color-fitted-level-0);\n}\n\n/* on hover */\n#sk-container-id-2 div.sk-estimator:hover {\n  /* unfitted */\n  background-color: var(--sklearn-color-unfitted-level-2);\n}\n\n#sk-container-id-2 div.sk-estimator.fitted:hover {\n  /* fitted */\n  background-color: var(--sklearn-color-fitted-level-2);\n}\n\n/* Specification for estimator info (e.g. \"i\" and \"?\") */\n\n/* Common style for \"i\" and \"?\" */\n\n.sk-estimator-doc-link,\na:link.sk-estimator-doc-link,\na:visited.sk-estimator-doc-link {\n  float: right;\n  font-size: smaller;\n  line-height: 1em;\n  font-family: monospace;\n  background-color: var(--sklearn-color-background);\n  border-radius: 1em;\n  height: 1em;\n  width: 1em;\n  text-decoration: none !important;\n  margin-left: 1ex;\n  /* unfitted */\n  border: var(--sklearn-color-unfitted-level-1) 1pt solid;\n  color: var(--sklearn-color-unfitted-level-1);\n}\n\n.sk-estimator-doc-link.fitted,\na:link.sk-estimator-doc-link.fitted,\na:visited.sk-estimator-doc-link.fitted {\n  /* fitted */\n  border: var(--sklearn-color-fitted-level-1) 1pt solid;\n  color: var(--sklearn-color-fitted-level-1);\n}\n\n/* On hover */\ndiv.sk-estimator:hover .sk-estimator-doc-link:hover,\n.sk-estimator-doc-link:hover,\ndiv.sk-label-container:hover .sk-estimator-doc-link:hover,\n.sk-estimator-doc-link:hover {\n  /* unfitted */\n  background-color: var(--sklearn-color-unfitted-level-3);\n  color: var(--sklearn-color-background);\n  text-decoration: none;\n}\n\ndiv.sk-estimator.fitted:hover .sk-estimator-doc-link.fitted:hover,\n.sk-estimator-doc-link.fitted:hover,\ndiv.sk-label-container:hover .sk-estimator-doc-link.fitted:hover,\n.sk-estimator-doc-link.fitted:hover {\n  /* fitted */\n  background-color: var(--sklearn-color-fitted-level-3);\n  color: var(--sklearn-color-background);\n  text-decoration: none;\n}\n\n/* Span, style for the box shown on hovering the info icon */\n.sk-estimator-doc-link span {\n  display: none;\n  z-index: 9999;\n  position: relative;\n  font-weight: normal;\n  right: .2ex;\n  padding: .5ex;\n  margin: .5ex;\n  width: min-content;\n  min-width: 20ex;\n  max-width: 50ex;\n  color: var(--sklearn-color-text);\n  box-shadow: 2pt 2pt 4pt #999;\n  /* unfitted */\n  background: var(--sklearn-color-unfitted-level-0);\n  border: .5pt solid var(--sklearn-color-unfitted-level-3);\n}\n\n.sk-estimator-doc-link.fitted span {\n  /* fitted */\n  background: var(--sklearn-color-fitted-level-0);\n  border: var(--sklearn-color-fitted-level-3);\n}\n\n.sk-estimator-doc-link:hover span {\n  display: block;\n}\n\n/* \"?\"-specific style due to the `<a>` HTML tag */\n\n#sk-container-id-2 a.estimator_doc_link {\n  float: right;\n  font-size: 1rem;\n  line-height: 1em;\n  font-family: monospace;\n  background-color: var(--sklearn-color-background);\n  border-radius: 1rem;\n  height: 1rem;\n  width: 1rem;\n  text-decoration: none;\n  /* unfitted */\n  color: var(--sklearn-color-unfitted-level-1);\n  border: var(--sklearn-color-unfitted-level-1) 1pt solid;\n}\n\n#sk-container-id-2 a.estimator_doc_link.fitted {\n  /* fitted */\n  border: var(--sklearn-color-fitted-level-1) 1pt solid;\n  color: var(--sklearn-color-fitted-level-1);\n}\n\n/* On hover */\n#sk-container-id-2 a.estimator_doc_link:hover {\n  /* unfitted */\n  background-color: var(--sklearn-color-unfitted-level-3);\n  color: var(--sklearn-color-background);\n  text-decoration: none;\n}\n\n#sk-container-id-2 a.estimator_doc_link.fitted:hover {\n  /* fitted */\n  background-color: var(--sklearn-color-fitted-level-3);\n}\n</style><div id=\"sk-container-id-2\" class=\"sk-top-container\"><div class=\"sk-text-repr-fallback\"><pre>XGBClassifier(base_score=None, booster=None, callbacks=None,\n              colsample_bylevel=None, colsample_bynode=None,\n              colsample_bytree=None, device=None, early_stopping_rounds=None,\n              enable_categorical=False, eval_metric=None, feature_types=None,\n              gamma=None, grow_policy=None, importance_type=None,\n              interaction_constraints=None, learning_rate=None, max_bin=None,\n              max_cat_threshold=None, max_cat_to_onehot=None,\n              max_delta_step=None, max_depth=None, max_leaves=None,\n              min_child_weight=None, missing=nan, monotone_constraints=None,\n              multi_strategy=None, n_estimators=None, n_jobs=None,\n              num_parallel_tree=None, objective=&#x27;multi:softprob&#x27;, ...)</pre><b>In a Jupyter environment, please rerun this cell to show the HTML representation or trust the notebook. <br />On GitHub, the HTML representation is unable to render, please try loading this page with nbviewer.org.</b></div><div class=\"sk-container\" hidden><div class=\"sk-item\"><div class=\"sk-estimator fitted sk-toggleable\"><input class=\"sk-toggleable__control sk-hidden--visually\" id=\"sk-estimator-id-2\" type=\"checkbox\" checked><label for=\"sk-estimator-id-2\" class=\"sk-toggleable__label fitted sk-toggleable__label-arrow fitted\">&nbsp;XGBClassifier<span class=\"sk-estimator-doc-link fitted\">i<span>Fitted</span></span></label><div class=\"sk-toggleable__content fitted\"><pre>XGBClassifier(base_score=None, booster=None, callbacks=None,\n              colsample_bylevel=None, colsample_bynode=None,\n              colsample_bytree=None, device=None, early_stopping_rounds=None,\n              enable_categorical=False, eval_metric=None, feature_types=None,\n              gamma=None, grow_policy=None, importance_type=None,\n              interaction_constraints=None, learning_rate=None, max_bin=None,\n              max_cat_threshold=None, max_cat_to_onehot=None,\n              max_delta_step=None, max_depth=None, max_leaves=None,\n              min_child_weight=None, missing=nan, monotone_constraints=None,\n              multi_strategy=None, n_estimators=None, n_jobs=None,\n              num_parallel_tree=None, objective=&#x27;multi:softprob&#x27;, ...)</pre></div> </div></div></div></div>"
     },
     "execution_count": 90,
     "metadata": {},
     "output_type": "execute_result"
    }
   ],
   "source": [
    "from xgboost import XGBClassifier\n",
    "\n",
    "# Create an instance of the XGBClassifier\n",
    "model = XGBClassifier(objective='multi:softprob')\n",
    "\n",
    "# Fit the model to the training data\n",
    "model.fit(X_train, y_train)"
   ],
   "metadata": {
    "collapsed": false,
    "ExecuteTime": {
     "end_time": "2024-04-22T07:49:04.983059Z",
     "start_time": "2024-04-22T07:49:02.882081Z"
    }
   }
  },
  {
   "cell_type": "code",
   "execution_count": 91,
   "outputs": [],
   "source": [
    "MODELS_PATH = os.path.join(\"..\",\"store\",\"models\")\n",
    "model.save_model(os.path.join(MODELS_PATH,\"xgboost_multiclass.json\"))"
   ],
   "metadata": {
    "collapsed": false,
    "ExecuteTime": {
     "end_time": "2024-04-22T07:49:27.310431Z",
     "start_time": "2024-04-22T07:49:27.278401Z"
    }
   }
  },
  {
   "cell_type": "markdown",
   "source": [
    "## Evaluation"
   ],
   "metadata": {
    "collapsed": false
   }
  },
  {
   "cell_type": "code",
   "execution_count": 94,
   "outputs": [],
   "source": [
    "y_test = labeled_features.loc[labeled_features['datetime'] >= first_test_date, 'failure']\n",
    "X_test = pd.get_dummies(labeled_features.loc[labeled_features['datetime'] >= first_test_date].drop(['datetime',\n",
    "                                                                                                    'machineID',\n",
    "                                                                                                    'failure'], axis=1))"
   ],
   "metadata": {
    "collapsed": false,
    "ExecuteTime": {
     "end_time": "2024-04-22T07:49:49.071806Z",
     "start_time": "2024-04-22T07:49:49.010595Z"
    }
   }
  },
  {
   "cell_type": "code",
   "execution_count": 98,
   "outputs": [
    {
     "data": {
      "text/plain": "      voltmean_3h  temperaturemean_3h  pressuremean_3h  vibrationmean_3h  \\\n1676   157.906797          436.223066        99.668710         41.927731   \n1677   177.484300          474.384707        95.465206         36.536615   \n1678   160.722230          454.141020        96.239534         37.227385   \n1679   164.327403          483.343506        93.766954         37.099411   \n1680   168.114265          459.958711       100.904301         40.966879   \n\n      voltsd_3h  temperaturesd_3h  pressuresd_3h  vibrationsd_3h  \\\n1676  14.311694         48.891917       8.484343        5.750070   \n1677  11.467069         52.263950       7.914226        5.928830   \n1678  11.720061         60.893656      16.558994        0.510792   \n1679  11.158956         36.377145       5.826244        5.443107   \n1680  21.079445         70.966810       8.388908        4.248384   \n\n      voltmean_24h  temperaturemean_24h  ...  error5count   comp1   comp2  \\\n1676    170.652027           445.221734  ...          0.0  12.875  27.875   \n1677    170.804173           446.963574  ...          0.0  13.000  28.000   \n1678    169.589308           444.203774  ...          0.0  13.125  28.125   \n1679    168.178133           446.728994  ...          0.0  13.250  28.250   \n1680    169.966161           444.893159  ...          0.0  13.375  28.375   \n\n       comp3   comp4  age  model_model1  model_model2  model_model3  \\\n1676  57.875  42.875   18         False         False          True   \n1677  58.000  43.000   18         False         False          True   \n1678  58.125  43.125   18         False         False          True   \n1679  58.250  43.250   18         False         False          True   \n1680  58.375  43.375   18         False         False          True   \n\n      model_model4  \n1676         False  \n1677         False  \n1678         False  \n1679         False  \n1680         False  \n\n[5 rows x 30 columns]",
      "text/html": "<div>\n<style scoped>\n    .dataframe tbody tr th:only-of-type {\n        vertical-align: middle;\n    }\n\n    .dataframe tbody tr th {\n        vertical-align: top;\n    }\n\n    .dataframe thead th {\n        text-align: right;\n    }\n</style>\n<table border=\"1\" class=\"dataframe\">\n  <thead>\n    <tr style=\"text-align: right;\">\n      <th></th>\n      <th>voltmean_3h</th>\n      <th>temperaturemean_3h</th>\n      <th>pressuremean_3h</th>\n      <th>vibrationmean_3h</th>\n      <th>voltsd_3h</th>\n      <th>temperaturesd_3h</th>\n      <th>pressuresd_3h</th>\n      <th>vibrationsd_3h</th>\n      <th>voltmean_24h</th>\n      <th>temperaturemean_24h</th>\n      <th>...</th>\n      <th>error5count</th>\n      <th>comp1</th>\n      <th>comp2</th>\n      <th>comp3</th>\n      <th>comp4</th>\n      <th>age</th>\n      <th>model_model1</th>\n      <th>model_model2</th>\n      <th>model_model3</th>\n      <th>model_model4</th>\n    </tr>\n  </thead>\n  <tbody>\n    <tr>\n      <th>1676</th>\n      <td>157.906797</td>\n      <td>436.223066</td>\n      <td>99.668710</td>\n      <td>41.927731</td>\n      <td>14.311694</td>\n      <td>48.891917</td>\n      <td>8.484343</td>\n      <td>5.750070</td>\n      <td>170.652027</td>\n      <td>445.221734</td>\n      <td>...</td>\n      <td>0.0</td>\n      <td>12.875</td>\n      <td>27.875</td>\n      <td>57.875</td>\n      <td>42.875</td>\n      <td>18</td>\n      <td>False</td>\n      <td>False</td>\n      <td>True</td>\n      <td>False</td>\n    </tr>\n    <tr>\n      <th>1677</th>\n      <td>177.484300</td>\n      <td>474.384707</td>\n      <td>95.465206</td>\n      <td>36.536615</td>\n      <td>11.467069</td>\n      <td>52.263950</td>\n      <td>7.914226</td>\n      <td>5.928830</td>\n      <td>170.804173</td>\n      <td>446.963574</td>\n      <td>...</td>\n      <td>0.0</td>\n      <td>13.000</td>\n      <td>28.000</td>\n      <td>58.000</td>\n      <td>43.000</td>\n      <td>18</td>\n      <td>False</td>\n      <td>False</td>\n      <td>True</td>\n      <td>False</td>\n    </tr>\n    <tr>\n      <th>1678</th>\n      <td>160.722230</td>\n      <td>454.141020</td>\n      <td>96.239534</td>\n      <td>37.227385</td>\n      <td>11.720061</td>\n      <td>60.893656</td>\n      <td>16.558994</td>\n      <td>0.510792</td>\n      <td>169.589308</td>\n      <td>444.203774</td>\n      <td>...</td>\n      <td>0.0</td>\n      <td>13.125</td>\n      <td>28.125</td>\n      <td>58.125</td>\n      <td>43.125</td>\n      <td>18</td>\n      <td>False</td>\n      <td>False</td>\n      <td>True</td>\n      <td>False</td>\n    </tr>\n    <tr>\n      <th>1679</th>\n      <td>164.327403</td>\n      <td>483.343506</td>\n      <td>93.766954</td>\n      <td>37.099411</td>\n      <td>11.158956</td>\n      <td>36.377145</td>\n      <td>5.826244</td>\n      <td>5.443107</td>\n      <td>168.178133</td>\n      <td>446.728994</td>\n      <td>...</td>\n      <td>0.0</td>\n      <td>13.250</td>\n      <td>28.250</td>\n      <td>58.250</td>\n      <td>43.250</td>\n      <td>18</td>\n      <td>False</td>\n      <td>False</td>\n      <td>True</td>\n      <td>False</td>\n    </tr>\n    <tr>\n      <th>1680</th>\n      <td>168.114265</td>\n      <td>459.958711</td>\n      <td>100.904301</td>\n      <td>40.966879</td>\n      <td>21.079445</td>\n      <td>70.966810</td>\n      <td>8.388908</td>\n      <td>4.248384</td>\n      <td>169.966161</td>\n      <td>444.893159</td>\n      <td>...</td>\n      <td>0.0</td>\n      <td>13.375</td>\n      <td>28.375</td>\n      <td>58.375</td>\n      <td>43.375</td>\n      <td>18</td>\n      <td>False</td>\n      <td>False</td>\n      <td>True</td>\n      <td>False</td>\n    </tr>\n  </tbody>\n</table>\n<p>5 rows × 30 columns</p>\n</div>"
     },
     "execution_count": 98,
     "metadata": {},
     "output_type": "execute_result"
    }
   ],
   "source": [
    "X_test.head()"
   ],
   "metadata": {
    "collapsed": false,
    "ExecuteTime": {
     "end_time": "2024-04-22T07:52:57.683571Z",
     "start_time": "2024-04-22T07:52:57.646627Z"
    }
   }
  },
  {
   "cell_type": "code",
   "execution_count": 95,
   "outputs": [
    {
     "name": "stderr",
     "output_type": "stream",
     "text": [
      "/var/folders/wd/xc5lcvsx6cddcbbjh3kklb5c0000gn/T/ipykernel_49438/1381593820.py:1: FutureWarning: Downcasting behavior in `replace` is deprecated and will be removed in a future version. To retain the old behavior, explicitly call `result.infer_objects(copy=False)`. To opt-in to the future behavior, set `pd.set_option('future.no_silent_downcasting', True)`\n",
      "  y_test = y_test.replace(dict_map)\n"
     ]
    },
    {
     "data": {
      "text/plain": "failure\n0    120485\n2       931\n1       572\n4       541\n3       410\nName: count, dtype: int64"
     },
     "execution_count": 95,
     "metadata": {},
     "output_type": "execute_result"
    }
   ],
   "source": [
    "y_test = y_test.replace(dict_map)\n",
    "y_test.value_counts()"
   ],
   "metadata": {
    "collapsed": false,
    "ExecuteTime": {
     "end_time": "2024-04-22T07:49:53.443698Z",
     "start_time": "2024-04-22T07:49:53.384311Z"
    }
   }
  },
  {
   "cell_type": "code",
   "execution_count": 96,
   "outputs": [
    {
     "data": {
      "text/plain": "pred\n0    120454\n2       942\n1       586\n4       539\n3       418\nName: count, dtype: int64"
     },
     "execution_count": 96,
     "metadata": {},
     "output_type": "execute_result"
    }
   ],
   "source": [
    "y_test = y_test.to_frame()\n",
    "y_test['pred'] = list(model.predict(X_test))\n",
    "y_test['pred'].value_counts()"
   ],
   "metadata": {
    "collapsed": false,
    "ExecuteTime": {
     "end_time": "2024-04-22T07:50:03.141037Z",
     "start_time": "2024-04-22T07:50:02.832958Z"
    }
   }
  },
  {
   "cell_type": "code",
   "execution_count": 97,
   "outputs": [
    {
     "data": {
      "text/plain": "<Figure size 640x480 with 1 Axes>",
      "image/png": "[encoded data removed]"
     },
     "metadata": {},
     "output_type": "display_data"
    }
   ],
   "source": [
    "from mlxtend.evaluate import confusion_matrix\n",
    "from mlxtend.plotting import plot_confusion_matrix\n",
    "import matplotlib.pyplot as plt\n",
    "\n",
    "cm = confusion_matrix(y_target=y_test['failure'],\n",
    "                      y_predicted=y_test['pred'],\n",
    "                      binary=False)\n",
    "\n",
    "fig, ax = plot_confusion_matrix(conf_mat=cm)\n",
    "plt.show()"
   ],
   "metadata": {
    "collapsed": false,
    "ExecuteTime": {
     "end_time": "2024-04-22T07:50:11.852743Z",
     "start_time": "2024-04-22T07:50:11.748699Z"
    }
   }
  },
  {
   "cell_type": "code",
   "execution_count": null,
   "outputs": [],
   "source": [],
   "metadata": {
    "collapsed": false
   }
  }
 ],
 "metadata": {
  "kernelspec": {
   "display_name": "Python 3",
   "language": "python",
   "name": "python3"
  },
  "language_info": {
   "codemirror_mode": {
    "name": "ipython",
    "version": 2
   },
   "file_extension": ".py",
   "mimetype": "text/x-python",
   "name": "python",
   "nbconvert_exporter": "python",
   "pygments_lexer": "ipython2",
   "version": "2.7.6"
  }
 },
 "nbformat": 4,
 "nbformat_minor": 0
}
