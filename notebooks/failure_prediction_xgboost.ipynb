{
 "cells": [
  {
   "cell_type": "markdown",
   "source": [
    "According to notebook - https://www.kaggle.com/code/c1trus/azure-maint/notebook"
   ],
   "metadata": {
    "collapsed": false
   }
  },
  {
   "cell_type": "markdown",
   "source": [
    "# Load & Create dataset\n"
   ],
   "metadata": {
    "collapsed": false
   }
  },
  {
   "cell_type": "code",
   "execution_count": 1,
   "outputs": [],
   "source": [
    "import pandas as pd\n",
    "import os\n",
    "\n",
    "\n",
    "dataset_path = os.path.join(\"..\",\"dataset\",\"Azure Predictive Maintenance\")\n",
    "# Load files\n",
    "telemetry_df = pd.read_csv(os.path.join(dataset_path,'PdM_telemetry.csv'))\n",
    "errors_df = pd.read_csv(os.path.join(dataset_path,'PdM_errors.csv'))\n",
    "maint_df = pd.read_csv(os.path.join(dataset_path,'PdM_maint.csv'))\n",
    "failures_df = pd.read_csv(os.path.join(dataset_path,'PdM_failures.csv'))\n",
    "machines_df = pd.read_csv(os.path.join(dataset_path,'PdM_machines.csv'))"
   ],
   "metadata": {
    "collapsed": false,
    "ExecuteTime": {
     "end_time": "2024-04-20T15:42:54.264449Z",
     "start_time": "2024-04-20T15:42:48.740312Z"
    }
   }
  },
  {
   "cell_type": "code",
   "execution_count": 3,
   "outputs": [],
   "source": [
    "#Convert datetime columns to datetime objects\n",
    "telemetry_df['datetime'] = pd.to_datetime(telemetry_df['datetime'])\n",
    "errors_df['datetime'] = pd.to_datetime(errors_df['datetime'])\n",
    "failures_df['datetime'] = pd.to_datetime(failures_df['datetime'])\n",
    "maint_df['datetime'] = pd.to_datetime(maint_df['datetime'])"
   ],
   "metadata": {
    "collapsed": false,
    "ExecuteTime": {
     "end_time": "2024-04-20T15:43:43.024150Z",
     "start_time": "2024-04-20T15:43:43.016387Z"
    }
   }
  },
  {
   "cell_type": "code",
   "execution_count": 5,
   "outputs": [],
   "source": [
    "df = telemetry_df\n",
    "\n",
    "original_datetime = df['datetime']\n",
    "original_machineID = df['machineID']\n",
    "\n",
    "df_numeric = df.drop(columns=['datetime'])\n",
    "\n",
    "# Create 24 hours rolling window\n",
    "rolling_df = df_numeric.rolling(window=24, min_periods=1, closed='both').mean()\n",
    "\n",
    "\n",
    "rolling_df['datetime'] = original_datetime\n",
    "rolling_df['machineID'] = original_machineID\n",
    "\n",
    "combined_df = pd.merge(rolling_df, maint_df, on=['datetime', 'machineID'], how='outer')\n",
    "combined_df.sort_values(by=['machineID', 'datetime'], inplace=True)"
   ],
   "metadata": {
    "collapsed": false,
    "ExecuteTime": {
     "end_time": "2024-04-21T06:44:12.837713Z",
     "start_time": "2024-04-21T06:44:12.556019Z"
    }
   }
  },
  {
   "cell_type": "code",
   "execution_count": 6,
   "outputs": [],
   "source": [
    "def maint_comp(combined_df):\n",
    "    for comp in ['comp1', 'comp2', 'comp3', 'comp4']:\n",
    "        combined_df[f'time_since_last_{comp}'] = 0\n",
    "\n",
    "    # 初始化上次维护时间的字典\n",
    "    last_maint_time = {comp: {machine: None for machine in combined_df['machineID'].unique()} for comp in ['comp1', 'comp2', 'comp3', 'comp4']}\n",
    "\n",
    "    for index, row in combined_df.iterrows():\n",
    "        machine_id = row['machineID']\n",
    "        current_time = row['datetime']\n",
    "        current_comp = row['comp']\n",
    "\n",
    "        for comp in ['comp1', 'comp2', 'comp3', 'comp4']:\n",
    "            if last_maint_time[comp].get(machine_id):\n",
    "                time_diff = (current_time - last_maint_time[comp][machine_id]).total_seconds() / (3600*24)\n",
    "                combined_df.at[index, f'time_since_last_{comp}'] = time_diff\n",
    "\n",
    "            if comp == current_comp:\n",
    "                last_maint_time[comp][machine_id] = current_time\n",
    "\n",
    "    combined_df = combined_df[combined_df['datetime'] >= '2015-01-01']\n",
    "\n",
    "    combined_df = combined_df[combined_df['datetime'].dt.hour == 6]\n",
    "\n",
    "    return combined_df"
   ],
   "metadata": {
    "collapsed": false,
    "ExecuteTime": {
     "end_time": "2024-04-21T06:44:19.901110Z",
     "start_time": "2024-04-21T06:44:19.895490Z"
    }
   }
  },
  {
   "cell_type": "code",
   "execution_count": 7,
   "outputs": [
    {
     "name": "stderr",
     "output_type": "stream",
     "text": [
      "/var/folders/wd/xc5lcvsx6cddcbbjh3kklb5c0000gn/T/ipykernel_49438/1726498204.py:19: FutureWarning: Setting an item of incompatible dtype is deprecated and will raise an error in a future version of pandas. Value '19.041666666666668' has dtype incompatible with int64, please explicitly cast to a compatible dtype first.\n",
      "  combined_df.at[index, f'time_since_last_{comp}'] = time_diff\n",
      "/var/folders/wd/xc5lcvsx6cddcbbjh3kklb5c0000gn/T/ipykernel_49438/1726498204.py:19: FutureWarning: Setting an item of incompatible dtype is deprecated and will raise an error in a future version of pandas. Value '214.04166666666666' has dtype incompatible with int64, please explicitly cast to a compatible dtype first.\n",
      "  combined_df.at[index, f'time_since_last_{comp}'] = time_diff\n",
      "/var/folders/wd/xc5lcvsx6cddcbbjh3kklb5c0000gn/T/ipykernel_49438/1726498204.py:19: FutureWarning: Setting an item of incompatible dtype is deprecated and will raise an error in a future version of pandas. Value '154.04166666666666' has dtype incompatible with int64, please explicitly cast to a compatible dtype first.\n",
      "  combined_df.at[index, f'time_since_last_{comp}'] = time_diff\n",
      "/var/folders/wd/xc5lcvsx6cddcbbjh3kklb5c0000gn/T/ipykernel_49438/1726498204.py:19: FutureWarning: Setting an item of incompatible dtype is deprecated and will raise an error in a future version of pandas. Value '169.04166666666666' has dtype incompatible with int64, please explicitly cast to a compatible dtype first.\n",
      "  combined_df.at[index, f'time_since_last_{comp}'] = time_diff\n"
     ]
    },
    {
     "name": "stdout",
     "output_type": "stream",
     "text": [
      "<class 'pandas.core.frame.DataFrame'>\n",
      "Index: 37323 entries, 400 to 877222\n",
      "Data columns (total 11 columns):\n",
      " #   Column                 Non-Null Count  Dtype         \n",
      "---  ------                 --------------  -----         \n",
      " 0   machineID              37323 non-null  int64         \n",
      " 1   volt                   37323 non-null  float64       \n",
      " 2   rotate                 37323 non-null  float64       \n",
      " 3   pressure               37323 non-null  float64       \n",
      " 4   vibration              37323 non-null  float64       \n",
      " 5   datetime               37323 non-null  datetime64[ns]\n",
      " 6   comp                   2886 non-null   object        \n",
      " 7   time_since_last_comp1  37323 non-null  float64       \n",
      " 8   time_since_last_comp2  37323 non-null  float64       \n",
      " 9   time_since_last_comp3  37323 non-null  float64       \n",
      " 10  time_since_last_comp4  37323 non-null  float64       \n",
      "dtypes: datetime64[ns](1), float64(8), int64(1), object(1)\n",
      "memory usage: 3.4+ MB\n"
     ]
    }
   ],
   "source": [
    "rolling_combined_df = maint_comp(combined_df)\n",
    "rolling_combined_df.info()"
   ],
   "metadata": {
    "collapsed": false,
    "ExecuteTime": {
     "end_time": "2024-04-21T06:45:21.610796Z",
     "start_time": "2024-04-21T06:44:48.617657Z"
    }
   }
  },
  {
   "cell_type": "markdown",
   "source": [
    "One hot Encode error"
   ],
   "metadata": {
    "collapsed": false
   }
  },
  {
   "cell_type": "code",
   "execution_count": 8,
   "outputs": [
    {
     "name": "stdout",
     "output_type": "stream",
     "text": [
      "<class 'pandas.core.frame.DataFrame'>\n",
      "Index: 36600 entries, 0 to 876099\n",
      "Data columns (total 7 columns):\n",
      " #   Column          Non-Null Count  Dtype         \n",
      "---  ------          --------------  -----         \n",
      " 0   datetime        36600 non-null  datetime64[ns]\n",
      " 1   machineID       36600 non-null  int64         \n",
      " 2   errorID_error1  36600 non-null  float64       \n",
      " 3   errorID_error2  36600 non-null  float64       \n",
      " 4   errorID_error3  36600 non-null  float64       \n",
      " 5   errorID_error4  36600 non-null  float64       \n",
      " 6   errorID_error5  36600 non-null  float64       \n",
      "dtypes: datetime64[ns](1), float64(5), int64(1)\n",
      "memory usage: 2.2 MB\n"
     ]
    }
   ],
   "source": [
    "all_dates = telemetry_df['datetime'].unique()\n",
    "all_machines = telemetry_df['machineID'].unique()\n",
    "all_combinations = pd.MultiIndex.from_product([all_dates, all_machines], names=['datetime', 'machineID']).to_frame(index=False)\n",
    "\n",
    "one_hot_encoded_errors = pd.get_dummies(errors_df, columns=['errorID'])\n",
    "\n",
    "daily_error_counts = one_hot_encoded_errors.groupby(['machineID', pd.Grouper(key='datetime', freq='D')]).sum().reset_index()\n",
    "\n",
    "combined_errors = pd.merge(all_combinations, daily_error_counts, on=['datetime', 'machineID'], how='left').fillna(0)\n",
    "\n",
    "combined_errors.set_index('datetime', inplace=True)\n",
    "\n",
    "windowed_error_counts = combined_errors.groupby('machineID').rolling(window='3D').sum()\n",
    "\n",
    "windowed_error_counts.reset_index(inplace=True)\n",
    "\n",
    "error_with_ID = pd.merge(telemetry_df, windowed_error_counts, on=['machineID', 'datetime'], how='left')\n",
    "\n",
    "error_with_ID = error_with_ID[error_with_ID['datetime'].dt.hour == 6]\n",
    "\n",
    "error_with_ID = error_with_ID.drop(['volt','rotate','pressure','vibration'],axis = 1)\n",
    "error_with_ID.info()"
   ],
   "metadata": {
    "collapsed": false,
    "ExecuteTime": {
     "end_time": "2024-04-21T06:45:53.181268Z",
     "start_time": "2024-04-21T06:45:52.858917Z"
    }
   }
  },
  {
   "cell_type": "code",
   "execution_count": 9,
   "outputs": [],
   "source": [
    "error_features_df = pd.merge(telemetry_df, errors_df, on=['datetime', 'machineID'], how='outer')\n",
    "\n",
    "# 初始化错误时间列\n",
    "def maint_error(error_features_df):\n",
    "\n",
    "    error_features_df.drop(['volt','rotate','pressure','vibration'],axis = 1,inplace = True)\n",
    "\n",
    "    error_types = ['error1', 'error2', 'error3', 'error4', 'error5']\n",
    "    for error in error_types:\n",
    "        error_features_df[f'time_since_last_{error}'] = 0\n",
    "\n",
    "    # 初始化上次错误时间的字典\n",
    "    last_error_time = {error: {machine: None for machine in error_features_df['machineID'].unique()} for error in error_types}\n",
    "\n",
    "    # 遍历合并后的记录\n",
    "    for index, row in error_features_df.iterrows():\n",
    "        machine_id = row['machineID']\n",
    "        current_time = row['datetime']\n",
    "        current_error = row['errorID']\n",
    "\n",
    "        # 更新所有错误类型的时间\n",
    "        for error in error_types:\n",
    "            # 如果存在上次错误时间，则计算时间差\n",
    "            if last_error_time[error].get(machine_id):\n",
    "                time_diff = (current_time - last_error_time[error][machine_id]).total_seconds() / (3600 * 24)\n",
    "                error_features_df.at[index, f'time_since_last_{error}'] = time_diff\n",
    "\n",
    "            # 对当前出现的错误更新上次错误时间\n",
    "            if error == current_error:\n",
    "                last_error_time[error][machine_id] = current_time\n",
    "\n",
    "    error_features_df = error_features_df[error_features_df['datetime'].dt.hour == 6]\n",
    "\n",
    "    return error_features_df"
   ],
   "metadata": {
    "collapsed": false,
    "ExecuteTime": {
     "end_time": "2024-04-21T06:46:25.330289Z",
     "start_time": "2024-04-21T06:46:25.157130Z"
    }
   }
  },
  {
   "cell_type": "code",
   "execution_count": 10,
   "outputs": [
    {
     "name": "stderr",
     "output_type": "stream",
     "text": [
      "/var/folders/wd/xc5lcvsx6cddcbbjh3kklb5c0000gn/T/ipykernel_49438/2333090232.py:26: FutureWarning: Setting an item of incompatible dtype is deprecated and will raise an error in a future version of pandas. Value '0.041666666666666664' has dtype incompatible with int64, please explicitly cast to a compatible dtype first.\n",
      "  error_features_df.at[index, f'time_since_last_{error}'] = time_diff\n",
      "/var/folders/wd/xc5lcvsx6cddcbbjh3kklb5c0000gn/T/ipykernel_49438/2333090232.py:26: FutureWarning: Setting an item of incompatible dtype is deprecated and will raise an error in a future version of pandas. Value '0.041666666666666664' has dtype incompatible with int64, please explicitly cast to a compatible dtype first.\n",
      "  error_features_df.at[index, f'time_since_last_{error}'] = time_diff\n",
      "/var/folders/wd/xc5lcvsx6cddcbbjh3kklb5c0000gn/T/ipykernel_49438/2333090232.py:26: FutureWarning: Setting an item of incompatible dtype is deprecated and will raise an error in a future version of pandas. Value '0.041666666666666664' has dtype incompatible with int64, please explicitly cast to a compatible dtype first.\n",
      "  error_features_df.at[index, f'time_since_last_{error}'] = time_diff\n",
      "/var/folders/wd/xc5lcvsx6cddcbbjh3kklb5c0000gn/T/ipykernel_49438/2333090232.py:26: FutureWarning: Setting an item of incompatible dtype is deprecated and will raise an error in a future version of pandas. Value '0.041666666666666664' has dtype incompatible with int64, please explicitly cast to a compatible dtype first.\n",
      "  error_features_df.at[index, f'time_since_last_{error}'] = time_diff\n",
      "/var/folders/wd/xc5lcvsx6cddcbbjh3kklb5c0000gn/T/ipykernel_49438/2333090232.py:26: FutureWarning: Setting an item of incompatible dtype is deprecated and will raise an error in a future version of pandas. Value '0.041666666666666664' has dtype incompatible with int64, please explicitly cast to a compatible dtype first.\n",
      "  error_features_df.at[index, f'time_since_last_{error}'] = time_diff\n"
     ]
    },
    {
     "name": "stdout",
     "output_type": "stream",
     "text": [
      "<class 'pandas.core.frame.DataFrame'>\n",
      "Index: 36901 entries, 0 to 876402\n",
      "Data columns (total 8 columns):\n",
      " #   Column                  Non-Null Count  Dtype         \n",
      "---  ------                  --------------  -----         \n",
      " 0   datetime                36901 non-null  datetime64[ns]\n",
      " 1   machineID               36901 non-null  int64         \n",
      " 2   errorID                 1122 non-null   object        \n",
      " 3   time_since_last_error1  36901 non-null  float64       \n",
      " 4   time_since_last_error2  36901 non-null  float64       \n",
      " 5   time_since_last_error3  36901 non-null  float64       \n",
      " 6   time_since_last_error4  36901 non-null  float64       \n",
      " 7   time_since_last_error5  36901 non-null  float64       \n",
      "dtypes: datetime64[ns](1), float64(5), int64(1), object(1)\n",
      "memory usage: 2.5+ MB\n"
     ]
    }
   ],
   "source": [
    "error_featured_df = maint_error(error_features_df)\n",
    "error_featured_df.info()"
   ],
   "metadata": {
    "collapsed": false,
    "ExecuteTime": {
     "end_time": "2024-04-21T06:47:05.512379Z",
     "start_time": "2024-04-21T06:46:31.103733Z"
    }
   }
  },
  {
   "cell_type": "markdown",
   "source": [
    "Combined all Dataframes"
   ],
   "metadata": {
    "collapsed": false
   }
  },
  {
   "cell_type": "code",
   "execution_count": 11,
   "outputs": [
    {
     "name": "stdout",
     "output_type": "stream",
     "text": [
      "<class 'pandas.core.frame.DataFrame'>\n",
      "RangeIndex: 37624 entries, 0 to 37623\n",
      "Data columns (total 22 columns):\n",
      " #   Column                  Non-Null Count  Dtype         \n",
      "---  ------                  --------------  -----         \n",
      " 0   machineID               37624 non-null  int64         \n",
      " 1   volt                    37624 non-null  float64       \n",
      " 2   rotate                  37624 non-null  float64       \n",
      " 3   pressure                37624 non-null  float64       \n",
      " 4   vibration               37624 non-null  float64       \n",
      " 5   datetime                37624 non-null  datetime64[ns]\n",
      " 6   comp                    2886 non-null   object        \n",
      " 7   time_since_last_comp1   37624 non-null  float64       \n",
      " 8   time_since_last_comp2   37624 non-null  float64       \n",
      " 9   time_since_last_comp3   37624 non-null  float64       \n",
      " 10  time_since_last_comp4   37624 non-null  float64       \n",
      " 11  errorID                 1125 non-null   object        \n",
      " 12  time_since_last_error1  37624 non-null  float64       \n",
      " 13  time_since_last_error2  37624 non-null  float64       \n",
      " 14  time_since_last_error3  37624 non-null  float64       \n",
      " 15  time_since_last_error4  37624 non-null  float64       \n",
      " 16  time_since_last_error5  37624 non-null  float64       \n",
      " 17  errorID_error1          37624 non-null  float64       \n",
      " 18  errorID_error2          37624 non-null  float64       \n",
      " 19  errorID_error3          37624 non-null  float64       \n",
      " 20  errorID_error4          37624 non-null  float64       \n",
      " 21  errorID_error5          37624 non-null  float64       \n",
      "dtypes: datetime64[ns](1), float64(18), int64(1), object(2)\n",
      "memory usage: 6.3+ MB\n"
     ]
    }
   ],
   "source": [
    "combined_df = pd.merge(rolling_combined_df, error_featured_df, on=['datetime', 'machineID'], how='outer')\n",
    "combined_df = pd.merge(combined_df, error_with_ID, on=['datetime', 'machineID'], how='outer')\n",
    "combined_df.info()"
   ],
   "metadata": {
    "collapsed": false,
    "ExecuteTime": {
     "end_time": "2024-04-21T06:47:05.550600Z",
     "start_time": "2024-04-21T06:47:05.513969Z"
    }
   }
  },
  {
   "cell_type": "code",
   "execution_count": 12,
   "outputs": [],
   "source": [
    "machine_model_df = pd.merge(errors_df, machines_df, on='machineID')\n",
    "\n",
    "machine_model_df = machine_model_df.drop(['datetime','age','model'],axis=1)\n",
    "\n",
    "machine_model_df = pd.get_dummies(machine_model_df, columns=['errorID'])\n",
    "\n",
    "error_features = machine_model_df.groupby(['machineID']).sum().reset_index()\n",
    "\n",
    "combined_df = pd.merge(combined_df,error_features, on=['machineID'], how='left')"
   ],
   "metadata": {
    "collapsed": false,
    "ExecuteTime": {
     "end_time": "2024-04-21T06:47:41.061Z",
     "start_time": "2024-04-21T06:47:41.040510Z"
    }
   }
  },
  {
   "cell_type": "code",
   "execution_count": 13,
   "outputs": [
    {
     "name": "stdout",
     "output_type": "stream",
     "text": [
      "<class 'pandas.core.frame.DataFrame'>\n",
      "RangeIndex: 37624 entries, 0 to 37623\n",
      "Data columns (total 27 columns):\n",
      " #   Column                  Non-Null Count  Dtype         \n",
      "---  ------                  --------------  -----         \n",
      " 0   machineID               37624 non-null  int64         \n",
      " 1   volt                    37624 non-null  float64       \n",
      " 2   rotate                  37624 non-null  float64       \n",
      " 3   pressure                37624 non-null  float64       \n",
      " 4   vibration               37624 non-null  float64       \n",
      " 5   datetime                37624 non-null  datetime64[ns]\n",
      " 6   comp                    2886 non-null   object        \n",
      " 7   time_since_last_comp1   37624 non-null  float64       \n",
      " 8   time_since_last_comp2   37624 non-null  float64       \n",
      " 9   time_since_last_comp3   37624 non-null  float64       \n",
      " 10  time_since_last_comp4   37624 non-null  float64       \n",
      " 11  errorID                 1125 non-null   object        \n",
      " 12  time_since_last_error1  37624 non-null  float64       \n",
      " 13  time_since_last_error2  37624 non-null  float64       \n",
      " 14  time_since_last_error3  37624 non-null  float64       \n",
      " 15  time_since_last_error4  37624 non-null  float64       \n",
      " 16  time_since_last_error5  37624 non-null  float64       \n",
      " 17  errorID_error1_x        37624 non-null  float64       \n",
      " 18  errorID_error2_x        37624 non-null  float64       \n",
      " 19  errorID_error3_x        37624 non-null  float64       \n",
      " 20  errorID_error4_x        37624 non-null  float64       \n",
      " 21  errorID_error5_x        37624 non-null  float64       \n",
      " 22  errorID_error1_y        37624 non-null  int64         \n",
      " 23  errorID_error2_y        37624 non-null  int64         \n",
      " 24  errorID_error3_y        37624 non-null  int64         \n",
      " 25  errorID_error4_y        37624 non-null  int64         \n",
      " 26  errorID_error5_y        37624 non-null  int64         \n",
      "dtypes: datetime64[ns](1), float64(18), int64(6), object(2)\n",
      "memory usage: 7.8+ MB\n"
     ]
    }
   ],
   "source": [
    "combined_df.info()"
   ],
   "metadata": {
    "collapsed": false,
    "ExecuteTime": {
     "end_time": "2024-04-21T06:47:44.514575Z",
     "start_time": "2024-04-21T06:47:44.469369Z"
    }
   }
  },
  {
   "cell_type": "code",
   "execution_count": 14,
   "outputs": [],
   "source": [
    "combined_df = pd.merge(combined_df, failures_df, on=['datetime', 'machineID'], how='left')\n"
   ],
   "metadata": {
    "collapsed": false,
    "ExecuteTime": {
     "end_time": "2024-04-21T06:47:53.882848Z",
     "start_time": "2024-04-21T06:47:53.867315Z"
    }
   }
  },
  {
   "cell_type": "markdown",
   "source": [
    "Label encode all categorical"
   ],
   "metadata": {
    "collapsed": false
   }
  },
  {
   "cell_type": "code",
   "execution_count": 15,
   "outputs": [
    {
     "name": "stderr",
     "output_type": "stream",
     "text": [
      "/var/folders/wd/xc5lcvsx6cddcbbjh3kklb5c0000gn/T/ipykernel_49438/1145243755.py:10: FutureWarning: A value is trying to be set on a copy of a DataFrame or Series through chained assignment using an inplace method.\n",
      "The behavior will change in pandas 3.0. This inplace method will never work because the intermediate object on which we are setting values always behaves as a copy.\n",
      "\n",
      "For example, when doing 'df[col].method(value, inplace=True)', try using 'df.method({col: value}, inplace=True)' or df[col] = df[col].method(value) instead, to perform the operation inplace on the original object.\n",
      "\n",
      "\n",
      "  combined_df['failure'].fillna('NoProb', inplace=True)\n",
      "/var/folders/wd/xc5lcvsx6cddcbbjh3kklb5c0000gn/T/ipykernel_49438/1145243755.py:11: FutureWarning: A value is trying to be set on a copy of a DataFrame or Series through chained assignment using an inplace method.\n",
      "The behavior will change in pandas 3.0. This inplace method will never work because the intermediate object on which we are setting values always behaves as a copy.\n",
      "\n",
      "For example, when doing 'df[col].method(value, inplace=True)', try using 'df.method({col: value}, inplace=True)' or df[col] = df[col].method(value) instead, to perform the operation inplace on the original object.\n",
      "\n",
      "\n",
      "  combined_df['errorID'].fillna('NoProb', inplace=True)\n"
     ]
    }
   ],
   "source": [
    "from sklearn.preprocessing import LabelEncoder\n",
    "\n",
    "category_mapping = {\n",
    "    'comp1': 1, 'comp2': 2, 'comp3': 3, 'comp4': 4,\n",
    "    'error1': 5, 'error2': 6, 'error3': 6, 'error4': 7, 'error5': 8,\n",
    "    'NoProb': 0\n",
    "}\n",
    "\n",
    "# 将NaN替换为特定的标签\n",
    "combined_df['failure'].fillna('NoProb', inplace=True)\n",
    "combined_df['errorID'].fillna('NoProb', inplace=True)\n",
    "\n",
    "combined_df['failure'] = combined_df['failure'].map(category_mapping)\n",
    "combined_df['errorID'] = combined_df['errorID'].map(category_mapping)"
   ],
   "metadata": {
    "collapsed": false,
    "ExecuteTime": {
     "end_time": "2024-04-21T06:50:33.719477Z",
     "start_time": "2024-04-21T06:50:23.742825Z"
    }
   }
  },
  {
   "cell_type": "code",
   "execution_count": 16,
   "outputs": [],
   "source": [
    "def merge_labels(row):\n",
    "    # 获取'NoProb'对应的编码值\n",
    "    no_prob_code = category_mapping['NoProb']\n",
    "\n",
    "    # 使用映射后的值来判断\n",
    "    if row['failure'] != no_prob_code:\n",
    "        return row['failure']\n",
    "    elif row['errorID'] != no_prob_code:\n",
    "        return row['errorID']\n",
    "    else:\n",
    "        return no_prob_code  # 返回'NoProb'的编码值\n",
    "\n",
    "combined_df['label'] = combined_df.apply(merge_labels, axis=1)"
   ],
   "metadata": {
    "collapsed": false,
    "ExecuteTime": {
     "end_time": "2024-04-21T06:50:33.875721Z",
     "start_time": "2024-04-21T06:50:33.733090Z"
    }
   }
  },
  {
   "cell_type": "code",
   "execution_count": 17,
   "outputs": [
    {
     "name": "stdout",
     "output_type": "stream",
     "text": [
      "[0 1 3 2 4] [0 5 7 6 8]\n"
     ]
    }
   ],
   "source": [
    "new_df = combined_df.drop(['failure','errorID'],axis = 1)\n",
    "print(combined_df['failure'].unique(),combined_df['errorID'].unique())"
   ],
   "metadata": {
    "collapsed": false,
    "ExecuteTime": {
     "end_time": "2024-04-21T06:50:33.892635Z",
     "start_time": "2024-04-21T06:50:33.879760Z"
    }
   }
  },
  {
   "cell_type": "code",
   "execution_count": 18,
   "outputs": [
    {
     "data": {
      "text/plain": "          machineID          volt        rotate      pressure     vibration  \\\ncount  37706.000000  37706.000000  37706.000000  37706.000000  37706.000000   \nmean      50.462950    170.863961    445.630498    100.938893     40.425556   \nmin        1.000000    158.481822    278.093902     91.096429     36.232311   \n25%       25.000000    168.117352    441.476740     98.706969     39.371864   \n50%       50.000000    170.221099    449.117712    100.097619     40.075267   \n75%       75.000000    172.431948    456.127018    101.580287     40.821494   \nmax      100.000000    218.738380    489.699178    152.259183     60.852392   \nstd       28.880175      4.937475     20.197592      4.994207      2.170466   \n\n                            datetime  time_since_last_comp1  \\\ncount                          37706           37706.000000   \nmean   2015-07-02 19:44:38.470269952              54.099507   \nmin              2015-01-01 06:00:00               0.000000   \n25%              2015-04-02 06:00:00              14.000000   \n50%              2015-07-03 06:00:00              33.000000   \n75%              2015-10-02 06:00:00              69.000000   \nmax              2016-01-01 06:00:00             492.000000   \nstd                              NaN              62.626806   \n\n       time_since_last_comp2  time_since_last_comp3  time_since_last_comp4  \\\ncount           37706.000000           37706.000000           37706.000000   \nmean               52.370100              53.357927              54.403198   \nmin                 0.000000               0.000000               0.000000   \n25%                13.000000              14.000000              14.000000   \n50%                30.000000              33.000000              33.000000   \n75%                68.000000              68.000000              71.000000   \nmax               349.000000             371.000000             395.000000   \nstd                59.497942              59.003197              59.721663   \n\n       ...  errorID_error2_x  errorID_error3_x  errorID_error4_x  \\\ncount  ...      37706.000000      37706.000000      37706.000000   \nmean   ...          0.092293          0.080438          0.061980   \nmin    ...          0.000000          0.000000          0.000000   \n25%    ...          0.000000          0.000000          0.000000   \n50%    ...          0.000000          0.000000          0.000000   \n75%    ...          0.000000          0.000000          0.000000   \nmax    ...          3.000000          3.000000          3.000000   \nstd    ...          0.301911          0.281933          0.248809   \n\n       errorID_error5_x  errorID_error1_y  errorID_error2_y  errorID_error3_y  \\\ncount      37706.000000      37706.000000      37706.000000      37706.000000   \nmean           0.032833         10.102212          9.886252          8.385138   \nmin            0.000000          2.000000          5.000000          1.000000   \n25%            0.000000          8.000000          8.000000          7.000000   \n50%            0.000000         10.000000         10.000000          8.000000   \n75%            0.000000         12.000000         11.000000         10.000000   \nmax            2.000000         20.000000         17.000000         16.000000   \nstd            0.180420          3.299665          2.704141          3.006076   \n\n       errorID_error4_y  errorID_error5_y         label  \ncount      37706.000000      37706.000000  37706.000000  \nmean           7.273617          3.563226      0.255556  \nmin            1.000000          0.000000      0.000000  \n25%            5.000000          2.000000      0.000000  \n50%            7.000000          3.000000      0.000000  \n75%            9.000000          5.000000      0.000000  \nmax           18.000000         12.000000      8.000000  \nstd            3.174232          2.485090      1.152495  \n\n[8 rows x 26 columns]",
      "text/html": "<div>\n<style scoped>\n    .dataframe tbody tr th:only-of-type {\n        vertical-align: middle;\n    }\n\n    .dataframe tbody tr th {\n        vertical-align: top;\n    }\n\n    .dataframe thead th {\n        text-align: right;\n    }\n</style>\n<table border=\"1\" class=\"dataframe\">\n  <thead>\n    <tr style=\"text-align: right;\">\n      <th></th>\n      <th>machineID</th>\n      <th>volt</th>\n      <th>rotate</th>\n      <th>pressure</th>\n      <th>vibration</th>\n      <th>datetime</th>\n      <th>time_since_last_comp1</th>\n      <th>time_since_last_comp2</th>\n      <th>time_since_last_comp3</th>\n      <th>time_since_last_comp4</th>\n      <th>...</th>\n      <th>errorID_error2_x</th>\n      <th>errorID_error3_x</th>\n      <th>errorID_error4_x</th>\n      <th>errorID_error5_x</th>\n      <th>errorID_error1_y</th>\n      <th>errorID_error2_y</th>\n      <th>errorID_error3_y</th>\n      <th>errorID_error4_y</th>\n      <th>errorID_error5_y</th>\n      <th>label</th>\n    </tr>\n  </thead>\n  <tbody>\n    <tr>\n      <th>count</th>\n      <td>37706.000000</td>\n      <td>37706.000000</td>\n      <td>37706.000000</td>\n      <td>37706.000000</td>\n      <td>37706.000000</td>\n      <td>37706</td>\n      <td>37706.000000</td>\n      <td>37706.000000</td>\n      <td>37706.000000</td>\n      <td>37706.000000</td>\n      <td>...</td>\n      <td>37706.000000</td>\n      <td>37706.000000</td>\n      <td>37706.000000</td>\n      <td>37706.000000</td>\n      <td>37706.000000</td>\n      <td>37706.000000</td>\n      <td>37706.000000</td>\n      <td>37706.000000</td>\n      <td>37706.000000</td>\n      <td>37706.000000</td>\n    </tr>\n    <tr>\n      <th>mean</th>\n      <td>50.462950</td>\n      <td>170.863961</td>\n      <td>445.630498</td>\n      <td>100.938893</td>\n      <td>40.425556</td>\n      <td>2015-07-02 19:44:38.470269952</td>\n      <td>54.099507</td>\n      <td>52.370100</td>\n      <td>53.357927</td>\n      <td>54.403198</td>\n      <td>...</td>\n      <td>0.092293</td>\n      <td>0.080438</td>\n      <td>0.061980</td>\n      <td>0.032833</td>\n      <td>10.102212</td>\n      <td>9.886252</td>\n      <td>8.385138</td>\n      <td>7.273617</td>\n      <td>3.563226</td>\n      <td>0.255556</td>\n    </tr>\n    <tr>\n      <th>min</th>\n      <td>1.000000</td>\n      <td>158.481822</td>\n      <td>278.093902</td>\n      <td>91.096429</td>\n      <td>36.232311</td>\n      <td>2015-01-01 06:00:00</td>\n      <td>0.000000</td>\n      <td>0.000000</td>\n      <td>0.000000</td>\n      <td>0.000000</td>\n      <td>...</td>\n      <td>0.000000</td>\n      <td>0.000000</td>\n      <td>0.000000</td>\n      <td>0.000000</td>\n      <td>2.000000</td>\n      <td>5.000000</td>\n      <td>1.000000</td>\n      <td>1.000000</td>\n      <td>0.000000</td>\n      <td>0.000000</td>\n    </tr>\n    <tr>\n      <th>25%</th>\n      <td>25.000000</td>\n      <td>168.117352</td>\n      <td>441.476740</td>\n      <td>98.706969</td>\n      <td>39.371864</td>\n      <td>2015-04-02 06:00:00</td>\n      <td>14.000000</td>\n      <td>13.000000</td>\n      <td>14.000000</td>\n      <td>14.000000</td>\n      <td>...</td>\n      <td>0.000000</td>\n      <td>0.000000</td>\n      <td>0.000000</td>\n      <td>0.000000</td>\n      <td>8.000000</td>\n      <td>8.000000</td>\n      <td>7.000000</td>\n      <td>5.000000</td>\n      <td>2.000000</td>\n      <td>0.000000</td>\n    </tr>\n    <tr>\n      <th>50%</th>\n      <td>50.000000</td>\n      <td>170.221099</td>\n      <td>449.117712</td>\n      <td>100.097619</td>\n      <td>40.075267</td>\n      <td>2015-07-03 06:00:00</td>\n      <td>33.000000</td>\n      <td>30.000000</td>\n      <td>33.000000</td>\n      <td>33.000000</td>\n      <td>...</td>\n      <td>0.000000</td>\n      <td>0.000000</td>\n      <td>0.000000</td>\n      <td>0.000000</td>\n      <td>10.000000</td>\n      <td>10.000000</td>\n      <td>8.000000</td>\n      <td>7.000000</td>\n      <td>3.000000</td>\n      <td>0.000000</td>\n    </tr>\n    <tr>\n      <th>75%</th>\n      <td>75.000000</td>\n      <td>172.431948</td>\n      <td>456.127018</td>\n      <td>101.580287</td>\n      <td>40.821494</td>\n      <td>2015-10-02 06:00:00</td>\n      <td>69.000000</td>\n      <td>68.000000</td>\n      <td>68.000000</td>\n      <td>71.000000</td>\n      <td>...</td>\n      <td>0.000000</td>\n      <td>0.000000</td>\n      <td>0.000000</td>\n      <td>0.000000</td>\n      <td>12.000000</td>\n      <td>11.000000</td>\n      <td>10.000000</td>\n      <td>9.000000</td>\n      <td>5.000000</td>\n      <td>0.000000</td>\n    </tr>\n    <tr>\n      <th>max</th>\n      <td>100.000000</td>\n      <td>218.738380</td>\n      <td>489.699178</td>\n      <td>152.259183</td>\n      <td>60.852392</td>\n      <td>2016-01-01 06:00:00</td>\n      <td>492.000000</td>\n      <td>349.000000</td>\n      <td>371.000000</td>\n      <td>395.000000</td>\n      <td>...</td>\n      <td>3.000000</td>\n      <td>3.000000</td>\n      <td>3.000000</td>\n      <td>2.000000</td>\n      <td>20.000000</td>\n      <td>17.000000</td>\n      <td>16.000000</td>\n      <td>18.000000</td>\n      <td>12.000000</td>\n      <td>8.000000</td>\n    </tr>\n    <tr>\n      <th>std</th>\n      <td>28.880175</td>\n      <td>4.937475</td>\n      <td>20.197592</td>\n      <td>4.994207</td>\n      <td>2.170466</td>\n      <td>NaN</td>\n      <td>62.626806</td>\n      <td>59.497942</td>\n      <td>59.003197</td>\n      <td>59.721663</td>\n      <td>...</td>\n      <td>0.301911</td>\n      <td>0.281933</td>\n      <td>0.248809</td>\n      <td>0.180420</td>\n      <td>3.299665</td>\n      <td>2.704141</td>\n      <td>3.006076</td>\n      <td>3.174232</td>\n      <td>2.485090</td>\n      <td>1.152495</td>\n    </tr>\n  </tbody>\n</table>\n<p>8 rows × 26 columns</p>\n</div>"
     },
     "execution_count": 18,
     "metadata": {},
     "output_type": "execute_result"
    }
   ],
   "source": [
    "new_df.describe()\n"
   ],
   "metadata": {
    "collapsed": false,
    "ExecuteTime": {
     "end_time": "2024-04-21T06:50:36.562999Z",
     "start_time": "2024-04-21T06:50:36.502011Z"
    }
   }
  },
  {
   "cell_type": "code",
   "execution_count": 19,
   "outputs": [],
   "source": [
    "from sklearn.preprocessing import LabelEncoder\n",
    "\n",
    "models = ['model1','model2','model3','model4']\n",
    "label_encoder_1 = LabelEncoder()\n",
    "label_encoder_1.fit(models)\n",
    "\n",
    "machines_df['model'] = label_encoder_1.fit_transform(machines_df['model'])\n",
    "\n",
    "merged_df = pd.merge(new_df, machines_df, on='machineID', how='left')"
   ],
   "metadata": {
    "collapsed": false,
    "ExecuteTime": {
     "end_time": "2024-04-21T06:50:45.768253Z",
     "start_time": "2024-04-21T06:50:45.758035Z"
    }
   }
  },
  {
   "cell_type": "code",
   "execution_count": 20,
   "outputs": [],
   "source": [
    "from sklearn.utils import resample\n",
    "\n",
    "def undersample_non_events(data, label_column, no_event_code, undersample_ratio=1.0):\n",
    "\n",
    "    positive_class = data[data[label_column] != no_event_code]\n",
    "\n",
    "    negative_class = data[data[label_column] == no_event_code]\n",
    "\n",
    "    negative_class_downsampled = resample(negative_class,\n",
    "                                          replace=False,  # 不进行放回抽样\n",
    "                                          n_samples=int(len(positive_class) * undersample_ratio),\n",
    "                                          random_state=42)\n",
    "\n",
    "    downsampled_data = pd.concat([positive_class, negative_class_downsampled])\n",
    "\n",
    "    return downsampled_data\n",
    "\n",
    "no_event_code = 0\n",
    "undersampled_df = undersample_non_events(merged_df, 'label', no_event_code, undersample_ratio=5)"
   ],
   "metadata": {
    "collapsed": false,
    "ExecuteTime": {
     "end_time": "2024-04-21T06:51:07.367631Z",
     "start_time": "2024-04-21T06:51:07.347585Z"
    }
   }
  },
  {
   "cell_type": "code",
   "execution_count": 21,
   "outputs": [
    {
     "name": "stdout",
     "output_type": "stream",
     "text": [
      "<class 'pandas.core.frame.DataFrame'>\n",
      "Index: 13344 entries, 23 to 31066\n",
      "Data columns (total 27 columns):\n",
      " #   Column                  Non-Null Count  Dtype  \n",
      "---  ------                  --------------  -----  \n",
      " 0   machineID               13344 non-null  int64  \n",
      " 1   volt                    13344 non-null  float64\n",
      " 2   rotate                  13344 non-null  float64\n",
      " 3   pressure                13344 non-null  float64\n",
      " 4   vibration               13344 non-null  float64\n",
      " 5   time_since_last_comp1   13344 non-null  float64\n",
      " 6   time_since_last_comp2   13344 non-null  float64\n",
      " 7   time_since_last_comp3   13344 non-null  float64\n",
      " 8   time_since_last_comp4   13344 non-null  float64\n",
      " 9   time_since_last_error1  13344 non-null  float64\n",
      " 10  time_since_last_error2  13344 non-null  float64\n",
      " 11  time_since_last_error3  13344 non-null  float64\n",
      " 12  time_since_last_error4  13344 non-null  float64\n",
      " 13  time_since_last_error5  13344 non-null  float64\n",
      " 14  errorID_error1_x        13344 non-null  float64\n",
      " 15  errorID_error2_x        13344 non-null  float64\n",
      " 16  errorID_error3_x        13344 non-null  float64\n",
      " 17  errorID_error4_x        13344 non-null  float64\n",
      " 18  errorID_error5_x        13344 non-null  float64\n",
      " 19  errorID_error1_y        13344 non-null  int64  \n",
      " 20  errorID_error2_y        13344 non-null  int64  \n",
      " 21  errorID_error3_y        13344 non-null  int64  \n",
      " 22  errorID_error4_y        13344 non-null  int64  \n",
      " 23  errorID_error5_y        13344 non-null  int64  \n",
      " 24  label                   13344 non-null  int64  \n",
      " 25  model                   13344 non-null  int64  \n",
      " 26  age                     13344 non-null  int64  \n",
      "dtypes: float64(18), int64(9)\n",
      "memory usage: 2.9 MB\n"
     ]
    }
   ],
   "source": [
    "undersampled_df.drop(['datetime'], axis=1, inplace=True)\n",
    "undersampled_df.drop(['comp'], axis=1, inplace=True)\n",
    "undersampled_df.info()"
   ],
   "metadata": {
    "collapsed": false,
    "ExecuteTime": {
     "end_time": "2024-04-21T06:51:16.587233Z",
     "start_time": "2024-04-21T06:51:16.581210Z"
    }
   }
  },
  {
   "cell_type": "markdown",
   "source": [
    "# Model Training"
   ],
   "metadata": {
    "collapsed": false
   }
  },
  {
   "cell_type": "code",
   "execution_count": 23,
   "outputs": [],
   "source": [
    "import xgboost as xgb\n",
    "from sklearn.model_selection import train_test_split\n",
    "from sklearn.metrics import accuracy_score\n",
    "from imblearn.over_sampling import SMOTE\n",
    "\n",
    "\n",
    "X = undersampled_df.drop(['label',],axis = 1)\n",
    "y = undersampled_df['label']"
   ],
   "metadata": {
    "collapsed": false,
    "ExecuteTime": {
     "end_time": "2024-04-21T06:53:18.250989Z",
     "start_time": "2024-04-21T06:53:16.916357Z"
    }
   }
  },
  {
   "cell_type": "code",
   "execution_count": 24,
   "outputs": [
    {
     "name": "stdout",
     "output_type": "stream",
     "text": [
      "{0: 7789, 1: 179, 2: 270, 3: 122, 4: 188, 5: 155, 6: 403, 7: 105, 8: 129}\n"
     ]
    }
   ],
   "source": [
    "from sklearn.preprocessing import MultiLabelBinarizer\n",
    "\n",
    "X_train, X_test, y_train, y_test = train_test_split(X, y, test_size=0.3, random_state=42)\n",
    "\n",
    "num_class = len(y.unique())\n",
    "\n",
    "class_counts = {label: sum(y_train == label) for label in range(num_class)}\n",
    "print(class_counts)"
   ],
   "metadata": {
    "collapsed": false,
    "ExecuteTime": {
     "end_time": "2024-04-21T06:53:26.296951Z",
     "start_time": "2024-04-21T06:53:26.270011Z"
    }
   }
  },
  {
   "cell_type": "code",
   "execution_count": 25,
   "outputs": [
    {
     "name": "stdout",
     "output_type": "stream",
     "text": [
      "{0: 7789, 1: 537, 2: 810, 3: 366, 4: 564, 5: 465, 6: 1209, 7: 315, 8: 387}\n"
     ]
    }
   ],
   "source": [
    "sampling_strategy = {label:3*sum(y_train == label) for label in range(1, 9)}\n",
    "\n",
    "smote = SMOTE(sampling_strategy=sampling_strategy, random_state=30)\n",
    "X_train_smote, y_train_smote = smote.fit_resample(X_train, y_train)\n",
    "class_counts = {label: sum(y_train_smote == label) for label in range(num_class)}\n",
    "print(class_counts)"
   ],
   "metadata": {
    "collapsed": false,
    "ExecuteTime": {
     "end_time": "2024-04-21T06:53:42.501039Z",
     "start_time": "2024-04-21T06:53:42.106990Z"
    }
   }
  },
  {
   "cell_type": "code",
   "execution_count": 26,
   "outputs": [
    {
     "name": "stdout",
     "output_type": "stream",
     "text": [
      "[0]\tvalidation_0-mlogloss:2.07137\tvalidation_1-mlogloss:2.07204\n",
      "[1]\tvalidation_0-mlogloss:1.96126\tvalidation_1-mlogloss:1.96250\n",
      "[2]\tvalidation_0-mlogloss:1.86286\tvalidation_1-mlogloss:1.86461\n",
      "[3]\tvalidation_0-mlogloss:1.77440\tvalidation_1-mlogloss:1.77662\n",
      "[4]\tvalidation_0-mlogloss:1.69389\tvalidation_1-mlogloss:1.69645\n",
      "[5]\tvalidation_0-mlogloss:1.61985\tvalidation_1-mlogloss:1.62278\n",
      "[6]\tvalidation_0-mlogloss:1.55175\tvalidation_1-mlogloss:1.55501\n",
      "[7]\tvalidation_0-mlogloss:1.48841\tvalidation_1-mlogloss:1.49201\n",
      "[8]\tvalidation_0-mlogloss:1.42954\tvalidation_1-mlogloss:1.43352\n",
      "[9]\tvalidation_0-mlogloss:1.37433\tvalidation_1-mlogloss:1.37851\n",
      "[10]\tvalidation_0-mlogloss:1.32264\tvalidation_1-mlogloss:1.32714\n",
      "[11]\tvalidation_0-mlogloss:1.27387\tvalidation_1-mlogloss:1.27860\n",
      "[12]\tvalidation_0-mlogloss:1.22799\tvalidation_1-mlogloss:1.23290\n",
      "[13]\tvalidation_0-mlogloss:1.18445\tvalidation_1-mlogloss:1.18950\n",
      "[14]\tvalidation_0-mlogloss:1.14318\tvalidation_1-mlogloss:1.14846\n",
      "[15]\tvalidation_0-mlogloss:1.10410\tvalidation_1-mlogloss:1.10950\n",
      "[16]\tvalidation_0-mlogloss:1.06681\tvalidation_1-mlogloss:1.07238\n",
      "[17]\tvalidation_0-mlogloss:1.03129\tvalidation_1-mlogloss:1.03706\n",
      "[18]\tvalidation_0-mlogloss:0.99746\tvalidation_1-mlogloss:1.00343\n",
      "[19]\tvalidation_0-mlogloss:0.96512\tvalidation_1-mlogloss:0.97126\n",
      "[20]\tvalidation_0-mlogloss:0.93418\tvalidation_1-mlogloss:0.94050\n",
      "[21]\tvalidation_0-mlogloss:0.90458\tvalidation_1-mlogloss:0.91104\n",
      "[22]\tvalidation_0-mlogloss:0.87601\tvalidation_1-mlogloss:0.88271\n",
      "[23]\tvalidation_0-mlogloss:0.84883\tvalidation_1-mlogloss:0.85561\n",
      "[24]\tvalidation_0-mlogloss:0.82249\tvalidation_1-mlogloss:0.82950\n",
      "[25]\tvalidation_0-mlogloss:0.79722\tvalidation_1-mlogloss:0.80436\n",
      "[26]\tvalidation_0-mlogloss:0.77296\tvalidation_1-mlogloss:0.78030\n",
      "[27]\tvalidation_0-mlogloss:0.74975\tvalidation_1-mlogloss:0.75724\n",
      "[28]\tvalidation_0-mlogloss:0.72724\tvalidation_1-mlogloss:0.73490\n",
      "[29]\tvalidation_0-mlogloss:0.70558\tvalidation_1-mlogloss:0.71340\n",
      "[30]\tvalidation_0-mlogloss:0.68484\tvalidation_1-mlogloss:0.69281\n",
      "[31]\tvalidation_0-mlogloss:0.66471\tvalidation_1-mlogloss:0.67286\n",
      "[32]\tvalidation_0-mlogloss:0.64529\tvalidation_1-mlogloss:0.65364\n",
      "[33]\tvalidation_0-mlogloss:0.62655\tvalidation_1-mlogloss:0.63504\n",
      "[34]\tvalidation_0-mlogloss:0.60851\tvalidation_1-mlogloss:0.61726\n",
      "[35]\tvalidation_0-mlogloss:0.59110\tvalidation_1-mlogloss:0.60003\n",
      "[36]\tvalidation_0-mlogloss:0.57440\tvalidation_1-mlogloss:0.58346\n",
      "[37]\tvalidation_0-mlogloss:0.55815\tvalidation_1-mlogloss:0.56737\n",
      "[38]\tvalidation_0-mlogloss:0.54237\tvalidation_1-mlogloss:0.55183\n",
      "[39]\tvalidation_0-mlogloss:0.52724\tvalidation_1-mlogloss:0.53685\n",
      "[40]\tvalidation_0-mlogloss:0.51250\tvalidation_1-mlogloss:0.52229\n",
      "[41]\tvalidation_0-mlogloss:0.49825\tvalidation_1-mlogloss:0.50819\n",
      "[42]\tvalidation_0-mlogloss:0.48450\tvalidation_1-mlogloss:0.49464\n",
      "[43]\tvalidation_0-mlogloss:0.47128\tvalidation_1-mlogloss:0.48159\n",
      "[44]\tvalidation_0-mlogloss:0.45842\tvalidation_1-mlogloss:0.46889\n",
      "[45]\tvalidation_0-mlogloss:0.44593\tvalidation_1-mlogloss:0.45660\n",
      "[46]\tvalidation_0-mlogloss:0.43387\tvalidation_1-mlogloss:0.44471\n",
      "[47]\tvalidation_0-mlogloss:0.42221\tvalidation_1-mlogloss:0.43323\n",
      "[48]\tvalidation_0-mlogloss:0.41097\tvalidation_1-mlogloss:0.42216\n",
      "[49]\tvalidation_0-mlogloss:0.40005\tvalidation_1-mlogloss:0.41135\n",
      "[50]\tvalidation_0-mlogloss:0.38948\tvalidation_1-mlogloss:0.40099\n",
      "[51]\tvalidation_0-mlogloss:0.37925\tvalidation_1-mlogloss:0.39091\n",
      "[52]\tvalidation_0-mlogloss:0.36939\tvalidation_1-mlogloss:0.38124\n",
      "[53]\tvalidation_0-mlogloss:0.35976\tvalidation_1-mlogloss:0.37180\n",
      "[54]\tvalidation_0-mlogloss:0.35044\tvalidation_1-mlogloss:0.36262\n",
      "[55]\tvalidation_0-mlogloss:0.34143\tvalidation_1-mlogloss:0.35377\n",
      "[56]\tvalidation_0-mlogloss:0.33270\tvalidation_1-mlogloss:0.34521\n",
      "[57]\tvalidation_0-mlogloss:0.32428\tvalidation_1-mlogloss:0.33694\n",
      "[58]\tvalidation_0-mlogloss:0.31608\tvalidation_1-mlogloss:0.32889\n",
      "[59]\tvalidation_0-mlogloss:0.30818\tvalidation_1-mlogloss:0.32116\n",
      "[60]\tvalidation_0-mlogloss:0.30046\tvalidation_1-mlogloss:0.31358\n",
      "[61]\tvalidation_0-mlogloss:0.29297\tvalidation_1-mlogloss:0.30623\n",
      "[62]\tvalidation_0-mlogloss:0.28570\tvalidation_1-mlogloss:0.29916\n",
      "[63]\tvalidation_0-mlogloss:0.27871\tvalidation_1-mlogloss:0.29229\n",
      "[64]\tvalidation_0-mlogloss:0.27188\tvalidation_1-mlogloss:0.28562\n",
      "[65]\tvalidation_0-mlogloss:0.26525\tvalidation_1-mlogloss:0.27913\n",
      "[66]\tvalidation_0-mlogloss:0.25884\tvalidation_1-mlogloss:0.27284\n",
      "[67]\tvalidation_0-mlogloss:0.25257\tvalidation_1-mlogloss:0.26671\n",
      "[68]\tvalidation_0-mlogloss:0.24649\tvalidation_1-mlogloss:0.26076\n",
      "[69]\tvalidation_0-mlogloss:0.24060\tvalidation_1-mlogloss:0.25505\n",
      "[70]\tvalidation_0-mlogloss:0.23489\tvalidation_1-mlogloss:0.24946\n",
      "[71]\tvalidation_0-mlogloss:0.22933\tvalidation_1-mlogloss:0.24406\n",
      "[72]\tvalidation_0-mlogloss:0.22391\tvalidation_1-mlogloss:0.23873\n",
      "[73]\tvalidation_0-mlogloss:0.21864\tvalidation_1-mlogloss:0.23362\n",
      "[74]\tvalidation_0-mlogloss:0.21349\tvalidation_1-mlogloss:0.22857\n",
      "[75]\tvalidation_0-mlogloss:0.20853\tvalidation_1-mlogloss:0.22376\n",
      "[76]\tvalidation_0-mlogloss:0.20371\tvalidation_1-mlogloss:0.21906\n",
      "[77]\tvalidation_0-mlogloss:0.19903\tvalidation_1-mlogloss:0.21447\n",
      "[78]\tvalidation_0-mlogloss:0.19446\tvalidation_1-mlogloss:0.21004\n",
      "[79]\tvalidation_0-mlogloss:0.19005\tvalidation_1-mlogloss:0.20573\n",
      "[80]\tvalidation_0-mlogloss:0.18575\tvalidation_1-mlogloss:0.20156\n",
      "[81]\tvalidation_0-mlogloss:0.18159\tvalidation_1-mlogloss:0.19755\n",
      "[82]\tvalidation_0-mlogloss:0.17753\tvalidation_1-mlogloss:0.19361\n",
      "[83]\tvalidation_0-mlogloss:0.17360\tvalidation_1-mlogloss:0.18982\n",
      "[84]\tvalidation_0-mlogloss:0.16979\tvalidation_1-mlogloss:0.18615\n",
      "[85]\tvalidation_0-mlogloss:0.16608\tvalidation_1-mlogloss:0.18254\n",
      "[86]\tvalidation_0-mlogloss:0.16248\tvalidation_1-mlogloss:0.17912\n",
      "[87]\tvalidation_0-mlogloss:0.15899\tvalidation_1-mlogloss:0.17575\n",
      "[88]\tvalidation_0-mlogloss:0.15557\tvalidation_1-mlogloss:0.17242\n",
      "[89]\tvalidation_0-mlogloss:0.15225\tvalidation_1-mlogloss:0.16919\n",
      "[90]\tvalidation_0-mlogloss:0.14904\tvalidation_1-mlogloss:0.16614\n",
      "[91]\tvalidation_0-mlogloss:0.14590\tvalidation_1-mlogloss:0.16308\n",
      "[92]\tvalidation_0-mlogloss:0.14287\tvalidation_1-mlogloss:0.16020\n",
      "[93]\tvalidation_0-mlogloss:0.13989\tvalidation_1-mlogloss:0.15733\n",
      "[94]\tvalidation_0-mlogloss:0.13701\tvalidation_1-mlogloss:0.15458\n",
      "[95]\tvalidation_0-mlogloss:0.13423\tvalidation_1-mlogloss:0.15192\n",
      "[96]\tvalidation_0-mlogloss:0.13150\tvalidation_1-mlogloss:0.14932\n",
      "[97]\tvalidation_0-mlogloss:0.12886\tvalidation_1-mlogloss:0.14681\n",
      "[98]\tvalidation_0-mlogloss:0.12628\tvalidation_1-mlogloss:0.14439\n",
      "[99]\tvalidation_0-mlogloss:0.12378\tvalidation_1-mlogloss:0.14201\n",
      "[100]\tvalidation_0-mlogloss:0.12136\tvalidation_1-mlogloss:0.13976\n",
      "[101]\tvalidation_0-mlogloss:0.11898\tvalidation_1-mlogloss:0.13752\n",
      "[102]\tvalidation_0-mlogloss:0.11667\tvalidation_1-mlogloss:0.13536\n",
      "[103]\tvalidation_0-mlogloss:0.11444\tvalidation_1-mlogloss:0.13325\n",
      "[104]\tvalidation_0-mlogloss:0.11226\tvalidation_1-mlogloss:0.13130\n",
      "[105]\tvalidation_0-mlogloss:0.11014\tvalidation_1-mlogloss:0.12928\n",
      "[106]\tvalidation_0-mlogloss:0.10808\tvalidation_1-mlogloss:0.12739\n",
      "[107]\tvalidation_0-mlogloss:0.10607\tvalidation_1-mlogloss:0.12549\n",
      "[108]\tvalidation_0-mlogloss:0.10412\tvalidation_1-mlogloss:0.12367\n",
      "[109]\tvalidation_0-mlogloss:0.10224\tvalidation_1-mlogloss:0.12193\n",
      "[110]\tvalidation_0-mlogloss:0.10038\tvalidation_1-mlogloss:0.12025\n",
      "[111]\tvalidation_0-mlogloss:0.09860\tvalidation_1-mlogloss:0.11859\n",
      "[112]\tvalidation_0-mlogloss:0.09685\tvalidation_1-mlogloss:0.11702\n",
      "[113]\tvalidation_0-mlogloss:0.09515\tvalidation_1-mlogloss:0.11544\n",
      "[114]\tvalidation_0-mlogloss:0.09351\tvalidation_1-mlogloss:0.11395\n",
      "[115]\tvalidation_0-mlogloss:0.09189\tvalidation_1-mlogloss:0.11245\n",
      "[116]\tvalidation_0-mlogloss:0.09033\tvalidation_1-mlogloss:0.11106\n",
      "[117]\tvalidation_0-mlogloss:0.08876\tvalidation_1-mlogloss:0.10966\n",
      "[118]\tvalidation_0-mlogloss:0.08727\tvalidation_1-mlogloss:0.10823\n",
      "[119]\tvalidation_0-mlogloss:0.08581\tvalidation_1-mlogloss:0.10694\n",
      "[120]\tvalidation_0-mlogloss:0.08441\tvalidation_1-mlogloss:0.10566\n",
      "[121]\tvalidation_0-mlogloss:0.08303\tvalidation_1-mlogloss:0.10438\n",
      "[122]\tvalidation_0-mlogloss:0.08169\tvalidation_1-mlogloss:0.10316\n",
      "[123]\tvalidation_0-mlogloss:0.08035\tvalidation_1-mlogloss:0.10195\n",
      "[124]\tvalidation_0-mlogloss:0.07909\tvalidation_1-mlogloss:0.10083\n",
      "[125]\tvalidation_0-mlogloss:0.07785\tvalidation_1-mlogloss:0.09971\n",
      "[126]\tvalidation_0-mlogloss:0.07661\tvalidation_1-mlogloss:0.09860\n",
      "[127]\tvalidation_0-mlogloss:0.07544\tvalidation_1-mlogloss:0.09758\n",
      "[128]\tvalidation_0-mlogloss:0.07430\tvalidation_1-mlogloss:0.09654\n",
      "[129]\tvalidation_0-mlogloss:0.07319\tvalidation_1-mlogloss:0.09558\n",
      "[130]\tvalidation_0-mlogloss:0.07207\tvalidation_1-mlogloss:0.09462\n",
      "[131]\tvalidation_0-mlogloss:0.07101\tvalidation_1-mlogloss:0.09368\n",
      "[132]\tvalidation_0-mlogloss:0.06999\tvalidation_1-mlogloss:0.09278\n",
      "[133]\tvalidation_0-mlogloss:0.06899\tvalidation_1-mlogloss:0.09193\n",
      "[134]\tvalidation_0-mlogloss:0.06801\tvalidation_1-mlogloss:0.09110\n",
      "[135]\tvalidation_0-mlogloss:0.06706\tvalidation_1-mlogloss:0.09029\n",
      "[136]\tvalidation_0-mlogloss:0.06615\tvalidation_1-mlogloss:0.08946\n",
      "[137]\tvalidation_0-mlogloss:0.06523\tvalidation_1-mlogloss:0.08869\n",
      "[138]\tvalidation_0-mlogloss:0.06436\tvalidation_1-mlogloss:0.08793\n",
      "[139]\tvalidation_0-mlogloss:0.06351\tvalidation_1-mlogloss:0.08721\n",
      "[140]\tvalidation_0-mlogloss:0.06263\tvalidation_1-mlogloss:0.08649\n",
      "[141]\tvalidation_0-mlogloss:0.06182\tvalidation_1-mlogloss:0.08580\n",
      "[142]\tvalidation_0-mlogloss:0.06101\tvalidation_1-mlogloss:0.08516\n",
      "[143]\tvalidation_0-mlogloss:0.06024\tvalidation_1-mlogloss:0.08449\n",
      "[144]\tvalidation_0-mlogloss:0.05948\tvalidation_1-mlogloss:0.08391\n",
      "[145]\tvalidation_0-mlogloss:0.05875\tvalidation_1-mlogloss:0.08331\n",
      "[146]\tvalidation_0-mlogloss:0.05798\tvalidation_1-mlogloss:0.08271\n",
      "[147]\tvalidation_0-mlogloss:0.05727\tvalidation_1-mlogloss:0.08214\n",
      "[148]\tvalidation_0-mlogloss:0.05657\tvalidation_1-mlogloss:0.08159\n",
      "[149]\tvalidation_0-mlogloss:0.05587\tvalidation_1-mlogloss:0.08100\n",
      "[150]\tvalidation_0-mlogloss:0.05520\tvalidation_1-mlogloss:0.08044\n",
      "[151]\tvalidation_0-mlogloss:0.05452\tvalidation_1-mlogloss:0.07994\n",
      "[152]\tvalidation_0-mlogloss:0.05390\tvalidation_1-mlogloss:0.07942\n",
      "[153]\tvalidation_0-mlogloss:0.05327\tvalidation_1-mlogloss:0.07897\n",
      "[154]\tvalidation_0-mlogloss:0.05268\tvalidation_1-mlogloss:0.07848\n",
      "[155]\tvalidation_0-mlogloss:0.05207\tvalidation_1-mlogloss:0.07797\n",
      "[156]\tvalidation_0-mlogloss:0.05150\tvalidation_1-mlogloss:0.07752\n",
      "[157]\tvalidation_0-mlogloss:0.05093\tvalidation_1-mlogloss:0.07707\n",
      "[158]\tvalidation_0-mlogloss:0.05035\tvalidation_1-mlogloss:0.07666\n",
      "[159]\tvalidation_0-mlogloss:0.04980\tvalidation_1-mlogloss:0.07620\n",
      "[160]\tvalidation_0-mlogloss:0.04927\tvalidation_1-mlogloss:0.07582\n",
      "[161]\tvalidation_0-mlogloss:0.04876\tvalidation_1-mlogloss:0.07541\n",
      "[162]\tvalidation_0-mlogloss:0.04823\tvalidation_1-mlogloss:0.07506\n",
      "[163]\tvalidation_0-mlogloss:0.04773\tvalidation_1-mlogloss:0.07468\n",
      "[164]\tvalidation_0-mlogloss:0.04726\tvalidation_1-mlogloss:0.07431\n",
      "[165]\tvalidation_0-mlogloss:0.04678\tvalidation_1-mlogloss:0.07396\n",
      "[166]\tvalidation_0-mlogloss:0.04630\tvalidation_1-mlogloss:0.07361\n",
      "[167]\tvalidation_0-mlogloss:0.04584\tvalidation_1-mlogloss:0.07329\n",
      "[168]\tvalidation_0-mlogloss:0.04540\tvalidation_1-mlogloss:0.07294\n",
      "[169]\tvalidation_0-mlogloss:0.04494\tvalidation_1-mlogloss:0.07264\n",
      "[170]\tvalidation_0-mlogloss:0.04452\tvalidation_1-mlogloss:0.07232\n",
      "[171]\tvalidation_0-mlogloss:0.04410\tvalidation_1-mlogloss:0.07204\n",
      "[172]\tvalidation_0-mlogloss:0.04369\tvalidation_1-mlogloss:0.07175\n",
      "[173]\tvalidation_0-mlogloss:0.04327\tvalidation_1-mlogloss:0.07145\n",
      "[174]\tvalidation_0-mlogloss:0.04288\tvalidation_1-mlogloss:0.07115\n",
      "[175]\tvalidation_0-mlogloss:0.04249\tvalidation_1-mlogloss:0.07087\n",
      "[176]\tvalidation_0-mlogloss:0.04209\tvalidation_1-mlogloss:0.07063\n",
      "[177]\tvalidation_0-mlogloss:0.04174\tvalidation_1-mlogloss:0.07034\n",
      "[178]\tvalidation_0-mlogloss:0.04136\tvalidation_1-mlogloss:0.07011\n",
      "[179]\tvalidation_0-mlogloss:0.04100\tvalidation_1-mlogloss:0.06990\n",
      "[180]\tvalidation_0-mlogloss:0.04068\tvalidation_1-mlogloss:0.06964\n",
      "[181]\tvalidation_0-mlogloss:0.04033\tvalidation_1-mlogloss:0.06938\n",
      "[182]\tvalidation_0-mlogloss:0.03997\tvalidation_1-mlogloss:0.06914\n",
      "[183]\tvalidation_0-mlogloss:0.03966\tvalidation_1-mlogloss:0.06890\n",
      "[184]\tvalidation_0-mlogloss:0.03932\tvalidation_1-mlogloss:0.06867\n",
      "[185]\tvalidation_0-mlogloss:0.03902\tvalidation_1-mlogloss:0.06847\n",
      "[186]\tvalidation_0-mlogloss:0.03871\tvalidation_1-mlogloss:0.06824\n",
      "[187]\tvalidation_0-mlogloss:0.03842\tvalidation_1-mlogloss:0.06801\n",
      "[188]\tvalidation_0-mlogloss:0.03811\tvalidation_1-mlogloss:0.06778\n",
      "[189]\tvalidation_0-mlogloss:0.03780\tvalidation_1-mlogloss:0.06757\n",
      "[190]\tvalidation_0-mlogloss:0.03752\tvalidation_1-mlogloss:0.06737\n",
      "[191]\tvalidation_0-mlogloss:0.03721\tvalidation_1-mlogloss:0.06720\n",
      "[192]\tvalidation_0-mlogloss:0.03694\tvalidation_1-mlogloss:0.06704\n",
      "[193]\tvalidation_0-mlogloss:0.03666\tvalidation_1-mlogloss:0.06687\n",
      "[194]\tvalidation_0-mlogloss:0.03639\tvalidation_1-mlogloss:0.06667\n",
      "[195]\tvalidation_0-mlogloss:0.03612\tvalidation_1-mlogloss:0.06652\n",
      "[196]\tvalidation_0-mlogloss:0.03586\tvalidation_1-mlogloss:0.06633\n",
      "[197]\tvalidation_0-mlogloss:0.03559\tvalidation_1-mlogloss:0.06621\n",
      "[198]\tvalidation_0-mlogloss:0.03533\tvalidation_1-mlogloss:0.06609\n",
      "[199]\tvalidation_0-mlogloss:0.03507\tvalidation_1-mlogloss:0.06597\n",
      "[200]\tvalidation_0-mlogloss:0.03483\tvalidation_1-mlogloss:0.06583\n",
      "[201]\tvalidation_0-mlogloss:0.03460\tvalidation_1-mlogloss:0.06567\n",
      "[202]\tvalidation_0-mlogloss:0.03436\tvalidation_1-mlogloss:0.06553\n",
      "[203]\tvalidation_0-mlogloss:0.03411\tvalidation_1-mlogloss:0.06544\n",
      "[204]\tvalidation_0-mlogloss:0.03389\tvalidation_1-mlogloss:0.06533\n",
      "[205]\tvalidation_0-mlogloss:0.03366\tvalidation_1-mlogloss:0.06522\n",
      "[206]\tvalidation_0-mlogloss:0.03343\tvalidation_1-mlogloss:0.06511\n",
      "[207]\tvalidation_0-mlogloss:0.03322\tvalidation_1-mlogloss:0.06499\n",
      "[208]\tvalidation_0-mlogloss:0.03299\tvalidation_1-mlogloss:0.06488\n",
      "[209]\tvalidation_0-mlogloss:0.03276\tvalidation_1-mlogloss:0.06482\n",
      "[210]\tvalidation_0-mlogloss:0.03254\tvalidation_1-mlogloss:0.06472\n",
      "[211]\tvalidation_0-mlogloss:0.03233\tvalidation_1-mlogloss:0.06466\n",
      "[212]\tvalidation_0-mlogloss:0.03213\tvalidation_1-mlogloss:0.06457\n",
      "[213]\tvalidation_0-mlogloss:0.03191\tvalidation_1-mlogloss:0.06451\n",
      "[214]\tvalidation_0-mlogloss:0.03172\tvalidation_1-mlogloss:0.06439\n",
      "[215]\tvalidation_0-mlogloss:0.03152\tvalidation_1-mlogloss:0.06432\n",
      "[216]\tvalidation_0-mlogloss:0.03132\tvalidation_1-mlogloss:0.06426\n",
      "[217]\tvalidation_0-mlogloss:0.03114\tvalidation_1-mlogloss:0.06418\n",
      "[218]\tvalidation_0-mlogloss:0.03094\tvalidation_1-mlogloss:0.06412\n",
      "[219]\tvalidation_0-mlogloss:0.03077\tvalidation_1-mlogloss:0.06401\n",
      "[220]\tvalidation_0-mlogloss:0.03059\tvalidation_1-mlogloss:0.06394\n",
      "[221]\tvalidation_0-mlogloss:0.03041\tvalidation_1-mlogloss:0.06389\n",
      "[222]\tvalidation_0-mlogloss:0.03024\tvalidation_1-mlogloss:0.06381\n",
      "[223]\tvalidation_0-mlogloss:0.03007\tvalidation_1-mlogloss:0.06374\n",
      "[224]\tvalidation_0-mlogloss:0.02989\tvalidation_1-mlogloss:0.06369\n",
      "[225]\tvalidation_0-mlogloss:0.02973\tvalidation_1-mlogloss:0.06365\n",
      "[226]\tvalidation_0-mlogloss:0.02959\tvalidation_1-mlogloss:0.06361\n",
      "[227]\tvalidation_0-mlogloss:0.02941\tvalidation_1-mlogloss:0.06355\n",
      "[228]\tvalidation_0-mlogloss:0.02925\tvalidation_1-mlogloss:0.06351\n",
      "[229]\tvalidation_0-mlogloss:0.02909\tvalidation_1-mlogloss:0.06341\n",
      "[230]\tvalidation_0-mlogloss:0.02892\tvalidation_1-mlogloss:0.06339\n",
      "[231]\tvalidation_0-mlogloss:0.02878\tvalidation_1-mlogloss:0.06338\n",
      "[232]\tvalidation_0-mlogloss:0.02864\tvalidation_1-mlogloss:0.06329\n",
      "[233]\tvalidation_0-mlogloss:0.02848\tvalidation_1-mlogloss:0.06329\n",
      "[234]\tvalidation_0-mlogloss:0.02832\tvalidation_1-mlogloss:0.06324\n",
      "[235]\tvalidation_0-mlogloss:0.02818\tvalidation_1-mlogloss:0.06320\n",
      "[236]\tvalidation_0-mlogloss:0.02803\tvalidation_1-mlogloss:0.06315\n",
      "[237]\tvalidation_0-mlogloss:0.02789\tvalidation_1-mlogloss:0.06313\n",
      "[238]\tvalidation_0-mlogloss:0.02774\tvalidation_1-mlogloss:0.06306\n",
      "[239]\tvalidation_0-mlogloss:0.02760\tvalidation_1-mlogloss:0.06303\n",
      "[240]\tvalidation_0-mlogloss:0.02747\tvalidation_1-mlogloss:0.06301\n",
      "[241]\tvalidation_0-mlogloss:0.02734\tvalidation_1-mlogloss:0.06299\n",
      "[242]\tvalidation_0-mlogloss:0.02720\tvalidation_1-mlogloss:0.06295\n",
      "[243]\tvalidation_0-mlogloss:0.02707\tvalidation_1-mlogloss:0.06293\n",
      "[244]\tvalidation_0-mlogloss:0.02695\tvalidation_1-mlogloss:0.06289\n",
      "[245]\tvalidation_0-mlogloss:0.02681\tvalidation_1-mlogloss:0.06285\n",
      "[246]\tvalidation_0-mlogloss:0.02668\tvalidation_1-mlogloss:0.06281\n",
      "[247]\tvalidation_0-mlogloss:0.02656\tvalidation_1-mlogloss:0.06277\n",
      "[248]\tvalidation_0-mlogloss:0.02643\tvalidation_1-mlogloss:0.06274\n",
      "[249]\tvalidation_0-mlogloss:0.02631\tvalidation_1-mlogloss:0.06272\n",
      "[250]\tvalidation_0-mlogloss:0.02619\tvalidation_1-mlogloss:0.06270\n",
      "[251]\tvalidation_0-mlogloss:0.02608\tvalidation_1-mlogloss:0.06269\n",
      "[252]\tvalidation_0-mlogloss:0.02596\tvalidation_1-mlogloss:0.06264\n",
      "[253]\tvalidation_0-mlogloss:0.02585\tvalidation_1-mlogloss:0.06261\n",
      "[254]\tvalidation_0-mlogloss:0.02574\tvalidation_1-mlogloss:0.06261\n",
      "[255]\tvalidation_0-mlogloss:0.02564\tvalidation_1-mlogloss:0.06257\n",
      "[256]\tvalidation_0-mlogloss:0.02553\tvalidation_1-mlogloss:0.06257\n",
      "[257]\tvalidation_0-mlogloss:0.02543\tvalidation_1-mlogloss:0.06257\n",
      "[258]\tvalidation_0-mlogloss:0.02532\tvalidation_1-mlogloss:0.06257\n",
      "[259]\tvalidation_0-mlogloss:0.02521\tvalidation_1-mlogloss:0.06255\n",
      "[260]\tvalidation_0-mlogloss:0.02510\tvalidation_1-mlogloss:0.06255\n",
      "[261]\tvalidation_0-mlogloss:0.02498\tvalidation_1-mlogloss:0.06253\n",
      "[262]\tvalidation_0-mlogloss:0.02488\tvalidation_1-mlogloss:0.06254\n",
      "[263]\tvalidation_0-mlogloss:0.02477\tvalidation_1-mlogloss:0.06253\n",
      "[264]\tvalidation_0-mlogloss:0.02467\tvalidation_1-mlogloss:0.06253\n",
      "[265]\tvalidation_0-mlogloss:0.02456\tvalidation_1-mlogloss:0.06251\n",
      "[266]\tvalidation_0-mlogloss:0.02445\tvalidation_1-mlogloss:0.06251\n",
      "[267]\tvalidation_0-mlogloss:0.02435\tvalidation_1-mlogloss:0.06249\n",
      "[268]\tvalidation_0-mlogloss:0.02425\tvalidation_1-mlogloss:0.06249\n",
      "[269]\tvalidation_0-mlogloss:0.02415\tvalidation_1-mlogloss:0.06250\n",
      "[270]\tvalidation_0-mlogloss:0.02406\tvalidation_1-mlogloss:0.06252\n",
      "[271]\tvalidation_0-mlogloss:0.02396\tvalidation_1-mlogloss:0.06253\n",
      "[272]\tvalidation_0-mlogloss:0.02385\tvalidation_1-mlogloss:0.06253\n",
      "[273]\tvalidation_0-mlogloss:0.02377\tvalidation_1-mlogloss:0.06253\n",
      "[274]\tvalidation_0-mlogloss:0.02367\tvalidation_1-mlogloss:0.06254\n",
      "[275]\tvalidation_0-mlogloss:0.02357\tvalidation_1-mlogloss:0.06255\n",
      "[276]\tvalidation_0-mlogloss:0.02348\tvalidation_1-mlogloss:0.06256\n",
      "[277]\tvalidation_0-mlogloss:0.02339\tvalidation_1-mlogloss:0.06256\n",
      "[278]\tvalidation_0-mlogloss:0.02330\tvalidation_1-mlogloss:0.06257\n",
      "[279]\tvalidation_0-mlogloss:0.02323\tvalidation_1-mlogloss:0.06260\n",
      "[280]\tvalidation_0-mlogloss:0.02314\tvalidation_1-mlogloss:0.06262\n",
      "[281]\tvalidation_0-mlogloss:0.02304\tvalidation_1-mlogloss:0.06262\n",
      "[282]\tvalidation_0-mlogloss:0.02296\tvalidation_1-mlogloss:0.06264\n",
      "[283]\tvalidation_0-mlogloss:0.02288\tvalidation_1-mlogloss:0.06263\n",
      "[284]\tvalidation_0-mlogloss:0.02280\tvalidation_1-mlogloss:0.06263\n",
      "[285]\tvalidation_0-mlogloss:0.02271\tvalidation_1-mlogloss:0.06266\n",
      "[286]\tvalidation_0-mlogloss:0.02263\tvalidation_1-mlogloss:0.06268\n",
      "[287]\tvalidation_0-mlogloss:0.02254\tvalidation_1-mlogloss:0.06272\n",
      "[288]\tvalidation_0-mlogloss:0.02246\tvalidation_1-mlogloss:0.06274\n",
      "[289]\tvalidation_0-mlogloss:0.02239\tvalidation_1-mlogloss:0.06273\n",
      "[290]\tvalidation_0-mlogloss:0.02230\tvalidation_1-mlogloss:0.06275\n",
      "[291]\tvalidation_0-mlogloss:0.02221\tvalidation_1-mlogloss:0.06278\n",
      "[292]\tvalidation_0-mlogloss:0.02213\tvalidation_1-mlogloss:0.06280\n",
      "[293]\tvalidation_0-mlogloss:0.02204\tvalidation_1-mlogloss:0.06282\n",
      "[294]\tvalidation_0-mlogloss:0.02196\tvalidation_1-mlogloss:0.06282\n",
      "[295]\tvalidation_0-mlogloss:0.02189\tvalidation_1-mlogloss:0.06282\n",
      "[296]\tvalidation_0-mlogloss:0.02180\tvalidation_1-mlogloss:0.06288\n",
      "[297]\tvalidation_0-mlogloss:0.02172\tvalidation_1-mlogloss:0.06287\n",
      "[298]\tvalidation_0-mlogloss:0.02165\tvalidation_1-mlogloss:0.06287\n",
      "[299]\tvalidation_0-mlogloss:0.02156\tvalidation_1-mlogloss:0.06290\n"
     ]
    }
   ],
   "source": [
    "model = xgb.XGBClassifier(\n",
    "    objective='multi:softprob',\n",
    "    eval_metric='mlogloss',\n",
    "    num_class=num_class,\n",
    "    max_depth = 4,\n",
    "    n_estimators = 300,\n",
    "    eta = 0.03,\n",
    ")\n",
    "\n",
    "model.fit(X_train, y_train, eval_set=[(X_train, y_train), (X_test, y_test)], verbose=True)\n",
    "y_pred = model.predict(X_test)\n",
    "\n",
    "accuracy = accuracy_score(y_test, y_pred)\n"
   ],
   "metadata": {
    "collapsed": false,
    "ExecuteTime": {
     "end_time": "2024-04-21T06:54:01.201312Z",
     "start_time": "2024-04-21T06:53:57.454457Z"
    }
   }
  },
  {
   "cell_type": "code",
   "execution_count": 30,
   "outputs": [],
   "source": [
    "MODELS_PATH = os.path.join(\"..\",\"store\",\"models\")\n",
    "model.save_model(os.path.join(MODELS_PATH,\"xgboost.json\"))"
   ],
   "metadata": {
    "collapsed": false,
    "ExecuteTime": {
     "end_time": "2024-04-21T06:56:08.911099Z",
     "start_time": "2024-04-21T06:56:08.874941Z"
    }
   }
  },
  {
   "cell_type": "markdown",
   "source": [
    "# Evaluation"
   ],
   "metadata": {
    "collapsed": false
   }
  },
  {
   "cell_type": "code",
   "execution_count": 27,
   "outputs": [
    {
     "name": "stdout",
     "output_type": "stream",
     "text": [
      "              precision    recall  f1-score   support\n",
      "\n",
      "           0       0.99      1.00      0.99      3331\n",
      "           1       0.92      0.86      0.89       103\n",
      "           2       0.87      0.88      0.87       113\n",
      "           3       0.91      0.91      0.91        65\n",
      "           4       0.82      0.88      0.85        64\n",
      "           5       0.94      0.73      0.82        64\n",
      "           6       0.94      0.91      0.93       165\n",
      "           7       0.92      0.79      0.85        43\n",
      "           8       0.94      0.82      0.88        56\n",
      "\n",
      "    accuracy                           0.98      4004\n",
      "   macro avg       0.92      0.86      0.89      4004\n",
      "weighted avg       0.98      0.98      0.97      4004\n",
      "\n"
     ]
    }
   ],
   "source": [
    "from sklearn.metrics import classification_report\n",
    "report = classification_report(y_test, y_pred)\n",
    "print(report)"
   ],
   "metadata": {
    "collapsed": false,
    "ExecuteTime": {
     "end_time": "2024-04-21T06:54:14.729514Z",
     "start_time": "2024-04-21T06:54:14.717040Z"
    }
   }
  },
  {
   "cell_type": "code",
   "execution_count": 32,
   "outputs": [
    {
     "name": "stdout",
     "output_type": "stream",
     "text": [
      "sample0 ：NoProb，：1.00\n",
      "sample1 ：NoProb，：1.00\n",
      "sample2 ：NoProb，：1.00\n",
      "sample3 ：NoProb，：0.98\n",
      "sample4 ：NoProb，：0.89\n",
      "sample5 ：NoProb，：1.00\n",
      "sample6 ：NoProb，：0.96\n",
      "sample7 ：NoProb，：1.00\n",
      "sample8 ：NoProb，：1.00\n",
      "sample9 ：NoProb，：1.00\n"
     ]
    }
   ],
   "source": [
    "import numpy as np\n",
    "\n",
    "y_pred_proba = model.predict_proba(X_test)\n",
    "\n",
    "categories = ['NoProb', 'comp1', 'comp2', 'comp3', 'comp4', 'error1', 'error2', 'error3&4', 'error5']\n",
    "\n",
    "for i in range(10):\n",
    "    sample_probs = y_pred_proba[i]\n",
    "\n",
    "    max_prob_index = np.argmax(sample_probs)\n",
    "\n",
    "    predicted_category = categories[max_prob_index]\n",
    "\n",
    "    max_prob = sample_probs[max_prob_index]\n",
    "\n",
    "    print(f\"sample{i} ：{predicted_category}，：{max_prob:.2f}\")"
   ],
   "metadata": {
    "collapsed": false,
    "ExecuteTime": {
     "end_time": "2024-04-21T06:57:54.564335Z",
     "start_time": "2024-04-21T06:57:54.548483Z"
    }
   }
  },
  {
   "cell_type": "code",
   "execution_count": 34,
   "outputs": [
    {
     "name": "stdout",
     "output_type": "stream",
     "text": [
      "Accuracy: 97.55%\n"
     ]
    }
   ],
   "source": [
    "from sklearn.metrics import accuracy_score\n",
    "predictions = [round(value) for value in y_pred]\n",
    "# evaluate predictions\n",
    "accuracy = accuracy_score(y_test, predictions)\n",
    "print(\"Accuracy: %.2f%%\" % (accuracy * 100.0))\n",
    "\n"
   ],
   "metadata": {
    "collapsed": false,
    "ExecuteTime": {
     "end_time": "2024-04-21T07:00:24.416301Z",
     "start_time": "2024-04-21T07:00:24.396593Z"
    }
   }
  },
  {
   "cell_type": "code",
   "execution_count": 35,
   "outputs": [
    {
     "data": {
      "text/plain": "       machineID        volt      rotate    pressure  vibration  \\\n5587          33  164.490083  434.203971  101.690046  39.978717   \n9986          17  167.210122  452.690682   98.532404  40.550367   \n2542          68  173.705672  441.318502  101.880228  41.682257   \n4556          30  166.926244  457.042173  124.905513  39.713750   \n24840          7  170.219520  463.474487  101.377489  49.593206   \n\n       time_since_last_comp1  time_since_last_comp2  time_since_last_comp3  \\\n5587                     9.0                  178.0                    9.0   \n9986                    52.0                    7.0                   22.0   \n2542                     8.0                   43.0                   58.0   \n4556                   228.0                    6.0                  198.0   \n24840                  113.0                    8.0                   38.0   \n\n       time_since_last_comp4  time_since_last_error1  ...  errorID_error3_x  \\\n5587                    24.0               25.000000  ...               0.0   \n9986                     7.0               17.000000  ...               0.0   \n2542                     8.0                7.666667  ...               0.0   \n4556                     6.0                0.833333  ...               0.0   \n24840                  113.0               18.750000  ...               0.0   \n\n       errorID_error4_x  errorID_error5_x  errorID_error1_y  errorID_error2_y  \\\n5587                0.0               0.0                 9                10   \n9986                0.0               0.0                11                15   \n2542                0.0               0.0                11                 8   \n4556                0.0               0.0                12                11   \n24840               1.0               0.0                 8                13   \n\n       errorID_error3_y  errorID_error4_y  errorID_error5_y  model  age  \n5587                  7                 4                 7      2   14  \n9986                 10                 9                 4      0   14  \n2542                 13                 5                 1      2   10  \n4556                  5                 7                 5      2   20  \n24840                11                 4                 3      2   20  \n\n[5 rows x 26 columns]",
      "text/html": "<div>\n<style scoped>\n    .dataframe tbody tr th:only-of-type {\n        vertical-align: middle;\n    }\n\n    .dataframe tbody tr th {\n        vertical-align: top;\n    }\n\n    .dataframe thead th {\n        text-align: right;\n    }\n</style>\n<table border=\"1\" class=\"dataframe\">\n  <thead>\n    <tr style=\"text-align: right;\">\n      <th></th>\n      <th>machineID</th>\n      <th>volt</th>\n      <th>rotate</th>\n      <th>pressure</th>\n      <th>vibration</th>\n      <th>time_since_last_comp1</th>\n      <th>time_since_last_comp2</th>\n      <th>time_since_last_comp3</th>\n      <th>time_since_last_comp4</th>\n      <th>time_since_last_error1</th>\n      <th>...</th>\n      <th>errorID_error3_x</th>\n      <th>errorID_error4_x</th>\n      <th>errorID_error5_x</th>\n      <th>errorID_error1_y</th>\n      <th>errorID_error2_y</th>\n      <th>errorID_error3_y</th>\n      <th>errorID_error4_y</th>\n      <th>errorID_error5_y</th>\n      <th>model</th>\n      <th>age</th>\n    </tr>\n  </thead>\n  <tbody>\n    <tr>\n      <th>5587</th>\n      <td>33</td>\n      <td>164.490083</td>\n      <td>434.203971</td>\n      <td>101.690046</td>\n      <td>39.978717</td>\n      <td>9.0</td>\n      <td>178.0</td>\n      <td>9.0</td>\n      <td>24.0</td>\n      <td>25.000000</td>\n      <td>...</td>\n      <td>0.0</td>\n      <td>0.0</td>\n      <td>0.0</td>\n      <td>9</td>\n      <td>10</td>\n      <td>7</td>\n      <td>4</td>\n      <td>7</td>\n      <td>2</td>\n      <td>14</td>\n    </tr>\n    <tr>\n      <th>9986</th>\n      <td>17</td>\n      <td>167.210122</td>\n      <td>452.690682</td>\n      <td>98.532404</td>\n      <td>40.550367</td>\n      <td>52.0</td>\n      <td>7.0</td>\n      <td>22.0</td>\n      <td>7.0</td>\n      <td>17.000000</td>\n      <td>...</td>\n      <td>0.0</td>\n      <td>0.0</td>\n      <td>0.0</td>\n      <td>11</td>\n      <td>15</td>\n      <td>10</td>\n      <td>9</td>\n      <td>4</td>\n      <td>0</td>\n      <td>14</td>\n    </tr>\n    <tr>\n      <th>2542</th>\n      <td>68</td>\n      <td>173.705672</td>\n      <td>441.318502</td>\n      <td>101.880228</td>\n      <td>41.682257</td>\n      <td>8.0</td>\n      <td>43.0</td>\n      <td>58.0</td>\n      <td>8.0</td>\n      <td>7.666667</td>\n      <td>...</td>\n      <td>0.0</td>\n      <td>0.0</td>\n      <td>0.0</td>\n      <td>11</td>\n      <td>8</td>\n      <td>13</td>\n      <td>5</td>\n      <td>1</td>\n      <td>2</td>\n      <td>10</td>\n    </tr>\n    <tr>\n      <th>4556</th>\n      <td>30</td>\n      <td>166.926244</td>\n      <td>457.042173</td>\n      <td>124.905513</td>\n      <td>39.713750</td>\n      <td>228.0</td>\n      <td>6.0</td>\n      <td>198.0</td>\n      <td>6.0</td>\n      <td>0.833333</td>\n      <td>...</td>\n      <td>0.0</td>\n      <td>0.0</td>\n      <td>0.0</td>\n      <td>12</td>\n      <td>11</td>\n      <td>5</td>\n      <td>7</td>\n      <td>5</td>\n      <td>2</td>\n      <td>20</td>\n    </tr>\n    <tr>\n      <th>24840</th>\n      <td>7</td>\n      <td>170.219520</td>\n      <td>463.474487</td>\n      <td>101.377489</td>\n      <td>49.593206</td>\n      <td>113.0</td>\n      <td>8.0</td>\n      <td>38.0</td>\n      <td>113.0</td>\n      <td>18.750000</td>\n      <td>...</td>\n      <td>0.0</td>\n      <td>1.0</td>\n      <td>0.0</td>\n      <td>8</td>\n      <td>13</td>\n      <td>11</td>\n      <td>4</td>\n      <td>3</td>\n      <td>2</td>\n      <td>20</td>\n    </tr>\n  </tbody>\n</table>\n<p>5 rows × 26 columns</p>\n</div>"
     },
     "execution_count": 35,
     "metadata": {},
     "output_type": "execute_result"
    }
   ],
   "source": [
    "X_test.head()"
   ],
   "metadata": {
    "collapsed": false,
    "ExecuteTime": {
     "end_time": "2024-04-21T07:00:41.063932Z",
     "start_time": "2024-04-21T07:00:41.048419Z"
    }
   }
  }
 ],
 "metadata": {
  "kernelspec": {
   "display_name": "Python 3",
   "language": "python",
   "name": "python3"
  },
  "language_info": {
   "codemirror_mode": {
    "name": "ipython",
    "version": 2
   },
   "file_extension": ".py",
   "mimetype": "text/x-python",
   "name": "python",
   "nbconvert_exporter": "python",
   "pygments_lexer": "ipython2",
   "version": "2.7.6"
  }
 },
 "nbformat": 4,
 "nbformat_minor": 0
}
